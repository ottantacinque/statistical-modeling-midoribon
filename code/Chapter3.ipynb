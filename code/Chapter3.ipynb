{
 "cells": [
  {
   "cell_type": "code",
   "execution_count": 1,
   "id": "6ee4be57",
   "metadata": {},
   "outputs": [],
   "source": [
    "import pandas as pd\n",
    "import numpy as np\n",
    "import matplotlib.pyplot as plt\n",
    "\n",
    "import statsmodels.api as sm\n",
    "import statsmodels.formula.api as smf\n",
    "\n",
    "%matplotlib inline"
   ]
  },
  {
   "cell_type": "markdown",
   "id": "4c31bf71",
   "metadata": {},
   "source": [
    "## 3.2 観測されたデータの概要を調べる"
   ]
  },
  {
   "cell_type": "code",
   "execution_count": 7,
   "id": "189b28f8",
   "metadata": {},
   "outputs": [
    {
     "name": "stdout",
     "output_type": "stream",
     "text": [
      "     y      x  f\n",
      "0    6   8.31  C\n",
      "1    6   9.44  C\n",
      "2    6   9.50  C\n",
      "3   12   9.07  C\n",
      "4   10  10.16  C\n",
      "..  ..    ... ..\n",
      "95   8   9.15  T\n",
      "96   6   8.52  T\n",
      "97   8  10.24  T\n",
      "98   7  10.86  T\n",
      "99   9   9.97  T\n",
      "\n",
      "[100 rows x 3 columns]\n"
     ]
    },
    {
     "data": {
      "text/plain": [
       "'R\\nd <- read.csv(\"data3a.csv\")\\n\\nd$x\\nd$y\\nd$f\\n'"
      ]
     },
     "execution_count": 7,
     "metadata": {},
     "output_type": "execute_result"
    }
   ],
   "source": [
    "# データの読み込み\n",
    "data = pd.read_csv(\"data3a.csv\",dtype={\"y\": int,\"x\":float, \"f\":\"category\"})\n",
    "\n",
    "# dの列ごとにデータを表示\n",
    "print(data)\n",
    "\n",
    "\"\"\"R\n",
    "d <- read.csv(\"data3a.csv\")\n",
    "\n",
    "d$x\n",
    "d$y\n",
    "d$f\n",
    "\"\"\""
   ]
  },
  {
   "cell_type": "code",
   "execution_count": 9,
   "id": "52d795a8",
   "metadata": {},
   "outputs": [
    {
     "name": "stdout",
     "output_type": "stream",
     "text": [
      "<class 'pandas.core.frame.DataFrame'>\n",
      "<class 'pandas.core.frame.DataFrame'>\n",
      "RangeIndex: 100 entries, 0 to 99\n",
      "Data columns (total 3 columns):\n",
      " #   Column  Non-Null Count  Dtype   \n",
      "---  ------  --------------  -----   \n",
      " 0   y       100 non-null    int64   \n",
      " 1   x       100 non-null    float64 \n",
      " 2   f       100 non-null    category\n",
      "dtypes: category(1), float64(1), int64(1)\n",
      "memory usage: 1.8 KB\n",
      "None\n"
     ]
    },
    {
     "data": {
      "text/plain": [
       "'R\\nclass(d)\\nclass(d$y)\\nclass(d$x)\\nclass(d$f)\\n'"
      ]
     },
     "execution_count": 9,
     "metadata": {},
     "output_type": "execute_result"
    }
   ],
   "source": [
    "# データオブジェクトがどういうクラスに属しているかを調べる\n",
    "print(type(data))\n",
    "print(data.info())\n",
    "\n",
    "\"\"\"R\n",
    "class(d)\n",
    "class(d$y)\n",
    "class(d$x)\n",
    "class(d$f)\n",
    "\"\"\""
   ]
  },
  {
   "cell_type": "code",
   "execution_count": 15,
   "id": "674b503b",
   "metadata": {},
   "outputs": [
    {
     "name": "stdout",
     "output_type": "stream",
     "text": [
      "                y           x\n",
      "count  100.000000  100.000000\n",
      "mean     7.830000   10.089100\n",
      "std      2.624881    1.008049\n",
      "min      2.000000    7.190000\n",
      "25%      6.000000    9.427500\n",
      "50%      8.000000   10.155000\n",
      "75%     10.000000   10.685000\n",
      "max     15.000000   12.400000\n",
      "count     100\n",
      "unique      2\n",
      "top         C\n",
      "freq       50\n",
      "Name: f, dtype: object\n"
     ]
    },
    {
     "data": {
      "text/plain": [
       "'R\\nsummary(d)\\n'"
      ]
     },
     "execution_count": 15,
     "metadata": {},
     "output_type": "execute_result"
    }
   ],
   "source": [
    "# データフレームの概要を調べる\n",
    "print(data.describe())\n",
    "print(data.f.describe())\n",
    "\"\"\"R\n",
    "summary(d)\n",
    "\"\"\""
   ]
  },
  {
   "cell_type": "markdown",
   "id": "ae59f47a",
   "metadata": {},
   "source": [
    "## 3.3 統計モデリングの前にデータを図示する"
   ]
  },
  {
   "cell_type": "code",
   "execution_count": 23,
   "id": "7093671b",
   "metadata": {},
   "outputs": [
    {
     "data": {
      "image/png": "[encoded data removed]",
      "text/plain": [
       "<Figure size 432x288 with 1 Axes>"
      ]
     },
     "metadata": {
      "needs_background": "light"
     },
     "output_type": "display_data"
    },
    {
     "data": {
      "text/plain": [
       "'R\\nplot(d$x, d$y, pch=c(21,19)[d$f])\\nlegend(\"topleft\", legend=c(\"C\",\"T\"), pch=c(21,19))\\n'"
      ]
     },
     "execution_count": 23,
     "metadata": {},
     "output_type": "execute_result"
    }
   ],
   "source": [
    "# データ全体を見る\n",
    "data_c = data.loc[data['f']=='C']\n",
    "data_t = data.loc[data['f']=='T']\n",
    "plt.scatter(data_c[\"x\"], data_c[\"y\"], color='red', label='C')\n",
    "plt.scatter(data_t[\"x\"], data_t[\"y\"], color='blue', label='T')\n",
    "plt.legend(loc='upper left')\n",
    "plt.show()\n",
    "\n",
    "\"\"\"R\n",
    "plot(d$x, d$y, pch=c(21,19)[d$f])\n",
    "legend(\"topleft\", legend=c(\"C\",\"T\"), pch=c(21,19))\n",
    "\"\"\""
   ]
  },
  {
   "cell_type": "markdown",
   "id": "90c49d96",
   "metadata": {},
   "source": [
    "## 3.4 ポアソン回帰の統計モデル"
   ]
  },
  {
   "cell_type": "code",
   "execution_count": 25,
   "id": "166c5971",
   "metadata": {},
   "outputs": [
    {
     "name": "stdout",
     "output_type": "stream",
     "text": [
      "                 Generalized Linear Model Regression Results                  \n",
      "==============================================================================\n",
      "Dep. Variable:                      y   No. Observations:                  100\n",
      "Model:                            GLM   Df Residuals:                       98\n",
      "Model Family:                 Poisson   Df Model:                            1\n",
      "Link Function:                    log   Scale:                          1.0000\n",
      "Method:                          IRLS   Log-Likelihood:                -235.39\n",
      "Date:                Fri, 11 Feb 2022   Deviance:                       84.993\n",
      "Time:                        21:51:25   Pearson chi2:                     83.8\n",
      "No. Iterations:                     4                                         \n",
      "Covariance Type:            nonrobust                                         \n",
      "==============================================================================\n",
      "                 coef    std err          z      P>|z|      [0.025      0.975]\n",
      "------------------------------------------------------------------------------\n",
      "Intercept      1.2917      0.364      3.552      0.000       0.579       2.005\n",
      "x              0.0757      0.036      2.125      0.034       0.006       0.145\n",
      "==============================================================================\n"
     ]
    },
    {
     "data": {
      "text/plain": [
       "'R\\nfit <- glm(y ~ x, data=d, family=poisson)\\nsummary(fit)\\n'"
      ]
     },
     "execution_count": 25,
     "metadata": {},
     "output_type": "execute_result"
    }
   ],
   "source": [
    "# ポアソン回帰の推定量の導出\n",
    "model = smf.glm('y ~ x', data=data, family=sm.families.Poisson())\n",
    "result = model.fit()\n",
    "\n",
    "# 詳細な結果の確認\n",
    "print(result.summary())\n",
    "\n",
    "\"\"\"R\n",
    "fit <- glm(y ~ x, data=d, family=poisson)\n",
    "summary(fit)\n",
    "\"\"\""
   ]
  },
  {
   "cell_type": "code",
   "execution_count": 29,
   "id": "88385772",
   "metadata": {},
   "outputs": [
    {
     "name": "stdout",
     "output_type": "stream",
     "text": [
      "-235.38625076986077\n",
      "df = 1\n"
     ]
    },
    {
     "data": {
      "text/plain": [
       "'R\\nlogLik(fit)\\n'"
      ]
     },
     "execution_count": 29,
     "metadata": {},
     "output_type": "execute_result"
    }
   ],
   "source": [
    "# 最大対数尤度と自由度の評価\n",
    "print(result.llf)\n",
    "print('df =', result.df_model)\n",
    "\n",
    "\"\"\"R\n",
    "logLik(fit)\n",
    "\"\"\""
   ]
  },
  {
   "cell_type": "code",
   "execution_count": 33,
   "id": "bd47c75a",
   "metadata": {},
   "outputs": [
    {
     "data": {
      "image/png": "[encoded data removed]",
      "text/plain": [
       "<Figure size 432x288 with 1 Axes>"
      ]
     },
     "metadata": {
      "needs_background": "light"
     },
     "output_type": "display_data"
    },
    {
     "data": {
      "text/plain": [
       "'R\\nplot(d$x, d$y, pch=c(21,19)[d$f])\\nxx <- seq(min(d$x), max(d$x), length=100)\\nlines(xx, exp(1.29+0.0757*xx), lwd=2)\\n'"
      ]
     },
     "execution_count": 33,
     "metadata": {},
     "output_type": "execute_result"
    }
   ],
   "source": [
    "# ポアソン回帰の推定結果を使って、回帰直線を図示\n",
    "x = np.linspace(7, 13, 100)\n",
    "y = np.exp(result.params[\"Intercept\"] + x*result.params[\"x\"])\n",
    "\n",
    "data_c = data.loc[data['f']=='C']\n",
    "data_t = data.loc[data['f']=='T']\n",
    "plt.scatter(data_c[\"x\"], data_c[\"y\"], color='red', label='C')\n",
    "plt.scatter(data_t[\"x\"], data_t[\"y\"], color='blue', label='T')\n",
    "\n",
    "plt.plot(x,y,\"r--\")\n",
    "\n",
    "plt.legend(loc='upper left')\n",
    "plt.show()\n",
    "\n",
    "\"\"\"R\n",
    "plot(d$x, d$y, pch=c(21,19)[d$f])\n",
    "xx <- seq(min(d$x), max(d$x), length=100)\n",
    "lines(xx, exp(1.29+0.0757*xx), lwd=2)\n",
    "\"\"\""
   ]
  },
  {
   "cell_type": "code",
   "execution_count": 34,
   "id": "1bfa67da",
   "metadata": {},
   "outputs": [
    {
     "data": {
      "image/png": "[encoded data removed]",
      "text/plain": [
       "<Figure size 432x288 with 1 Axes>"
      ]
     },
     "metadata": {
      "needs_background": "light"
     },
     "output_type": "display_data"
    },
    {
     "data": {
      "text/plain": [
       "'R\\nplot(d$x, d$y, pch=c(21,19)[d$f])\\nyy <- predict(fit, newdata=data.frame(x=xx), type=\"response\")\\nlines(xx,yy,lwd=2)\\n'"
      ]
     },
     "execution_count": 34,
     "metadata": {},
     "output_type": "execute_result"
    }
   ],
   "source": [
    "# result.predictを使ったやり方\n",
    "data_c = data.loc[data['f']=='C']\n",
    "data_t = data.loc[data['f']=='T']\n",
    "plt.scatter(data_c[\"x\"], data_c[\"y\"], color='red', label='C')\n",
    "plt.scatter(data_t[\"x\"], data_t[\"y\"], color='blue', label='T')\n",
    "\n",
    "plt.plot(x, result.predict({\"x\":x}),\"r--\")\n",
    "\n",
    "plt.legend(loc='upper left')\n",
    "plt.show()\n",
    "\n",
    "\"\"\"R\n",
    "plot(d$x, d$y, pch=c(21,19)[d$f])\n",
    "yy <- predict(fit, newdata=data.frame(x=xx), type=\"response\")\n",
    "lines(xx,yy,lwd=2)\n",
    "\"\"\""
   ]
  },
  {
   "cell_type": "markdown",
   "id": "8a2263c5",
   "metadata": {},
   "source": [
    "## 3.5 説明変数が因子型の統計モデル"
   ]
  },
  {
   "cell_type": "code",
   "execution_count": 35,
   "id": "97bbcc92",
   "metadata": {},
   "outputs": [
    {
     "name": "stdout",
     "output_type": "stream",
     "text": [
      "                 Generalized Linear Model Regression Results                  \n",
      "==============================================================================\n",
      "Dep. Variable:                      y   No. Observations:                  100\n",
      "Model:                            GLM   Df Residuals:                       98\n",
      "Model Family:                 Poisson   Df Model:                            1\n",
      "Link Function:                    log   Scale:                          1.0000\n",
      "Method:                          IRLS   Log-Likelihood:                -237.63\n",
      "Date:                Fri, 11 Feb 2022   Deviance:                       89.475\n",
      "Time:                        21:59:35   Pearson chi2:                     87.1\n",
      "No. Iterations:                     4                                         \n",
      "Covariance Type:            nonrobust                                         \n",
      "==============================================================================\n",
      "                 coef    std err          z      P>|z|      [0.025      0.975]\n",
      "------------------------------------------------------------------------------\n",
      "Intercept      2.0516      0.051     40.463      0.000       1.952       2.151\n",
      "f[T.T]         0.0128      0.071      0.179      0.858      -0.127       0.153\n",
      "==============================================================================\n"
     ]
    },
    {
     "data": {
      "text/plain": [
       "'R\\nfit.f <- glm(y ~ f, data=d, family=poisson)\\nsummary(fit.f)\\n'"
      ]
     },
     "execution_count": 35,
     "metadata": {},
     "output_type": "execute_result"
    }
   ],
   "source": [
    "# 因子型の説明変数を使った推定\n",
    "model = smf.glm('y ~ f', data=data, family=sm.families.Poisson())\n",
    "result = model.fit()\n",
    "\n",
    "print(result.summary())\n",
    "\n",
    "\"\"\"R\n",
    "fit.f <- glm(y ~ f, data=d, family=poisson)\n",
    "summary(fit.f)\n",
    "\"\"\""
   ]
  },
  {
   "cell_type": "code",
   "execution_count": 42,
   "id": "5fb6eb60",
   "metadata": {},
   "outputs": [
    {
     "name": "stdout",
     "output_type": "stream",
     "text": [
      "-235.29371924249367\n",
      "df = 2\n"
     ]
    },
    {
     "data": {
      "text/plain": [
       "'R\\nlogLik(fit.f)\\n'"
      ]
     },
     "execution_count": 42,
     "metadata": {},
     "output_type": "execute_result"
    }
   ],
   "source": [
    "# 因子型の説明変数を使ったモデルの最大対数尤度\n",
    "print(result.llf)\n",
    "print(\"df =\",result.df_model)\n",
    "\n",
    "\"\"\"R\n",
    "logLik(fit.f)\n",
    "\"\"\""
   ]
  },
  {
   "cell_type": "markdown",
   "id": "c0cfc996",
   "metadata": {},
   "source": [
    "## 3.6 説明変数が数量型＋因子型の統計モデル"
   ]
  },
  {
   "cell_type": "code",
   "execution_count": 40,
   "id": "1501b607",
   "metadata": {},
   "outputs": [
    {
     "name": "stdout",
     "output_type": "stream",
     "text": [
      "                 Generalized Linear Model Regression Results                  \n",
      "==============================================================================\n",
      "Dep. Variable:                      y   No. Observations:                  100\n",
      "Model:                            GLM   Df Residuals:                       97\n",
      "Model Family:                 Poisson   Df Model:                            2\n",
      "Link Function:                    log   Scale:                          1.0000\n",
      "Method:                          IRLS   Log-Likelihood:                -235.29\n",
      "Date:                Fri, 11 Feb 2022   Deviance:                       84.808\n",
      "Time:                        22:02:25   Pearson chi2:                     83.8\n",
      "No. Iterations:                     4                                         \n",
      "Covariance Type:            nonrobust                                         \n",
      "==============================================================================\n",
      "                 coef    std err          z      P>|z|      [0.025      0.975]\n",
      "------------------------------------------------------------------------------\n",
      "Intercept      1.2631      0.370      3.417      0.001       0.539       1.988\n",
      "f[T.T]        -0.0320      0.074     -0.430      0.667      -0.178       0.114\n",
      "x              0.0801      0.037      2.162      0.031       0.007       0.153\n",
      "==============================================================================\n"
     ]
    },
    {
     "data": {
      "text/plain": [
       "'R\\nfit.all <- glm(y ~ x + f, data=d, family=poisson)\\nfit.all\\n'"
      ]
     },
     "execution_count": 40,
     "metadata": {},
     "output_type": "execute_result"
    }
   ],
   "source": [
    "# 数量型, 因子型の両方を説明変数を使った推定\n",
    "model = smf.glm(\" y ~ x + f\", data=data, family=sm.families.Poisson())\n",
    "result = model.fit()\n",
    "print(result.summary())\n",
    "\n",
    "\"\"\"R\n",
    "fit.all <- glm(y ~ x + f, data=d, family=poisson)\n",
    "fit.all\n",
    "\"\"\""
   ]
  },
  {
   "cell_type": "code",
   "execution_count": 41,
   "id": "18223cd3",
   "metadata": {},
   "outputs": [
    {
     "name": "stdout",
     "output_type": "stream",
     "text": [
      "-235.29371924249367\n",
      "df = 2\n"
     ]
    },
    {
     "data": {
      "text/plain": [
       "'R\\nlogLik(fit.all)\\n'"
      ]
     },
     "execution_count": 41,
     "metadata": {},
     "output_type": "execute_result"
    }
   ],
   "source": [
    "# 最大対数尤度を調べる\n",
    "print(result.llf)\n",
    "print(\"df =\", result.df_model)\n",
    "\n",
    "\"\"\"R\n",
    "logLik(fit.all)\n",
    "\"\"\""
   ]
  },
  {
   "cell_type": "markdown",
   "id": "5eb72f35",
   "metadata": {},
   "source": [
    "# 参考\n",
    "- https://github.com/takitsuba/midoribon/blob/master/Chap3/"
   ]
  },
  {
   "cell_type": "code",
   "execution_count": null,
   "id": "a2b8adb6",
   "metadata": {},
   "outputs": [],
   "source": []
  }
 ],
 "metadata": {
  "kernelspec": {
   "display_name": "Python 3 (ipykernel)",
   "language": "python",
   "name": "python3"
  },
  "language_info": {
   "codemirror_mode": {
    "name": "ipython",
    "version": 3
   },
   "file_extension": ".py",
   "mimetype": "text/x-python",
   "name": "python",
   "nbconvert_exporter": "python",
   "pygments_lexer": "ipython3",
   "version": "3.8.11"
  }
 },
 "nbformat": 4,
 "nbformat_minor": 5
}
