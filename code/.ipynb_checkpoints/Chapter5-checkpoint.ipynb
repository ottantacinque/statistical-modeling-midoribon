{
 "cells": [
  {
   "cell_type": "code",
   "execution_count": 1,
   "id": "b6fe0659",
   "metadata": {},
   "outputs": [],
   "source": [
    "import pandas as pd\n",
    "import matplotlib.pyplot as plt\n",
    "import numpy as np\n",
    "import scipy.stats as scs\n",
    "import statsmodels.api as sm\n",
    "import statsmodels.formula.api as smf\n",
    "\n",
    "%matplotlib inline"
   ]
  },
  {
   "cell_type": "code",
   "execution_count": 3,
   "id": "297a53ba",
   "metadata": {},
   "outputs": [
    {
     "name": "stdout",
     "output_type": "stream",
     "text": [
      "                 Generalized Linear Model Regression Results                  \n",
      "==============================================================================\n",
      "Dep. Variable:                      y   No. Observations:                  100\n",
      "Model:                            GLM   Df Residuals:                       99\n",
      "Model Family:                 Poisson   Df Model:                            0\n",
      "Link Function:                    log   Scale:                          1.0000\n",
      "Method:                          IRLS   Log-Likelihood:                -237.64\n",
      "Date:                Fri, 11 Feb 2022   Deviance:                       89.507\n",
      "Time:                        22:49:35   Pearson chi2:                     87.1\n",
      "No. Iterations:                     4                                         \n",
      "Covariance Type:            nonrobust                                         \n",
      "==============================================================================\n",
      "                 coef    std err          z      P>|z|      [0.025      0.975]\n",
      "------------------------------------------------------------------------------\n",
      "Intercept      2.0580      0.036     57.586      0.000       1.988       2.128\n",
      "==============================================================================\n",
      "                 Generalized Linear Model Regression Results                  \n",
      "==============================================================================\n",
      "Dep. Variable:                      y   No. Observations:                  100\n",
      "Model:                            GLM   Df Residuals:                       98\n",
      "Model Family:                 Poisson   Df Model:                            1\n",
      "Link Function:                    log   Scale:                          1.0000\n",
      "Method:                          IRLS   Log-Likelihood:                -235.39\n",
      "Date:                Fri, 11 Feb 2022   Deviance:                       84.993\n",
      "Time:                        22:49:35   Pearson chi2:                     83.8\n",
      "No. Iterations:                     4                                         \n",
      "Covariance Type:            nonrobust                                         \n",
      "==============================================================================\n",
      "                 coef    std err          z      P>|z|      [0.025      0.975]\n",
      "------------------------------------------------------------------------------\n",
      "Intercept      1.2917      0.364      3.552      0.000       0.579       2.005\n",
      "x              0.0757      0.036      2.125      0.034       0.006       0.145\n",
      "==============================================================================\n"
     ]
    },
    {
     "data": {
      "text/plain": [
       "'R\\nd <- read.csv(\"data3a.csv\")\\nd$f <- as.factor(d$f)\\n\\nfit1 <- glm(y ~ 1, data=d, family=poisson)\\nfit2 <- glm(y ~ x, data=d, family=poisson)\\n'"
      ]
     },
     "execution_count": 3,
     "metadata": {},
     "output_type": "execute_result"
    }
   ],
   "source": [
    "# データの読み込みなど\n",
    "data = pd.read_csv(\"data3a.csv\")\n",
    "\n",
    "# 一定モデル, xモデルを使った推定\n",
    "model_1 = smf.glm('y~1',data=data,family=sm.families.Poisson())\n",
    "result_1 = model_1.fit()\n",
    "print(result_1.summary())\n",
    "\n",
    "model_2 = smf.glm('y~x',data=data,family=sm.families.Poisson())\n",
    "result_2 = model_2.fit()\n",
    "print(result_2.summary())\n",
    "\n",
    "\"\"\"R\n",
    "d <- read.csv(\"data3a.csv\")\n",
    "d$f <- as.factor(d$f)\n",
    "\n",
    "fit1 <- glm(y ~ 1, data=d, family=poisson)\n",
    "fit2 <- glm(y ~ x, data=d, family=poisson)\n",
    "\"\"\""
   ]
  },
  {
   "cell_type": "markdown",
   "id": "d387564d",
   "metadata": {},
   "source": [
    "## 5.4 帰無仮説を棄却するための有意水準"
   ]
  },
  {
   "cell_type": "code",
   "execution_count": 6,
   "id": "12a3f655",
   "metadata": {},
   "outputs": [
    {
     "name": "stdout",
     "output_type": "stream",
     "text": [
      "89.50693756958138\n",
      "84.99299649072958\n",
      "4.513941078851801\n"
     ]
    },
    {
     "data": {
      "text/plain": [
       "'R\\nfit1$deviance\\nfit2$deviance\\nfit1$deviance - fit2$deviance\\n'"
      ]
     },
     "execution_count": 6,
     "metadata": {},
     "output_type": "execute_result"
    }
   ],
   "source": [
    "# 残差逸脱度の確認\n",
    "print(result_1.deviance)\n",
    "print(result_2.deviance)\n",
    "\n",
    "print(result_1.deviance - result_2.deviance)\n",
    "\n",
    "\"\"\"R\n",
    "fit1$deviance\n",
    "fit2$deviance\n",
    "fit1$deviance - fit2$deviance\n",
    "\"\"\""
   ]
  },
  {
   "cell_type": "code",
   "execution_count": 24,
   "id": "00619698",
   "metadata": {},
   "outputs": [
    {
     "name": "stdout",
     "output_type": "stream",
     "text": [
      "0.7642402466060076\n"
     ]
    },
    {
     "data": {
      "text/plain": [
       "'R\\nd$y.rnd <- rpois(100, lambda= mean(d$y))\\n\\nfit1 <- glm(y.rnd ~ 1, data=d, family=poisson)\\nfit2 <- glm(y.rnd ~ x, data=d, family=poisson)\\nfit1$deviance - fit2$deviance\\n'"
      ]
     },
     "execution_count": 24,
     "metadata": {},
     "output_type": "execute_result"
    }
   ],
   "source": [
    "# 真のモデルから100個体分のデータを新しく生成する。\n",
    "data[\"y_rand\"] = np.random.poisson(data['y'].mean(),100)\n",
    "\n",
    "# glm() を使って、一定モデル, xモデルに新データを当てはめてみる\n",
    "model_1_rand = smf.glm('y_rand ~ 1',data=data,family=sm.families.Poisson())\n",
    "model_2_rand = smf.glm('y_rand ~ x',data=data,family=sm.families.Poisson())\n",
    "result_1_rand = model_1_rand.fit()\n",
    "result_2_rand = model_2_rand.fit()\n",
    "\n",
    "print(result_1_rand.deviance - result_2_rand.deviance)\n",
    "\n",
    "\"\"\"R\n",
    "d$y.rnd <- rpois(100, lambda= mean(d$y))\n",
    "\n",
    "fit1 <- glm(y.rnd ~ 1, data=d, family=poisson)\n",
    "fit2 <- glm(y.rnd ~ x, data=d, family=poisson)\n",
    "fit1$deviance - fit2$deviance\n",
    "\"\"\""
   ]
  },
  {
   "cell_type": "code",
   "execution_count": 41,
   "id": "5e4db32a",
   "metadata": {},
   "outputs": [
    {
     "name": "stdout",
     "output_type": "stream",
     "text": [
      "count    1000.000000\n",
      "mean        0.912277\n",
      "std         1.262446\n",
      "min         0.000005\n",
      "25%         0.091553\n",
      "50%         0.352234\n",
      "75%         1.264903\n",
      "max         9.267684\n",
      "dtype: float64\n"
     ]
    },
    {
     "data": {
      "text/plain": [
       "'R\\n# 自作関数（pb.Rというファイルで保存）\\nget.dd <- function(d)  # データの生成と逸脱度差の評価 \\n{\\n  n.sample <- nrow(d)  # データ数\\n  y.mean <- mean(d$y)  # 標本平均\\n  d$y.rnd <- rpois(n.sample, lambda = y.mean)\\n  fit1 <- glm(y.rnd ~ 1, data=d, family=poisson)\\n  fit2 <- glm(y.rnd ~ x, data=d, family=poisson)\\n  fit1$deviance - fit2$deviance  # 逸脱度の差を返す\\n}\\npb <- function(d, n.bootstrap)\\n{\\n  replicate(n.bootstrap, get.dd(d))\\n}\\n\\n# pb.Rを呼び出して実行\\nsource(\"pb.R\")\\ndd12 <- pb(d, n.bootstrap = 1000)\\n\\n# 結果の概要を調べる\\nsummary(dd12)\\n'"
      ]
     },
     "execution_count": 41,
     "metadata": {},
     "output_type": "execute_result"
    }
   ],
   "source": [
    "def getdd(data):\n",
    "    n_sample = len(data)\n",
    "    y_mean = data['y'].mean()\n",
    "    data['y_rand'] = np.random.poisson(y_mean,n_sample)\n",
    "    \n",
    "    model_1_rand = smf.glm('y_rand ~ 1',data=data,family=sm.families.Poisson())\n",
    "    model_2_rand = smf.glm('y_rand ~ x',data=data,family=sm.families.Poisson())\n",
    "    result_1_rand = model_1_rand.fit()\n",
    "    result_2_rand = model_2_rand.fit()\n",
    "    \n",
    "    return result_1_rand.deviance - result_2_rand.deviance\n",
    "\n",
    "def pb(data, n_bootstrap):\n",
    "    return np.array([getdd(data) for n in range(n_bootstrap)])\n",
    "\n",
    "dd12 = pb(data, 1000)\n",
    "print(pd.Series(dd12).describe())\n",
    "\n",
    "\"\"\"R\n",
    "# 自作関数（pb.Rというファイルで保存）\n",
    "get.dd <- function(d)  # データの生成と逸脱度差の評価 \n",
    "{\n",
    "  n.sample <- nrow(d)  # データ数\n",
    "  y.mean <- mean(d$y)  # 標本平均\n",
    "  d$y.rnd <- rpois(n.sample, lambda = y.mean)\n",
    "  fit1 <- glm(y.rnd ~ 1, data=d, family=poisson)\n",
    "  fit2 <- glm(y.rnd ~ x, data=d, family=poisson)\n",
    "  fit1$deviance - fit2$deviance  # 逸脱度の差を返す\n",
    "}\n",
    "pb <- function(d, n.bootstrap)\n",
    "{\n",
    "  replicate(n.bootstrap, get.dd(d))\n",
    "}\n",
    "\n",
    "# pb.Rを呼び出して実行\n",
    "source(\"pb.R\")\n",
    "dd12 <- pb(d, n.bootstrap = 1000)\n",
    "\n",
    "# 結果の概要を調べる\n",
    "summary(dd12)\n",
    "\"\"\""
   ]
  },
  {
   "cell_type": "code",
   "execution_count": 42,
   "id": "20378c4a",
   "metadata": {},
   "outputs": [
    {
     "data": {
      "text/plain": [
       "'R\\nhist(dd12, 100)\\nabline(v= 4.5, lty = 2)\\n'"
      ]
     },
     "execution_count": 42,
     "metadata": {},
     "output_type": "execute_result"
    },
    {
     "data": {
      "image/png": "[encoded data removed]",
      "text/plain": [
       "<Figure size 432x288 with 1 Axes>"
      ]
     },
     "metadata": {
      "needs_background": "light"
     },
     "output_type": "display_data"
    }
   ],
   "source": [
    "# ヒスグラムの表示\n",
    "plt.hist(dd12,bins=100,range=(-1,10))\n",
    "plt.plot([4.5]*300,range(0,300),\"--\")\n",
    "\n",
    "\"\"\"R\n",
    "hist(dd12, 100)\n",
    "abline(v= 4.5, lty = 2)\n",
    "\"\"\""
   ]
  },
  {
   "cell_type": "code",
   "execution_count": 44,
   "id": "5dad8300",
   "metadata": {},
   "outputs": [
    {
     "name": "stdout",
     "output_type": "stream",
     "text": [
      "28\n"
     ]
    },
    {
     "data": {
      "text/plain": [
       "'R\\nsum(dd12 >= 4.5)\\n'"
      ]
     },
     "execution_count": 44,
     "metadata": {},
     "output_type": "execute_result"
    }
   ],
   "source": [
    "# delta D12 >= 4.5 となる数\n",
    "print(len(dd12[dd12>=4.5]))\n",
    "\n",
    "\"\"\"R\n",
    "sum(dd12 >= 4.5)\n",
    "\"\"\""
   ]
  },
  {
   "cell_type": "code",
   "execution_count": 46,
   "id": "b55d42c4",
   "metadata": {},
   "outputs": [
    {
     "name": "stdout",
     "output_type": "stream",
     "text": [
      "3.7654808506543915\n"
     ]
    },
    {
     "data": {
      "text/plain": [
       "'R\\nquantile(dd12, 0.95)\\n'"
      ]
     },
     "execution_count": 46,
     "metadata": {},
     "output_type": "execute_result"
    }
   ],
   "source": [
    "# P=0.05 となる逸脱どの差(delta D1,2)を調べてみる\n",
    "print(np.percentile(dd12,95))\n",
    "\n",
    "\"\"\"R\n",
    "quantile(dd12, 0.95)\n",
    "\"\"\""
   ]
  },
  {
   "cell_type": "code",
   "execution_count": 47,
   "id": "3f28f3a1",
   "metadata": {},
   "outputs": [
    {
     "name": "stdout",
     "output_type": "stream",
     "text": [
      "0.036\n",
      "3.661717020830387\n"
     ]
    },
    {
     "data": {
      "text/plain": [
       "'R\\nfit1 <- glm(y ~ 1, data=d, family=poisson)\\nfit2 <- glm(y ~ x, data=d, family=poisson)\\nanova(fit1, fit2, test=\"Chisq\")\\n'"
      ]
     },
     "execution_count": 47,
     "metadata": {},
     "output_type": "execute_result"
    }
   ],
   "source": [
    "# カイ二乗分布を使った近似計算法\n",
    "chi = pd.Series(np.random.chisquare(1,1000))\n",
    "\n",
    "print(chi[chi>=4.5].shape[0] / 1000)\n",
    "print(chi.quantile(0.95))\n",
    "\n",
    "\"\"\"R\n",
    "fit1 <- glm(y ~ 1, data=d, family=poisson)\n",
    "fit2 <- glm(y ~ x, data=ddd, family=poisson)\n",
    "anova(fit1, fit2, test=\"Chisq\")\n",
    "\"\"\""
   ]
  },
  {
   "cell_type": "markdown",
   "id": "b518230a",
   "metadata": {},
   "source": [
    "## 参考\n",
    "- https://github.com/takitsuba/midoribon/tree/master/Chap5"
   ]
  }
 ],
 "metadata": {
  "kernelspec": {
   "display_name": "Python 3 (ipykernel)",
   "language": "python",
   "name": "python3"
  },
  "language_info": {
   "codemirror_mode": {
    "name": "ipython",
    "version": 3
   },
   "file_extension": ".py",
   "mimetype": "text/x-python",
   "name": "python",
   "nbconvert_exporter": "python",
   "pygments_lexer": "ipython3",
   "version": "3.9.10"
  }
 },
 "nbformat": 4,
 "nbformat_minor": 5
}
