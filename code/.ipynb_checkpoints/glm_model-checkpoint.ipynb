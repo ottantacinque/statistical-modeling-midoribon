{
 "cells": [
  {
   "cell_type": "markdown",
   "id": "bbb1a790",
   "metadata": {},
   "source": [
    "本記事は、データ解析のための統計モデリング入門（通称緑本）の3,4,5章を参考にしています。\n",
    "（もし内容に不備等あればご一報ください）\n",
    "\n",
    "R, Pythonコード、使用しているデータは[こちら](https://github.com/ottantacinque/statistical-modeling-midoribon)"
   ]
  },
  {
   "cell_type": "markdown",
   "id": "0961d532",
   "metadata": {},
   "source": [
    "## 一般化線形モデルとは\n",
    "\n",
    "**一般化線形モデル（Generalized Linear Model / GLM）とは**\n",
    ">一般線形モデルでは目的変数が正規分布に従うことを前提としているが、一般化線形モデルでは目的変数が正規分布に従わなくても適用でき、さらに質的変数であってもよい。また、目的変数と説明変数との関係式は簡単な線形式である必要はなく、以下のように表される。ただしは偏回帰係数を、は説明変数を、は説明変数の数を表す。\n",
    "> $$g(y) = \\beta_0x_0 + \\beta_1x_1 + \\cdots + \\beta_nx_n$$\n",
    ">ここで関数$g(\\cdot)$はリンク関数と言う。ロジスティック回帰分析などに適用できる。一般化線型モデルとも言う。\n",
    "\n",
    "[統計webより](https://bellcurve.jp/statistics/glossary/638.html)より\n",
    "\n",
    "<br>\n",
    "\n",
    "要するに線形モデルのように、どういうデータにおいても**データが正規分布に従っていると考え**、**直線で回帰する**というのには無理があので、<u>正規分布以外の確率分布も用いることでデータをうまく表現できるようにし</u>、さらに<u>線形ではない関係にも対応できるようにした</u>のが一般化線形モデル。\n",
    "\n",
    "<br>\n",
    "\n",
    "以下、例題（「データ解析のための統計モデリング入門」の3章より）を用いて、一般化線形モデルであるポアソン回帰を実施する。"
   ]
  },
  {
   "cell_type": "markdown",
   "id": "8a9fada6",
   "metadata": {},
   "source": [
    "## 例題\n",
    "\n",
    "架空の植物100個体からなる集団を調査していて、各個体の種子数を数えたものがデータだとする。<br>\n",
    "また、各個体の体サイズや各個体への施肥処理の有無もデータとして記録しているものとする。\n",
    "<br>\n",
    "条件は以下（解析データファイルは data3a.csv）\n",
    "- **植物個体**：$i$\n",
    "- **各個体における種子の数**：$y_i$\n",
    "- **各個体の体サイズ**：$x_i$（正の実数）\n",
    "- **各個体への施肥処理の有無**：$f_i$（$T$：処理あり,　$C$：処理なし）"
   ]
  },
  {
   "cell_type": "code",
   "execution_count": 18,
   "id": "7617e534",
   "metadata": {},
   "outputs": [
    {
     "data": {
      "text/html": [
       "<div>\n",
       "<style scoped>\n",
       "    .dataframe tbody tr th:only-of-type {\n",
       "        vertical-align: middle;\n",
       "    }\n",
       "\n",
       "    .dataframe tbody tr th {\n",
       "        vertical-align: top;\n",
       "    }\n",
       "\n",
       "    .dataframe thead th {\n",
       "        text-align: right;\n",
       "    }\n",
       "</style>\n",
       "<table border=\"1\" class=\"dataframe\">\n",
       "  <thead>\n",
       "    <tr style=\"text-align: right;\">\n",
       "      <th></th>\n",
       "      <th>y</th>\n",
       "      <th>x</th>\n",
       "      <th>f</th>\n",
       "    </tr>\n",
       "  </thead>\n",
       "  <tbody>\n",
       "    <tr>\n",
       "      <th>0</th>\n",
       "      <td>6</td>\n",
       "      <td>8.31</td>\n",
       "      <td>C</td>\n",
       "    </tr>\n",
       "    <tr>\n",
       "      <th>1</th>\n",
       "      <td>6</td>\n",
       "      <td>9.44</td>\n",
       "      <td>C</td>\n",
       "    </tr>\n",
       "    <tr>\n",
       "      <th>2</th>\n",
       "      <td>6</td>\n",
       "      <td>9.50</td>\n",
       "      <td>C</td>\n",
       "    </tr>\n",
       "    <tr>\n",
       "      <th>3</th>\n",
       "      <td>12</td>\n",
       "      <td>9.07</td>\n",
       "      <td>C</td>\n",
       "    </tr>\n",
       "    <tr>\n",
       "      <th>4</th>\n",
       "      <td>10</td>\n",
       "      <td>10.16</td>\n",
       "      <td>C</td>\n",
       "    </tr>\n",
       "  </tbody>\n",
       "</table>\n",
       "</div>"
      ],
      "text/plain": [
       "    y      x  f\n",
       "0   6   8.31  C\n",
       "1   6   9.44  C\n",
       "2   6   9.50  C\n",
       "3  12   9.07  C\n",
       "4  10  10.16  C"
      ]
     },
     "execution_count": 18,
     "metadata": {},
     "output_type": "execute_result"
    }
   ],
   "source": [
    "import pandas as pd\n",
    "import numpy as np\n",
    "import matplotlib.pyplot as plt\n",
    "import japanize_matplotlib\n",
    "\n",
    "%matplotlib inline\n",
    "\n",
    "# データの読み込み\n",
    "data = pd.read_csv(\"data3a.csv\",dtype={\"y\": int,\"x\":float, \"f\":\"category\"})\n",
    "data.head(5)"
   ]
  },
  {
   "cell_type": "markdown",
   "id": "b2535117",
   "metadata": {},
   "source": [
    "## まずはデータを観察する"
   ]
  },
  {
   "cell_type": "code",
   "execution_count": 19,
   "id": "45357dcb",
   "metadata": {},
   "outputs": [
    {
     "data": {
      "image/png": "[encoded data removed]",
      "text/plain": [
       "<Figure size 432x288 with 1 Axes>"
      ]
     },
     "metadata": {
      "needs_background": "light"
     },
     "output_type": "display_data"
    }
   ],
   "source": [
    "# データ全体を見る\n",
    "data_c = data.loc[data['f']=='C']\n",
    "data_t = data.loc[data['f']=='T']\n",
    "plt.scatter(data_c[\"x\"], data_c[\"y\"], color='red', label='C：施肥処理なし')\n",
    "plt.scatter(data_t[\"x\"], data_t[\"y\"], color='blue', label='T：施肥処理あり')\n",
    "\n",
    "plt.xlabel('体サイズ')\n",
    "plt.ylabel('種子の数')\n",
    "plt.legend(loc='upper left')\n",
    "plt.show()"
   ]
  },
  {
   "cell_type": "markdown",
   "id": "ddb40389",
   "metadata": {},
   "source": [
    "作成した散布図から以下の予想が立てられる。\n",
    "- 体サイズ $x$ の増加に伴って、種子数 $y$ が増えているように見える\n",
    "- 施肥処理の効果 $f$ は無さそう"
   ]
  },
  {
   "cell_type": "markdown",
   "id": "0eead995",
   "metadata": {},
   "source": [
    "## 予測を基にポアソン回帰の統計モデルを立ててみる\n",
    "\n",
    "#### モデルの作成\n",
    "\n",
    "とりあえず、施肥効果 $f$ は無視して、<u>ある個体 $i$ の種子数が $y_i$ である確率は、ポアソン分布に従っていると仮定する。</u>\n",
    "\n",
    "$$ P(y_i|\\lambda_i) = \\frac{\\lambda_{i}^{y_i}\\exp(-\\lambda_i)}{y_{i}!} $$\n",
    "\n",
    "また、<u>ある個体 $i$ の平均種子数 $\\lambda_{i}$ が、体サイズ $x_i$ に関与しているという見立てから次の関数（$x$モデル）を定義する　。</u><br>\n",
    "（比較として種子が体サイズに依存しない**一定モデル**、**種子が体サイズと施肥処理($d_i$)の両方に依存するxdモデル**も用意する）\n",
    "\n",
    "**x モデル**\n",
    "$$ \\lambda_i = \\exp(\\beta_1 + \\beta_{2}x_i) $$\n",
    "$$ \\log{\\lambda_i} = \\beta_1 + \\beta_{2}x_i $$\n",
    "\n",
    "**一定モデル**\n",
    "$$ \\lambda_i = \\exp(\\beta_1) $$\n",
    "$$ \\log{\\lambda_i} = \\beta_1 $$\n",
    "\n",
    "**xdモデル**\n",
    "$$ \\lambda_i = \\exp(\\beta_1 + \\beta_{2}x_i + \\beta_{3}d_i) $$\n",
    "$$ \\log{\\lambda_i} = \\beta_1 + \\beta_{2}x_i + \\beta_{3}d_i$$\n",
    "\n",
    "$$d_i = \\left\\{\n",
    "\\begin{array}{ll}\n",
    "1 & (f_i=C) \\\\\n",
    "0 & (f_i=T)\n",
    "\\end{array}\n",
    "\\right.\n",
    "$$\n",
    "\n",
    "<br>\n",
    "\n",
    "この時それぞれの値は以下のように呼ばれる。\n",
    "- $\\beta_1$（切片）、$\\beta_2$（傾き）：**パラメーター**\n",
    "- $\\beta_1 + \\beta_{2}x_i$ の部分：**線形予測子**\n",
    "- $\\log{\\lambda_i}$ の $\\log$ の部分：**リンク関数**（今回は対数リンク関数と呼ばれる）\n",
    "\n",
    "<br>\n",
    "\n",
    "#### 対数尤度\n",
    "\n",
    "上記の$\\lambda_i$　の定義を用いると、この　統計モデルの対数尤度は下記のようになる。\n",
    "\n",
    "$$ \\log{L(\\beta_1,\\beta_2)} = \\sum_i{\\log{\\frac{\\lambda_{i}^{y_i}\\exp(-\\lambda_i)}{y_{i}!}}} $$\n",
    "\n",
    "$$(\\lambda_i = \\exp(\\beta_1+\\beta_{2}x_i))$$\n",
    "\n",
    "となる。\n",
    "（一定モデル、xdモデルも同様）"
   ]
  },
  {
   "cell_type": "markdown",
   "id": "cb210b60",
   "metadata": {},
   "source": [
    "対数リンク関数を用いることで「各因子の効果が掛け算で影響する」という効果をうまく反映できている。\n",
    "$$ \\lambda_i = \\exp(\\beta_1 + \\beta_{2}x_i) $$ "
   ]
  },
  {
   "cell_type": "markdown",
   "id": "31d61a35",
   "metadata": {},
   "source": [
    "## 最尤推定を実施する"
   ]
  },
  {
   "cell_type": "code",
   "execution_count": 8,
   "id": "22cab4b5",
   "metadata": {},
   "outputs": [
    {
     "name": "stdout",
     "output_type": "stream",
     "text": [
      "                 Generalized Linear Model Regression Results                  \n",
      "==============================================================================\n",
      "Dep. Variable:                      y   No. Observations:                  100\n",
      "Model:                            GLM   Df Residuals:                       98\n",
      "Model Family:                 Poisson   Df Model:                            1\n",
      "Link Function:                    log   Scale:                          1.0000\n",
      "Method:                          IRLS   Log-Likelihood:                -235.39\n",
      "Date:                Sat, 12 Feb 2022   Deviance:                       84.993\n",
      "Time:                        15:31:47   Pearson chi2:                     83.8\n",
      "No. Iterations:                     4                                         \n",
      "Covariance Type:            nonrobust                                         \n",
      "==============================================================================\n",
      "                 coef    std err          z      P>|z|      [0.025      0.975]\n",
      "------------------------------------------------------------------------------\n",
      "Intercept      1.2917      0.364      3.552      0.000       0.579       2.005\n",
      "x              0.0757      0.036      2.125      0.034       0.006       0.145\n",
      "==============================================================================\n"
     ]
    },
    {
     "data": {
      "text/plain": [
       "'R\\nfit <- glm(y ~ x, data=d, family=poisson)\\nsummary(fit)\\n'"
      ]
     },
     "execution_count": 8,
     "metadata": {},
     "output_type": "execute_result"
    }
   ],
   "source": [
    "import statsmodels.api as sm\n",
    "import statsmodels.formula.api as smf\n",
    "\n",
    "# ポアソン回帰の推定量の導出\n",
    "model = smf.glm('y ~ x', data=data, family=sm.families.Poisson())\n",
    "result = model.fit()\n",
    "\n",
    "# 詳細な結果の確認\n",
    "print(result.summary())\n",
    "\n",
    "\"\"\"output\n",
    "                 Generalized Linear Model Regression Results                  \n",
    "==============================================================================\n",
    "Dep. Variable:                      y   No. Observations:                  100\n",
    "Model:                            GLM   Df Residuals:                       98\n",
    "Model Family:                 Poisson   Df Model:                            1\n",
    "Link Function:                    log   Scale:                          1.0000\n",
    "Method:                          IRLS   Log-Likelihood:                -235.39\n",
    "Date:                Sat, 12 Feb 2022   Deviance:                       84.993\n",
    "Time:                        15:31:47   Pearson chi2:                     83.8\n",
    "No. Iterations:                     4                                         \n",
    "Covariance Type:            nonrobust                                         \n",
    "==============================================================================\n",
    "                 coef    std err          z      P>|z|      [0.025      0.975]\n",
    "------------------------------------------------------------------------------\n",
    "Intercept      1.2917      0.364      3.552      0.000       0.579       2.005\n",
    "x              0.0757      0.036      2.125      0.034       0.006       0.145\n",
    "==============================================================================\n",
    "\"\"\""
   ]
  },
  {
   "cell_type": "markdown",
   "id": "74dc80dd",
   "metadata": {},
   "source": [
    "以上の結果から最尤推定値は以下のように求まった。\n",
    "- $\\hat{\\beta_1} = 1.29$\n",
    "- $\\hat{\\beta_2} = 0.0757$\n",
    "\n",
    "#### 各パラメータの説明\n",
    "- **std err**：**標準誤差**（最尤推定値がどれくらいバラつくかの指標）\n",
    "- **z（value）**：最尤推定値をSEで割った値。この値からWald統計量を算出して、推定値がゼロから十分離れているか確認できる。\n",
    "- **P>|z|**：平均|z|、標準偏差1の正規分布における $-\\infty~0$ の値をとる確率の2倍。この値が大きいほどそのパラメータが0に近いと言える。<br>（検定におけるP値のようなもの）"
   ]
  },
  {
   "cell_type": "markdown",
   "id": "57f08378",
   "metadata": {},
   "source": [
    "ただし、説明変数をモデルに含めるべきかの判断は、AIC（Akaike's information criterion）を使う方が良いとの事。"
   ]
  },
  {
   "cell_type": "markdown",
   "id": "65f6cc0b",
   "metadata": {},
   "source": [
    "## AIC を使って最良のモデルを選択する\n",
    "\n",
    "#### AIC（Akaike's information criterion）\n",
    "以下の式で表される、良い予測をするモデルが良いモデルである（≠予測精度重視）との考えに基づいた指標。<br>\n",
    "<u>AICが低いモデルほど良いモデル</u>\n",
    "\n",
    "$$AIC = -2(\\log{L*}-k)$$\n",
    "\n",
    "- **$\\log{L*}$**：最大対数尤度\n",
    "- **$k$**：予測に用いたパラメーターの数\n",
    "\n",
    "\n",
    "パラメーター数が多い統計モデルほどデータへの当てはまりが予測精度、最大対数尤度）がよくなるが、これは<u>たまたま得られた観測データへの当てはまりの良さを示しており、　真のモデルに対する当てはまりの良さではない</u>。\n",
    "<br>AICではパラメーター数の情報を指標に組み込む事で、観測データに比べて、真のモデルに対する当てはまりが悪くなってしまうことを防いでいる。\n",
    "\n",
    "<br>\n",
    "\n",
    "### それぞれのモデルのAICを比較する。"
   ]
  },
  {
   "cell_type": "code",
   "execution_count": 20,
   "id": "dbc3a026",
   "metadata": {},
   "outputs": [
    {
     "name": "stdout",
     "output_type": "stream",
     "text": [
      "AIC(一定モデル): 477.29\n",
      "AIC(xモデル): 474.77\n",
      "AIC(xdモデル): 476.59\n"
     ]
    }
   ],
   "source": [
    "# AIC の計算\n",
    "\n",
    "# 一定モデル\n",
    "model_const = smf.glm('y ~ 1', data=data, family=sm.families.Poisson())\n",
    "result_const = model_const.fit()\n",
    "print('AIC(一定モデル):',round(result_const.aic,2))\n",
    "\n",
    "# xモデル\n",
    "model_x = smf.glm('y ~ x', data=data, family=sm.families.Poisson())\n",
    "result_x = model_x.fit()\n",
    "print('AIC(xモデル):',round(result_x.aic,2))\n",
    "\n",
    "# xdモデル\n",
    "model_xd = smf.glm('y ~ x + f', data=data, family=sm.families.Poisson())\n",
    "result_xd = model_xd.fit()\n",
    "print('AIC(xdモデル):',round(result_xd.aic,2))"
   ]
  },
  {
   "cell_type": "markdown",
   "id": "e613cdb5",
   "metadata": {},
   "source": [
    "#### 結果\n",
    "- 一定モデル: 477.29\n",
    "- xモデル: 474.77\n",
    "- xdモデル: 476.59\n",
    "（xdモデル：体サイズと施肥効果の両方を考慮したモデル)\n",
    "<br>\n",
    "\n",
    "結果は以上のようになり、xモデル（体サイズ）のみを考慮したモデルが最も良いモデルだと言える。"
   ]
  },
  {
   "cell_type": "markdown",
   "id": "d01d315a",
   "metadata": {},
   "source": [
    "## 結果のプロット"
   ]
  },
  {
   "cell_type": "code",
   "execution_count": 21,
   "id": "f3093e40",
   "metadata": {},
   "outputs": [
    {
     "data": {
      "image/png": "[encoded data removed]",
      "text/plain": [
       "<Figure size 432x288 with 1 Axes>"
      ]
     },
     "metadata": {
      "needs_background": "light"
     },
     "output_type": "display_data"
    }
   ],
   "source": [
    "# ポアソン回帰の推定結果を使って、回帰直線を図示\n",
    "x = np.linspace(7, 13, 100)\n",
    "y = np.exp(result.params[\"Intercept\"] + x*result.params[\"x\"])\n",
    "\n",
    "data_c = data.loc[data['f']=='C']\n",
    "data_t = data.loc[data['f']=='T']\n",
    "plt.scatter(data_c[\"x\"], data_c[\"y\"], color='red', label='C：施肥処理なし')\n",
    "plt.scatter(data_t[\"x\"], data_t[\"y\"], color='blue', label='T：施肥処理あり')\n",
    "\n",
    "plt.plot(x,y,\"r--\")\n",
    "\n",
    "plt.xlabel('体サイズ')\n",
    "plt.ylabel('種子の数')\n",
    "plt.legend(loc='upper left')\n",
    "plt.show()"
   ]
  },
  {
   "cell_type": "markdown",
   "id": "966fafc2",
   "metadata": {},
   "source": [
    "## 参考\n",
    "\n",
    "- [データ解析のための統計モデリング入門（緑本）の読書メモ（PythonとStanで）](https://qiita.com/tackey/items/96171be393912fb333b3)"
   ]
  },
  {
   "cell_type": "code",
   "execution_count": null,
   "id": "a9210d7d",
   "metadata": {},
   "outputs": [],
   "source": []
  }
 ],
 "metadata": {
  "kernelspec": {
   "display_name": "Python 3 (ipykernel)",
   "language": "python",
   "name": "python3"
  },
  "language_info": {
   "codemirror_mode": {
    "name": "ipython",
    "version": 3
   },
   "file_extension": ".py",
   "mimetype": "text/x-python",
   "name": "python",
   "nbconvert_exporter": "python",
   "pygments_lexer": "ipython3",
   "version": "3.8.11"
  }
 },
 "nbformat": 4,
 "nbformat_minor": 5
}
