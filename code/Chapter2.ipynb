{
 "cells": [
  {
   "cell_type": "code",
   "execution_count": 6,
   "id": "6ee4be57",
   "metadata": {},
   "outputs": [],
   "source": [
    "import pandas as pd\n",
    "import numpy as np\n",
    "from scipy.stats import binom\n",
    "from scipy.stats import poisson\n",
    "\n",
    "import matplotlib.pyplot as plt\n",
    "%matplotlib inline"
   ]
  },
  {
   "cell_type": "markdown",
   "id": "4c31bf71",
   "metadata": {},
   "source": [
    "## 2.1 例題：種子数の統計モデリング"
   ]
  },
  {
   "cell_type": "code",
   "execution_count": 13,
   "id": "df88bfca",
   "metadata": {},
   "outputs": [
    {
     "data": {
      "text/plain": [
       "'R\\nload(\"data.RData\")\\n'"
      ]
     },
     "execution_count": 13,
     "metadata": {},
     "output_type": "execute_result"
    }
   ],
   "source": [
    "# データの読み込み\n",
    "data = pd.read_csv(r'./data.csv', header=None)\n",
    "\n",
    "\"\"\"R\n",
    "load(\"data.RData\")\n",
    "\"\"\" "
   ]
  },
  {
   "cell_type": "code",
   "execution_count": 15,
   "id": "0bfbcfb1",
   "metadata": {},
   "outputs": [
    {
     "name": "stdout",
     "output_type": "stream",
     "text": [
      "50\n"
     ]
    },
    {
     "data": {
      "text/plain": [
       "'R\\nlength(data)\\n'"
      ]
     },
     "execution_count": 15,
     "metadata": {},
     "output_type": "execute_result"
    }
   ],
   "source": [
    "# データの確認\n",
    "print(len(data))\n",
    "\n",
    "\"\"\"R\n",
    "length(data)\n",
    "\"\"\""
   ]
  },
  {
   "cell_type": "code",
   "execution_count": 18,
   "id": "eec8fe1d",
   "metadata": {},
   "outputs": [
    {
     "name": "stdout",
     "output_type": "stream",
     "text": [
      "              0\n",
      "count  50.00000\n",
      "mean    3.56000\n",
      "std     1.72804\n",
      "min     0.00000\n",
      "25%     2.00000\n",
      "50%     3.00000\n",
      "75%     4.75000\n",
      "max     7.00000\n"
     ]
    },
    {
     "data": {
      "text/plain": [
       "'R\\nsummary(data)\\n'"
      ]
     },
     "execution_count": 18,
     "metadata": {},
     "output_type": "execute_result"
    }
   ],
   "source": [
    "# dataの要約\n",
    "print(data.describe())\n",
    "\n",
    "\"\"\"R\n",
    "summary(data)\n",
    "\"\"\""
   ]
  },
  {
   "cell_type": "code",
   "execution_count": 20,
   "id": "1049bfd2",
   "metadata": {},
   "outputs": [
    {
     "name": "stdout",
     "output_type": "stream",
     "text": [
      "(array([ 1,  3, 11, 12, 10,  5,  8]), array([0., 1., 2., 3., 4., 5., 6., 7.]))\n"
     ]
    },
    {
     "data": {
      "text/plain": [
       "'R\\ntable(data)\\n'"
      ]
     },
     "execution_count": 20,
     "metadata": {},
     "output_type": "execute_result"
    }
   ],
   "source": [
    "# 度数分布を得る\n",
    "print(np.histogram(data, bins=7))\n",
    "\n",
    "\"\"\"R\n",
    "table(data)\n",
    "\"\"\""
   ]
  },
  {
   "cell_type": "code",
   "execution_count": 23,
   "id": "cfd8af1c",
   "metadata": {},
   "outputs": [
    {
     "data": {
      "text/plain": [
       "'R\\nhist(data, breaks = seq(-0.5, 9.5, 1))\\n'"
      ]
     },
     "execution_count": 23,
     "metadata": {},
     "output_type": "execute_result"
    },
    {
     "data": {
      "image/png": "[encoded data removed]",
      "text/plain": [
       "<Figure size 432x288 with 1 Axes>"
      ]
     },
     "metadata": {
      "needs_background": "light"
     },
     "output_type": "display_data"
    }
   ],
   "source": [
    "# ヒストグラム\n",
    "plt.hist(data, bins=np.arange(-0.5, 8.5, 1))\n",
    "\n",
    "\"\"\"R\n",
    "hist(data, breaks = seq(-0.5, 9.5, 1))\n",
    "\"\"\""
   ]
  },
  {
   "cell_type": "code",
   "execution_count": 30,
   "id": "14bde2c9",
   "metadata": {},
   "outputs": [
    {
     "name": "stdout",
     "output_type": "stream",
     "text": [
      "0    2.9264\n",
      "dtype: float64\n",
      "0    2.986122\n",
      "dtype: float64\n"
     ]
    },
    {
     "data": {
      "text/plain": [
       "'R\\nvar(data)\\n'"
      ]
     },
     "execution_count": 30,
     "metadata": {},
     "output_type": "execute_result"
    }
   ],
   "source": [
    "# 標本分散 と 不偏分散\n",
    "print(np.var(data,ddof=0))\n",
    "print(np.var(data,ddof=1))\n",
    "\n",
    "\"\"\"R\n",
    "var(data)\n",
    "\"\"\""
   ]
  },
  {
   "cell_type": "code",
   "execution_count": 37,
   "id": "3574da61",
   "metadata": {},
   "outputs": [
    {
     "name": "stdout",
     "output_type": "stream",
     "text": [
      "0    1.72804\n",
      "dtype: float64\n"
     ]
    },
    {
     "data": {
      "text/plain": [
       "'R\\nsd(data)\\nsqrt(var(data))\\n'"
      ]
     },
     "execution_count": 37,
     "metadata": {},
     "output_type": "execute_result"
    }
   ],
   "source": [
    "# 標本標準偏差\n",
    "print(np.sqrt(data.var()))\n",
    "\n",
    "\"\"\"R\n",
    "sd(data)\n",
    "sqrt(var(data))\n",
    "\"\"\""
   ]
  },
  {
   "cell_type": "markdown",
   "id": "7299f7dd",
   "metadata": {},
   "source": [
    "## 2.2 データと確率分布の対応関係を眺める"
   ]
  },
  {
   "cell_type": "code",
   "execution_count": 38,
   "id": "c5e53095",
   "metadata": {},
   "outputs": [
    {
     "data": {
      "text/plain": [
       "'R\\ny <- 0:9\\nprob <- dpois(y, lambda = 6)\\nplot(y, prob, type = \"b\", lty = 2)\\n'"
      ]
     },
     "execution_count": 38,
     "metadata": {},
     "output_type": "execute_result"
    },
    {
     "data": {
      "image/png": "[encoded data removed]",
      "text/plain": [
       "<Figure size 432x288 with 1 Axes>"
      ]
     },
     "metadata": {
      "needs_background": "light"
     },
     "output_type": "display_data"
    }
   ],
   "source": [
    "# 平均3.56のポアソン分布を図示してみる。\n",
    "y = range(10)\n",
    "prob = poisson.pmf(y, mu=3.56)\n",
    "plt.plot(y, prob, \"o--\")\n",
    "\n",
    "\"\"\"R\n",
    "y <- 0:9\n",
    "prob <- dpois(y, lambda = 6)\n",
    "plot(y, prob, type = \"b\", lty = 2)\n",
    "\"\"\""
   ]
  },
  {
   "cell_type": "markdown",
   "id": "610777d5",
   "metadata": {},
   "source": [
    "## 2.4 ポアソン分布のパラメータの最尤推定"
   ]
  },
  {
   "cell_type": "code",
   "execution_count": 52,
   "id": "541159fc",
   "metadata": {},
   "outputs": [
    {
     "data": {
      "text/plain": [
       "'R\\nlogL <- function(m) sum(dpois(data, m, log=TRUE))\\nlambda <- seq(2, 5, 0.1)\\nplot(lambda, sapply(lambda, logL), type= \"l\")\\n'"
      ]
     },
     "execution_count": 52,
     "metadata": {},
     "output_type": "execute_result"
    },
    {
     "data": {
      "image/png": "[encoded data removed]",
      "text/plain": [
       "<Figure size 432x288 with 1 Axes>"
      ]
     },
     "metadata": {
      "needs_background": "light"
     },
     "output_type": "display_data"
    }
   ],
   "source": [
    "# 対数尤度 logL(lambda)とlambdaの関係を調べる\n",
    "logL = lambda lambda_: sum(poisson.logpmf(data,mu=lambda_))\n",
    "lambda_list = np.arange(2, 5, 0.1)\n",
    "logL_list = [logL(lambda_) for lambda_ in lambda_list]\n",
    "plt.plot(x, logL_list)\n",
    "\n",
    "\"\"\"R\n",
    "logL <- function(m) sum(dpois(data, m, log=TRUE))\n",
    "lambda <- seq(2, 5, 0.1)\n",
    "plot(lambda, sapply(lambda, logL), type= \"l\")\n",
    "\"\"\""
   ]
  },
  {
   "cell_type": "markdown",
   "id": "8acbf67c",
   "metadata": {},
   "source": [
    "# 参考\n",
    "- https://github.com/takitsuba/midoribon/blob/master/Chap2/"
   ]
  },
  {
   "cell_type": "code",
   "execution_count": null,
   "id": "1501b607",
   "metadata": {},
   "outputs": [],
   "source": []
  }
 ],
 "metadata": {
  "kernelspec": {
   "display_name": "Python 3 (ipykernel)",
   "language": "python",
   "name": "python3"
  },
  "language_info": {
   "codemirror_mode": {
    "name": "ipython",
    "version": 3
   },
   "file_extension": ".py",
   "mimetype": "text/x-python",
   "name": "python",
   "nbconvert_exporter": "python",
   "pygments_lexer": "ipython3",
   "version": "3.8.11"
  }
 },
 "nbformat": 4,
 "nbformat_minor": 5
}
