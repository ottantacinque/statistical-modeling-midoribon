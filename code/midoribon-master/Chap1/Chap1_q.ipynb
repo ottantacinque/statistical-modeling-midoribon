{
 "cells": [
  {
   "cell_type": "markdown",
   "metadata": {},
   "source": [
    "# 1.データを理解するために統計モデルを作る\n",
    "Q.統計モデルとは？"
   ]
  },
  {
   "cell_type": "markdown",
   "metadata": {},
   "source": [
    "## 1.1.統計モデル：なぜ「統計」な「モデル」？\n",
    "Q.統計モデルの特徴は？（３つ）"
   ]
  },
  {
   "cell_type": "markdown",
   "metadata": {},
   "source": [
    "\n",
    "---\n",
    "\n",
    "自然が持つ情報\n",
    "\n",
    "↓\n",
    "\n",
    "↓　第１段階の情報消失（野外調査、野外実験、室内実験）\n",
    "\n",
    "↓\n",
    "\n",
    "観測データ\n",
    "\n",
    "↓\n",
    "\n",
    "↓　第２段階の情報消失（データ解析、統計モデリング）\n",
    "\n",
    "↓\n",
    "\n",
    "推定結果\n",
    "\n",
    "---\n",
    "\n",
    "Q. データ解析、統計モデルを行う理由\n"
   ]
  },
  {
   "cell_type": "markdown",
   "metadata": {},
   "source": [
    "Q. 統計モデルが有効な理由"
   ]
  },
  {
   "cell_type": "markdown",
   "metadata": {},
   "source": [
    "## 1.2.「ブラックボックスな統計解析」の悪夢\n",
    "Q. ブラックボックス統計学の誤用、おかしな作法の例は？"
   ]
  },
  {
   "cell_type": "markdown",
   "metadata": {},
   "source": [
    "Q. この本の狙いは？"
   ]
  },
  {
   "cell_type": "markdown",
   "metadata": {},
   "source": [
    "## 1.3.この本の内容：一般化線形モデルの導入とそのベイズ的な拡張\n",
    "Q. 線形モデルは何を前提とするか"
   ]
  },
  {
   "cell_type": "markdown",
   "metadata": {},
   "source": [
    "Q. GLMは線形モデルをどう拡張したものか"
   ]
  },
  {
   "cell_type": "markdown",
   "metadata": {},
   "source": [
    "## 1.3.1.各章の内容-全体の説明の流れ\n",
    "### 第2章\n",
    "Q. 統計モデルの主要な部品と言えば？"
   ]
  },
  {
   "cell_type": "markdown",
   "metadata": {},
   "source": [
    "Q. 最尤推定とは？"
   ]
  },
  {
   "cell_type": "markdown",
   "metadata": {},
   "source": [
    "### 第3章\n",
    "Q. ポアソン分布と組み合わせて統計モデルを構築する部品２つ"
   ]
  },
  {
   "cell_type": "markdown",
   "metadata": {},
   "source": [
    "### 第4章\n",
    "Q.AICとはなにか"
   ]
  },
  {
   "cell_type": "markdown",
   "metadata": {},
   "source": [
    "### 第5章\n",
    "Q. 最大対数尤度とは"
   ]
  },
  {
   "cell_type": "markdown",
   "metadata": {},
   "source": [
    "Q. 尤度比検定とは？"
   ]
  },
  {
   "cell_type": "markdown",
   "metadata": {},
   "source": [
    "### 第6章\n",
    "Q. 扱う確率分布（3つ）"
   ]
  },
  {
   "cell_type": "markdown",
   "metadata": {},
   "source": [
    "### 第7章\n",
    "* 個体差、場所差\n",
    "* 一般化線形混合モデル\n",
    "\n",
    "### 第8章\n",
    "* マルコフ連鎖モンテカルロ法（Markov chain Monte Carlo Method,MCMC)\n",
    "* ベイズ統計モデル\n",
    "\n",
    "### 第9章\n",
    "* GLMをベイズモデル化してみる\n",
    "\n",
    "### 第10章\n",
    "* GLMMをベイズモデル化した階層ベイズモデル\n",
    "\n",
    "### 第11章\n",
    "* 空間構造を考慮した統計モデル\n",
    "\n",
    "\n",
    "## 1.4.この本に登場する訳語・記号・記法について\n",
    "Q. 応答変数、説明変数とは？"
   ]
  },
  {
   "cell_type": "markdown",
   "metadata": {},
   "source": [
    "Q.$$f(y_i) = \\beta_1 + \\beta_2 \\cdot_i + ...$$の左辺と右辺をなんと呼ぶか？"
   ]
  },
  {
   "cell_type": "markdown",
   "metadata": {},
   "source": [
    "## 1.5.この章のまとめと参考文献\n",
    "* データ解析において作図は重要。"
   ]
  }
 ],
 "metadata": {
  "kernelspec": {
   "display_name": "Python 3",
   "language": "python",
   "name": "python3"
  },
  "language_info": {
   "codemirror_mode": {
    "name": "ipython",
    "version": 3
   },
   "file_extension": ".py",
   "mimetype": "text/x-python",
   "name": "python",
   "nbconvert_exporter": "python",
   "pygments_lexer": "ipython3",
   "version": "3.6.0"
  }
 },
 "nbformat": 4,
 "nbformat_minor": 2
}
