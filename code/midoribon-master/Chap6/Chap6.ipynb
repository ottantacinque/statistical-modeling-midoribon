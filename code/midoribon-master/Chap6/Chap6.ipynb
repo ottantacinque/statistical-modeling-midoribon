{
 "cells": [
  {
   "cell_type": "markdown",
   "metadata": {},
   "source": [
    "# 6章 GLMの応用範囲を広げる-ロジスティック回帰など-\n",
    "* ポアソン分布以外の確率分布を扱う\n",
    "* GLMのオフセット項を使い方を説明"
   ]
  },
  {
   "cell_type": "markdown",
   "metadata": {},
   "source": [
    "## 6.1. 様々な種類のデータで応用できるGLM"
   ]
  },
  {
   "cell_type": "markdown",
   "metadata": {},
   "source": [
    "Q. GLMの特徴は？"
   ]
  },
  {
   "cell_type": "markdown",
   "metadata": {},
   "source": [
    "A.\n",
    "* 確率分布、リンク関数、線形予測子の組み合わせを指定することによって、様々なタイプのデータを表現できること"
   ]
  },
  {
   "cell_type": "markdown",
   "metadata": {},
   "source": [
    "### PythonでGLMの構築に使える確率分布の一部（できたら）"
   ]
  },
  {
   "cell_type": "markdown",
   "metadata": {},
   "source": [
    "* 未作成"
   ]
  },
  {
   "cell_type": "markdown",
   "metadata": {},
   "source": [
    "* GLMなど使わなくとも、応答変数を変数変換して直線回帰すれば良いと考えている人もいるが、その方法はリンク関数とは全く別のもの"
   ]
  },
  {
   "cell_type": "markdown",
   "metadata": {},
   "source": [
    "## 6.2. 例題：上限のあるカウントデータ"
   ]
  },
  {
   "cell_type": "markdown",
   "metadata": {},
   "source": [
    "* ポアソン分布は上限のないカウントデータを表現\n",
    "* 二項分布は上限のあるカウントデータのばらつきを表すために用いる\n",
    "    * 例）N個体の実験対象に同じ処理をしたら、y個体で陽性、N-y個体で陰性。N個という上限がある。\n"
   ]
  },
  {
   "cell_type": "markdown",
   "metadata": {},
   "source": [
    "### 例題のデータについて"
   ]
  },
  {
   "cell_type": "markdown",
   "metadata": {},
   "source": [
    "* ここでは、観察種子数$N_i$をどの個体でも8個とする。\n",
    "* 応答変数である生存種子数$y_i$は0〜8の整数となる。\n",
    "* ある個体$i$の種子の生存確率$q_i$は「ある個体$i$から得られた1個の種子が生きている確率」\n",
    "* 体サイズ$x_i$、肥料の処理の有無$f_i$\n",
    "* ある個体の生存確率$q_i$が$x_i$や$f_i$といった説明変数によってどう変化するか調べる。"
   ]
  },
  {
   "cell_type": "code",
   "execution_count": 1,
   "metadata": {},
   "outputs": [
    {
     "name": "stderr",
     "output_type": "stream",
     "text": [
      "/Users/takizawa/dev/python/books/midori/lib/python3.6/site-packages/statsmodels/compat/pandas.py:56: FutureWarning: The pandas.core.datetools module is deprecated and will be removed in a future version. Please use the pandas.tseries module instead.\n",
      "  from pandas.core import datetools\n"
     ]
    }
   ],
   "source": [
    "import numpy as np\n",
    "import pandas as pd\n",
    "import matplotlib.pyplot as plt\n",
    "import statsmodels.api as sm\n",
    "import statsmodels.formula.api as smf\n",
    "%matplotlib inline\n",
    "\n",
    "np.random.seed(160)\n",
    "\n",
    "d = pd.read_csv(\"data4a.csv\",dtype={\"y\": int,\"x\":float, \"f\":\"category\"})"
   ]
  },
  {
   "cell_type": "code",
   "execution_count": 2,
   "metadata": {},
   "outputs": [
    {
     "data": {
      "text/html": [
       "<div>\n",
       "<style>\n",
       "    .dataframe thead tr:only-child th {\n",
       "        text-align: right;\n",
       "    }\n",
       "\n",
       "    .dataframe thead th {\n",
       "        text-align: left;\n",
       "    }\n",
       "\n",
       "    .dataframe tbody tr th {\n",
       "        vertical-align: top;\n",
       "    }\n",
       "</style>\n",
       "<table border=\"1\" class=\"dataframe\">\n",
       "  <thead>\n",
       "    <tr style=\"text-align: right;\">\n",
       "      <th></th>\n",
       "      <th>N</th>\n",
       "      <th>y</th>\n",
       "      <th>x</th>\n",
       "      <th>f</th>\n",
       "    </tr>\n",
       "  </thead>\n",
       "  <tbody>\n",
       "    <tr>\n",
       "      <th>0</th>\n",
       "      <td>8</td>\n",
       "      <td>1</td>\n",
       "      <td>9.76</td>\n",
       "      <td>C</td>\n",
       "    </tr>\n",
       "    <tr>\n",
       "      <th>1</th>\n",
       "      <td>8</td>\n",
       "      <td>6</td>\n",
       "      <td>10.48</td>\n",
       "      <td>C</td>\n",
       "    </tr>\n",
       "    <tr>\n",
       "      <th>2</th>\n",
       "      <td>8</td>\n",
       "      <td>5</td>\n",
       "      <td>10.83</td>\n",
       "      <td>C</td>\n",
       "    </tr>\n",
       "    <tr>\n",
       "      <th>3</th>\n",
       "      <td>8</td>\n",
       "      <td>6</td>\n",
       "      <td>10.94</td>\n",
       "      <td>C</td>\n",
       "    </tr>\n",
       "    <tr>\n",
       "      <th>4</th>\n",
       "      <td>8</td>\n",
       "      <td>1</td>\n",
       "      <td>9.37</td>\n",
       "      <td>C</td>\n",
       "    </tr>\n",
       "  </tbody>\n",
       "</table>\n",
       "</div>"
      ],
      "text/plain": [
       "   N  y      x  f\n",
       "0  8  1   9.76  C\n",
       "1  8  6  10.48  C\n",
       "2  8  5  10.83  C\n",
       "3  8  6  10.94  C\n",
       "4  8  1   9.37  C"
      ]
     },
     "execution_count": 2,
     "metadata": {},
     "output_type": "execute_result"
    }
   ],
   "source": [
    "d.head()"
   ]
  },
  {
   "cell_type": "code",
   "execution_count": 3,
   "metadata": {},
   "outputs": [
    {
     "data": {
      "text/html": [
       "<div>\n",
       "<style>\n",
       "    .dataframe thead tr:only-child th {\n",
       "        text-align: right;\n",
       "    }\n",
       "\n",
       "    .dataframe thead th {\n",
       "        text-align: left;\n",
       "    }\n",
       "\n",
       "    .dataframe tbody tr th {\n",
       "        vertical-align: top;\n",
       "    }\n",
       "</style>\n",
       "<table border=\"1\" class=\"dataframe\">\n",
       "  <thead>\n",
       "    <tr style=\"text-align: right;\">\n",
       "      <th></th>\n",
       "      <th>N</th>\n",
       "      <th>y</th>\n",
       "      <th>x</th>\n",
       "    </tr>\n",
       "  </thead>\n",
       "  <tbody>\n",
       "    <tr>\n",
       "      <th>count</th>\n",
       "      <td>100.0</td>\n",
       "      <td>100.000000</td>\n",
       "      <td>100.000000</td>\n",
       "    </tr>\n",
       "    <tr>\n",
       "      <th>mean</th>\n",
       "      <td>8.0</td>\n",
       "      <td>5.080000</td>\n",
       "      <td>9.967200</td>\n",
       "    </tr>\n",
       "    <tr>\n",
       "      <th>std</th>\n",
       "      <td>0.0</td>\n",
       "      <td>2.743882</td>\n",
       "      <td>1.088954</td>\n",
       "    </tr>\n",
       "    <tr>\n",
       "      <th>min</th>\n",
       "      <td>8.0</td>\n",
       "      <td>0.000000</td>\n",
       "      <td>7.660000</td>\n",
       "    </tr>\n",
       "    <tr>\n",
       "      <th>25%</th>\n",
       "      <td>8.0</td>\n",
       "      <td>3.000000</td>\n",
       "      <td>9.337500</td>\n",
       "    </tr>\n",
       "    <tr>\n",
       "      <th>50%</th>\n",
       "      <td>8.0</td>\n",
       "      <td>6.000000</td>\n",
       "      <td>9.965000</td>\n",
       "    </tr>\n",
       "    <tr>\n",
       "      <th>75%</th>\n",
       "      <td>8.0</td>\n",
       "      <td>8.000000</td>\n",
       "      <td>10.770000</td>\n",
       "    </tr>\n",
       "    <tr>\n",
       "      <th>max</th>\n",
       "      <td>8.0</td>\n",
       "      <td>8.000000</td>\n",
       "      <td>12.440000</td>\n",
       "    </tr>\n",
       "  </tbody>\n",
       "</table>\n",
       "</div>"
      ],
      "text/plain": [
       "           N           y           x\n",
       "count  100.0  100.000000  100.000000\n",
       "mean     8.0    5.080000    9.967200\n",
       "std      0.0    2.743882    1.088954\n",
       "min      8.0    0.000000    7.660000\n",
       "25%      8.0    3.000000    9.337500\n",
       "50%      8.0    6.000000    9.965000\n",
       "75%      8.0    8.000000   10.770000\n",
       "max      8.0    8.000000   12.440000"
      ]
     },
     "execution_count": 3,
     "metadata": {},
     "output_type": "execute_result"
    }
   ],
   "source": [
    "d.describe()"
   ]
  },
  {
   "cell_type": "code",
   "execution_count": 4,
   "metadata": {},
   "outputs": [
    {
     "data": {
      "text/plain": [
       "count     100\n",
       "unique      2\n",
       "top         T\n",
       "freq       50\n",
       "Name: f, dtype: object"
      ]
     },
     "execution_count": 4,
     "metadata": {},
     "output_type": "execute_result"
    }
   ],
   "source": [
    "d.f.describe()"
   ]
  },
  {
   "cell_type": "code",
   "execution_count": 5,
   "metadata": {},
   "outputs": [
    {
     "data": {
      "image/png": "[encoded data removed]",
      "text/plain": [
       "<matplotlib.figure.Figure at 0x10a239780>"
      ]
     },
     "metadata": {},
     "output_type": "display_data"
    }
   ],
   "source": [
    "x_c = d.x[d.f == \"C\"]\n",
    "y_c = d.y[d.f == \"C\"]\n",
    "\n",
    "x_t = d.x[d.f == \"T\"]\n",
    "y_t = d.y[d.f == \"T\"]\n",
    "\n",
    "plt.scatter(x_c,y_c,c=\"red\",label=\"c\")\n",
    "plt.scatter(x_t,y_t,c=\"blue\",label=\"t\")\n",
    "plt.legend()\n",
    "plt.show()"
   ]
  },
  {
   "cell_type": "markdown",
   "metadata": {},
   "source": [
    "* 体サイズ$x_i$が大きくなると、生存種子数$y_i$は多くなりそうだ\n",
    "* 肥料をやる（$f_i = T$)と、生存種子数$y_i$は多くなりそうだ"
   ]
  },
  {
   "cell_type": "markdown",
   "metadata": {},
   "source": [
    "## 6.3. 二項分布で表現する「あり・なし」カウントデータ"
   ]
  },
  {
   "cell_type": "markdown",
   "metadata": {},
   "source": [
    "* 「N個のうちy個が生存していた」といった構造のカウントデータを統計モデルで表現するときには「二項分布(binomial distribution)」がよく使われる。\n",
    "* 本事例では$N_i = 8$ という上限があるため、ポアソン分布では観測データを表現できない（ポアソン分布は0以上で上限不明のカウントデータを扱う）\n",
    "* 二項分布の確率分布は下記と定義される。\n",
    "$$\n",
    "p(y | N,q) = \\binom Ny q^y (1-q)^{N-y}\n",
    "$$\n",
    "* $p(y | N,q)$は$N$個中の$y$個で事象が生起する確率。\n",
    "* $\\binom Ny$は場合の数で、「$N$個の観察種子の中から$y$個の生存種子を選び出す場合の数。"
   ]
  },
  {
   "cell_type": "code",
   "execution_count": 6,
   "metadata": {},
   "outputs": [
    {
     "data": {
      "text/plain": [
       "<matplotlib.legend.Legend at 0x10a30a048>"
      ]
     },
     "execution_count": 6,
     "metadata": {},
     "output_type": "execute_result"
    },
    {
     "data": {
      "image/png": "[encoded data removed]",
      "text/plain": [
       "<matplotlib.figure.Figure at 0x10a30a1d0>"
      ]
     },
     "metadata": {},
     "output_type": "display_data"
    }
   ],
   "source": [
    "q_list = [0.1,0.3,0.8]\n",
    "p_dicts =dict()\n",
    "for q in q_list:\n",
    "    p_dict = dict()\n",
    "    for i in range(0,9):\n",
    "        p_dict.update({i:0})\n",
    "    for _ in range(1000):\n",
    "        rnd = np.random.binomial(8,p=q)\n",
    "        p_dict[rnd] += 1\n",
    "    \n",
    "    for i in range(0,9):\n",
    "        p_dict[i] /= 1000\n",
    "        \n",
    "    p_dicts.update({q: p_dict})\n",
    "\n",
    "for param,dictionary in p_dicts.items():\n",
    "    plt.plot(list(dictionary.keys()),list(dictionary.values()),label=str(param))\n",
    "    \n",
    "plt.legend()"
   ]
  },
  {
   "cell_type": "markdown",
   "metadata": {},
   "source": [
    "## 6.4. ロジスティック回帰とロジットリンク関数"
   ]
  },
  {
   "cell_type": "markdown",
   "metadata": {},
   "source": [
    "* 二項分布を使ったGLMの一つである、ロジスティック回帰(logistic regression)の統計モデルを扱う。"
   ]
  },
  {
   "cell_type": "markdown",
   "metadata": {},
   "source": [
    "### 6.4.1. ロジットリンク関数"
   ]
  },
  {
   "cell_type": "markdown",
   "metadata": {},
   "source": [
    "* GLMは確率分布・リンク関数・線形予測子を指定する統計モデル\n",
    "* ロジスティック回帰では確率分布は二項分布、リンク関数はロジットリンク関数\n",
    "* 二項分布では、事象が生起する確率$q_i$をパラメーターとして指定する必要がある。この$q_i$は確率なので、$0\\leqq q_i \\leqq 1$。"
   ]
  },
  {
   "cell_type": "markdown",
   "metadata": {},
   "source": [
    "* ロジットリンク関数の前に、ロジスティック関数について説明する。関数系は下記。\n",
    "$$\n",
    "q_i = logistic (z_i) = \\frac{1} {1+\\exp(-z_i)}\n",
    "$$\n",
    "変数 $z_i$ は線形予測子 $z_i = \\beta_1 + \\beta_2 x_i + ...$\n",
    "* ロジスティック関数を作図する。"
   ]
  },
  {
   "cell_type": "code",
   "execution_count": 7,
   "metadata": {
    "collapsed": true
   },
   "outputs": [],
   "source": [
    "def sigmoid(x):\n",
    "    return 1 /(1+np.exp(-x))\n",
    "x = np.arange(-6,6,0.1)\n",
    "y = sigmoid(x)"
   ]
  },
  {
   "cell_type": "code",
   "execution_count": 8,
   "metadata": {},
   "outputs": [
    {
     "data": {
      "text/plain": [
       "[<matplotlib.lines.Line2D at 0x10a51d0f0>]"
      ]
     },
     "execution_count": 8,
     "metadata": {},
     "output_type": "execute_result"
    },
    {
     "data": {
      "image/png": "[encoded data removed]",
      "text/plain": [
       "<matplotlib.figure.Figure at 0x10a1e6a58>"
      ]
     },
     "metadata": {},
     "output_type": "display_data"
    }
   ],
   "source": [
    "plt.plot(x,y)"
   ]
  },
  {
   "cell_type": "markdown",
   "metadata": {},
   "source": [
    "* ロジスティック関数を変形すると下記。\n",
    "$$\n",
    "\\log \\frac{q_i} { 1-q_i} = z_i\n",
    "$$\n",
    "* この左辺のことをロジット関数という。\n",
    "$$\n",
    "logit(q_i) = \\log \\frac {q_i}{1-q_i}\n",
    "$$\n",
    "* ロジット関数はロジスティック関数の逆関数であり、ロジスティック関数の逆関数がロジット関数"
   ]
  },
  {
   "cell_type": "markdown",
   "metadata": {},
   "source": [
    "### 6.4.2. パラメーター推定"
   ]
  },
  {
   "cell_type": "markdown",
   "metadata": {},
   "source": [
    "* この統計モデルをデータに当てはめてパラメータを推定する。\n",
    "* 尤度関数は下記。\n",
    "$$\n",
    "L({\\beta_j}) = \\prod_{ i } (N_i,y_i) q_{i}^{y_i} (1-q_i)^{N_i - y_i}\n",
    "$$\n",
    "（ある個体$i$から$N_i$個取り出したうちの生存種子数が$y_i$である確率を考え、それを全個体で掛け合わせれば良い。）\n",
    "* 対数尤度関数は下記。\n",
    "$$\n",
    "\\log L({\\beta_j}) = \\sum_{i} \\left( \\log (N_i,y_i) + y_i \\log (q_i) + (N_i - y_i) \\log (1-q_i) \\right)\n",
    "$$\n",
    "* この$\\log L$を最大にする推定値のセットを探し出すのが最尤推定\n",
    "* ここで、確率$q_i$は{$\\beta_1,\\beta_2,\\beta_3$}の関数であることに注意。"
   ]
  },
  {
   "cell_type": "code",
   "execution_count": 9,
   "metadata": {},
   "outputs": [
    {
     "data": {
      "text/html": [
       "<div>\n",
       "<style>\n",
       "    .dataframe thead tr:only-child th {\n",
       "        text-align: right;\n",
       "    }\n",
       "\n",
       "    .dataframe thead th {\n",
       "        text-align: left;\n",
       "    }\n",
       "\n",
       "    .dataframe tbody tr th {\n",
       "        vertical-align: top;\n",
       "    }\n",
       "</style>\n",
       "<table border=\"1\" class=\"dataframe\">\n",
       "  <thead>\n",
       "    <tr style=\"text-align: right;\">\n",
       "      <th></th>\n",
       "      <th>N</th>\n",
       "      <th>y</th>\n",
       "      <th>x</th>\n",
       "      <th>f</th>\n",
       "    </tr>\n",
       "  </thead>\n",
       "  <tbody>\n",
       "    <tr>\n",
       "      <th>0</th>\n",
       "      <td>8</td>\n",
       "      <td>1</td>\n",
       "      <td>9.76</td>\n",
       "      <td>C</td>\n",
       "    </tr>\n",
       "    <tr>\n",
       "      <th>1</th>\n",
       "      <td>8</td>\n",
       "      <td>6</td>\n",
       "      <td>10.48</td>\n",
       "      <td>C</td>\n",
       "    </tr>\n",
       "    <tr>\n",
       "      <th>2</th>\n",
       "      <td>8</td>\n",
       "      <td>5</td>\n",
       "      <td>10.83</td>\n",
       "      <td>C</td>\n",
       "    </tr>\n",
       "    <tr>\n",
       "      <th>3</th>\n",
       "      <td>8</td>\n",
       "      <td>6</td>\n",
       "      <td>10.94</td>\n",
       "      <td>C</td>\n",
       "    </tr>\n",
       "    <tr>\n",
       "      <th>4</th>\n",
       "      <td>8</td>\n",
       "      <td>1</td>\n",
       "      <td>9.37</td>\n",
       "      <td>C</td>\n",
       "    </tr>\n",
       "  </tbody>\n",
       "</table>\n",
       "</div>"
      ],
      "text/plain": [
       "   N  y      x  f\n",
       "0  8  1   9.76  C\n",
       "1  8  6  10.48  C\n",
       "2  8  5  10.83  C\n",
       "3  8  6  10.94  C\n",
       "4  8  1   9.37  C"
      ]
     },
     "execution_count": 9,
     "metadata": {},
     "output_type": "execute_result"
    }
   ],
   "source": [
    "d.head()"
   ]
  },
  {
   "cell_type": "code",
   "execution_count": 10,
   "metadata": {},
   "outputs": [
    {
     "data": {
      "text/plain": [
       "(100, 4)"
      ]
     },
     "execution_count": 10,
     "metadata": {},
     "output_type": "execute_result"
    }
   ],
   "source": [
    "d.shape"
   ]
  },
  {
   "cell_type": "code",
   "execution_count": 11,
   "metadata": {
    "collapsed": true,
    "scrolled": false
   },
   "outputs": [],
   "source": [
    "import statsmodels.api as sm\n",
    "import statsmodels.formula.api as smf\n",
    "model = smf.glm('y + I(N-y)~ x + f',data=d,family=sm.families.Binomial())"
   ]
  },
  {
   "cell_type": "code",
   "execution_count": 12,
   "metadata": {
    "collapsed": true
   },
   "outputs": [],
   "source": [
    "result = model.fit()"
   ]
  },
  {
   "cell_type": "code",
   "execution_count": 13,
   "metadata": {},
   "outputs": [
    {
     "data": {
      "text/html": [
       "<table class=\"simpletable\">\n",
       "<caption>Generalized Linear Model Regression Results</caption>\n",
       "<tr>\n",
       "  <th>Dep. Variable:</th>  <td>['y', 'I(N - y)']</td> <th>  No. Observations:  </th>  <td>   100</td> \n",
       "</tr>\n",
       "<tr>\n",
       "  <th>Model:</th>                 <td>GLM</td>        <th>  Df Residuals:      </th>  <td>    97</td> \n",
       "</tr>\n",
       "<tr>\n",
       "  <th>Model Family:</th>       <td>Binomial</td>      <th>  Df Model:          </th>  <td>     2</td> \n",
       "</tr>\n",
       "<tr>\n",
       "  <th>Link Function:</th>        <td>logit</td>       <th>  Scale:             </th>    <td>1.0</td>  \n",
       "</tr>\n",
       "<tr>\n",
       "  <th>Method:</th>               <td>IRLS</td>        <th>  Log-Likelihood:    </th> <td> -133.11</td>\n",
       "</tr>\n",
       "<tr>\n",
       "  <th>Date:</th>           <td>Thu, 06 Jul 2017</td>  <th>  Deviance:          </th> <td>  123.03</td>\n",
       "</tr>\n",
       "<tr>\n",
       "  <th>Time:</th>               <td>01:08:11</td>      <th>  Pearson chi2:      </th>  <td>  13.7</td> \n",
       "</tr>\n",
       "<tr>\n",
       "  <th>No. Iterations:</th>         <td>6</td>         <th>                     </th>     <td> </td>   \n",
       "</tr>\n",
       "</table>\n",
       "<table class=\"simpletable\">\n",
       "<tr>\n",
       "      <td></td>         <th>coef</th>     <th>std err</th>      <th>z</th>      <th>P>|z|</th>  <th>[0.025</th>    <th>0.975]</th>  \n",
       "</tr>\n",
       "<tr>\n",
       "  <th>Intercept</th> <td>  -19.5361</td> <td>    1.414</td> <td>  -13.818</td> <td> 0.000</td> <td>  -22.307</td> <td>  -16.765</td>\n",
       "</tr>\n",
       "<tr>\n",
       "  <th>f[T.T]</th>    <td>    2.0215</td> <td>    0.231</td> <td>    8.740</td> <td> 0.000</td> <td>    1.568</td> <td>    2.475</td>\n",
       "</tr>\n",
       "<tr>\n",
       "  <th>x</th>         <td>    1.9524</td> <td>    0.139</td> <td>   14.059</td> <td> 0.000</td> <td>    1.680</td> <td>    2.225</td>\n",
       "</tr>\n",
       "</table>"
      ],
      "text/plain": [
       "<class 'statsmodels.iolib.summary.Summary'>\n",
       "\"\"\"\n",
       "                 Generalized Linear Model Regression Results                  \n",
       "==============================================================================\n",
       "Dep. Variable:      ['y', 'I(N - y)']   No. Observations:                  100\n",
       "Model:                            GLM   Df Residuals:                       97\n",
       "Model Family:                Binomial   Df Model:                            2\n",
       "Link Function:                  logit   Scale:                             1.0\n",
       "Method:                          IRLS   Log-Likelihood:                -133.11\n",
       "Date:                Thu, 06 Jul 2017   Deviance:                       123.03\n",
       "Time:                        01:08:11   Pearson chi2:                     13.7\n",
       "No. Iterations:                     6                                         \n",
       "==============================================================================\n",
       "                 coef    std err          z      P>|z|      [0.025      0.975]\n",
       "------------------------------------------------------------------------------\n",
       "Intercept    -19.5361      1.414    -13.818      0.000     -22.307     -16.765\n",
       "f[T.T]         2.0215      0.231      8.740      0.000       1.568       2.475\n",
       "x              1.9524      0.139     14.059      0.000       1.680       2.225\n",
       "==============================================================================\n",
       "\"\"\""
      ]
     },
     "execution_count": 13,
     "metadata": {},
     "output_type": "execute_result"
    }
   ],
   "source": [
    "result.summary()"
   ]
  },
  {
   "cell_type": "markdown",
   "metadata": {},
   "source": [
    "* 図示する"
   ]
  },
  {
   "cell_type": "code",
   "execution_count": 14,
   "metadata": {
    "collapsed": true
   },
   "outputs": [],
   "source": [
    "df_test_c = pd.DataFrame()\n",
    "df_test_c[\"x\"] = np.linspace(7,12,100)\n",
    "df_test_c[\"f\"] = \"C\"\n",
    "predict_c = result.predict(df_test_c)*8\n",
    "\n",
    "df_test_t = pd.DataFrame()\n",
    "df_test_t[\"x\"] = np.linspace(7,12,100)\n",
    "df_test_t[\"f\"] = \"T\"\n",
    "predict_t = result.predict(df_test_t)*8"
   ]
  },
  {
   "cell_type": "code",
   "execution_count": 15,
   "metadata": {},
   "outputs": [
    {
     "data": {
      "text/plain": [
       "<matplotlib.legend.Legend at 0x10a65b2b0>"
      ]
     },
     "execution_count": 15,
     "metadata": {},
     "output_type": "execute_result"
    },
    {
     "data": {
      "image/png": "[encoded data removed]",
      "text/plain": [
       "<matplotlib.figure.Figure at 0x10a562780>"
      ]
     },
     "metadata": {},
     "output_type": "display_data"
    }
   ],
   "source": [
    "plt.plot(df_test_c.x,predict_c,label=\"C\")\n",
    "plt.plot(df_test_t.x,predict_t,label=\"T\")\n",
    "plt.scatter(d.x,d.y,c=d.f.cat.codes,label=\"data\")\n",
    "plt.legend()"
   ]
  },
  {
   "cell_type": "code",
   "execution_count": 16,
   "metadata": {},
   "outputs": [
    {
     "data": {
      "text/plain": [
       "array([ -6.00000000e+00,  -5.90000000e+00,  -5.80000000e+00,\n",
       "        -5.70000000e+00,  -5.60000000e+00,  -5.50000000e+00,\n",
       "        -5.40000000e+00,  -5.30000000e+00,  -5.20000000e+00,\n",
       "        -5.10000000e+00,  -5.00000000e+00,  -4.90000000e+00,\n",
       "        -4.80000000e+00,  -4.70000000e+00,  -4.60000000e+00,\n",
       "        -4.50000000e+00,  -4.40000000e+00,  -4.30000000e+00,\n",
       "        -4.20000000e+00,  -4.10000000e+00,  -4.00000000e+00,\n",
       "        -3.90000000e+00,  -3.80000000e+00,  -3.70000000e+00,\n",
       "        -3.60000000e+00,  -3.50000000e+00,  -3.40000000e+00,\n",
       "        -3.30000000e+00,  -3.20000000e+00,  -3.10000000e+00,\n",
       "        -3.00000000e+00,  -2.90000000e+00,  -2.80000000e+00,\n",
       "        -2.70000000e+00,  -2.60000000e+00,  -2.50000000e+00,\n",
       "        -2.40000000e+00,  -2.30000000e+00,  -2.20000000e+00,\n",
       "        -2.10000000e+00,  -2.00000000e+00,  -1.90000000e+00,\n",
       "        -1.80000000e+00,  -1.70000000e+00,  -1.60000000e+00,\n",
       "        -1.50000000e+00,  -1.40000000e+00,  -1.30000000e+00,\n",
       "        -1.20000000e+00,  -1.10000000e+00,  -1.00000000e+00,\n",
       "        -9.00000000e-01,  -8.00000000e-01,  -7.00000000e-01,\n",
       "        -6.00000000e-01,  -5.00000000e-01,  -4.00000000e-01,\n",
       "        -3.00000000e-01,  -2.00000000e-01,  -1.00000000e-01,\n",
       "        -2.13162821e-14,   1.00000000e-01,   2.00000000e-01,\n",
       "         3.00000000e-01,   4.00000000e-01,   5.00000000e-01,\n",
       "         6.00000000e-01,   7.00000000e-01,   8.00000000e-01,\n",
       "         9.00000000e-01,   1.00000000e+00,   1.10000000e+00,\n",
       "         1.20000000e+00,   1.30000000e+00,   1.40000000e+00,\n",
       "         1.50000000e+00,   1.60000000e+00,   1.70000000e+00,\n",
       "         1.80000000e+00,   1.90000000e+00,   2.00000000e+00,\n",
       "         2.10000000e+00,   2.20000000e+00,   2.30000000e+00,\n",
       "         2.40000000e+00,   2.50000000e+00,   2.60000000e+00,\n",
       "         2.70000000e+00,   2.80000000e+00,   2.90000000e+00,\n",
       "         3.00000000e+00,   3.10000000e+00,   3.20000000e+00,\n",
       "         3.30000000e+00,   3.40000000e+00,   3.50000000e+00,\n",
       "         3.60000000e+00,   3.70000000e+00,   3.80000000e+00,\n",
       "         3.90000000e+00,   4.00000000e+00,   4.10000000e+00,\n",
       "         4.20000000e+00,   4.30000000e+00,   4.40000000e+00,\n",
       "         4.50000000e+00,   4.60000000e+00,   4.70000000e+00,\n",
       "         4.80000000e+00,   4.90000000e+00,   5.00000000e+00,\n",
       "         5.10000000e+00,   5.20000000e+00,   5.30000000e+00,\n",
       "         5.40000000e+00,   5.50000000e+00,   5.60000000e+00,\n",
       "         5.70000000e+00,   5.80000000e+00,   5.90000000e+00])"
      ]
     },
     "execution_count": 16,
     "metadata": {},
     "output_type": "execute_result"
    }
   ],
   "source": [
    "x"
   ]
  },
  {
   "cell_type": "code",
   "execution_count": 17,
   "metadata": {},
   "outputs": [
    {
     "data": {
      "text/plain": [
       "<matplotlib.text.Text at 0x10b0b28d0>"
      ]
     },
     "execution_count": 17,
     "metadata": {},
     "output_type": "execute_result"
    },
    {
     "data": {
      "image/png": "[encoded data removed]",
      "text/plain": [
       "<matplotlib.figure.Figure at 0x10a239978>"
      ]
     },
     "metadata": {},
     "output_type": "display_data"
    }
   ],
   "source": [
    "# predictを用いずに。\n",
    "b1 = result.params[0]\n",
    "b2 = result.params[2]\n",
    "b3 = result.params[1]\n",
    "\n",
    "x = np.linspace(7,12,100)\n",
    "z_c = x*b2 + b1\n",
    "z_t = x*b2 + b1 + b3\n",
    "y_c = sigmoid(z_c)\n",
    "y_t = sigmoid(z_t)\n",
    "\n",
    "plt.subplot(2,1,1)\n",
    "plt.plot(x,y_c)\n",
    "plt.title(\"C\")\n",
    "\n",
    "plt.subplot(2,1,2)\n",
    "plt.plot(x,y_t)\n",
    "plt.title(\"T\")"
   ]
  },
  {
   "cell_type": "markdown",
   "metadata": {},
   "source": [
    "### 6.4.3. ロジットリンク関数の意味・解釈"
   ]
  },
  {
   "cell_type": "markdown",
   "metadata": {},
   "source": [
    "* ロジスティック関数の逆関数であるロジット関数は\n",
    "$$\n",
    "logit(q_i)=\\log \\frac {q_i}{1-q_i}\n",
    "$$\n",
    "* これが線形予測子に等しいので\n",
    "$$\n",
    "\\begin{equation}\n",
    "\\begin{split}\n",
    "\\frac {q_i} {1-q_i} &= \\exp ( linear predictor) \\\\\n",
    "&=\\exp(\\beta_1+\\beta_2 x_i + \\beta_3 f_i) \\\\\n",
    "&=\\exp(\\beta_1) \\exp(\\beta_2 x_i) \\exp(\\beta_3 f_i)\n",
    "\\end{split}\n",
    "\\end{equation}\n",
    "$$\n",
    "* この左辺の$\\frac {q_i}{1-q_i}$はオッズ(odds)と呼ばれる量。オッズは$\\exp $(パラメーター$\\times$要因)に比例する。\n",
    "* このオッズの対数を取ると、\n",
    "$$\n",
    "\\log \\frac {q_i}{1-q_i} = \\beta_1 + \\beta_2 x_i + \\beta_3 f_i\n",
    "$$\n",
    "* 「リスク」をオッズ比で表すことがある。個人$i$の生活習慣$X$が、ある病の発病に影響があり、その係数が$\\beta_s$であるとする。その時、オッズ比は、\n",
    "$$\n",
    "\\begin {equation}\n",
    "\\begin {split}\n",
    "\\frac {X odds}{nonX odds} &= \\frac {\\exp(X nonX common) \\times \\exp(\\beta_s \\times 1)} {\\exp(X nonX common) \\times \\exp(\\beta_s \\times 0)}\\\\\n",
    "&= \\exp (\\beta_s)\n",
    "\\end{split}\n",
    "\\end{equation}\n",
    "$$"
   ]
  },
  {
   "cell_type": "markdown",
   "metadata": {},
   "source": [
    "### 6.4.4. ロジスティック回帰のモデル選択"
   ]
  },
  {
   "cell_type": "markdown",
   "metadata": {},
   "source": [
    "* 6.4.2.ではサイズx_iと施肥処理$f_i$を説明変数とするロジスティック回帰の統計モデルをデータに当てはめた。\n",
    "* これが種子の生存数を最もよく予測するモデルなのかどうかは不明。\n",
    "* AICによるモデル選択によって、ネストしているモデルなどの中から良い予測をするものを選ぶ。"
   ]
  },
  {
   "cell_type": "markdown",
   "metadata": {},
   "source": [
    "* $AIC = -2 (\\log L^* - k)$\n",
    "* stepAICはPythonにはない。"
   ]
  },
  {
   "cell_type": "code",
   "execution_count": 18,
   "metadata": {},
   "outputs": [
    {
     "name": "stdout",
     "output_type": "stream",
     "text": [
      "y + I(N-y)~ 1 644.409341662\n",
      "y + I(N-y)~ f 637.759753457\n",
      "y + I(N-y)~ x 364.345443284\n",
      "y + I(N-y)~ x+f 272.211129285\n"
     ]
    }
   ],
   "source": [
    "formula_list = ['y + I(N-y)~ 1','y + I(N-y)~ f','y + I(N-y)~ x','y + I(N-y)~ x+f']\n",
    "\n",
    "for formula in formula_list:\n",
    "    model = smf.glm(formula,data=d,family=sm.families.Binomial())\n",
    "    result = model.fit()\n",
    "    print(formula,-2*(result.llf - (result.df_model+1)))"
   ]
  },
  {
   "cell_type": "code",
   "execution_count": 19,
   "metadata": {},
   "outputs": [
    {
     "data": {
      "text/html": [
       "<table class=\"simpletable\">\n",
       "<caption>Generalized Linear Model Regression Results</caption>\n",
       "<tr>\n",
       "  <th>Dep. Variable:</th>  <td>['y', 'I(N - y)']</td> <th>  No. Observations:  </th>  <td>   100</td> \n",
       "</tr>\n",
       "<tr>\n",
       "  <th>Model:</th>                 <td>GLM</td>        <th>  Df Residuals:      </th>  <td>    99</td> \n",
       "</tr>\n",
       "<tr>\n",
       "  <th>Model Family:</th>       <td>Binomial</td>      <th>  Df Model:          </th>  <td>     0</td> \n",
       "</tr>\n",
       "<tr>\n",
       "  <th>Link Function:</th>        <td>logit</td>       <th>  Scale:             </th>    <td>1.0</td>  \n",
       "</tr>\n",
       "<tr>\n",
       "  <th>Method:</th>               <td>IRLS</td>        <th>  Log-Likelihood:    </th> <td> -321.20</td>\n",
       "</tr>\n",
       "<tr>\n",
       "  <th>Date:</th>           <td>Thu, 06 Jul 2017</td>  <th>  Deviance:          </th> <td>  499.23</td>\n",
       "</tr>\n",
       "<tr>\n",
       "  <th>Time:</th>               <td>01:08:12</td>      <th>  Pearson chi2:      </th>  <td>  50.2</td> \n",
       "</tr>\n",
       "<tr>\n",
       "  <th>No. Iterations:</th>         <td>4</td>         <th>                     </th>     <td> </td>   \n",
       "</tr>\n",
       "</table>\n",
       "<table class=\"simpletable\">\n",
       "<tr>\n",
       "      <td></td>         <th>coef</th>     <th>std err</th>      <th>z</th>      <th>P>|z|</th>  <th>[0.025</th>    <th>0.975]</th>  \n",
       "</tr>\n",
       "<tr>\n",
       "  <th>Intercept</th> <td>    0.5537</td> <td>    0.073</td> <td>    7.540</td> <td> 0.000</td> <td>    0.410</td> <td>    0.698</td>\n",
       "</tr>\n",
       "</table>"
      ],
      "text/plain": [
       "<class 'statsmodels.iolib.summary.Summary'>\n",
       "\"\"\"\n",
       "                 Generalized Linear Model Regression Results                  \n",
       "==============================================================================\n",
       "Dep. Variable:      ['y', 'I(N - y)']   No. Observations:                  100\n",
       "Model:                            GLM   Df Residuals:                       99\n",
       "Model Family:                Binomial   Df Model:                            0\n",
       "Link Function:                  logit   Scale:                             1.0\n",
       "Method:                          IRLS   Log-Likelihood:                -321.20\n",
       "Date:                Thu, 06 Jul 2017   Deviance:                       499.23\n",
       "Time:                        01:08:12   Pearson chi2:                     50.2\n",
       "No. Iterations:                     4                                         \n",
       "==============================================================================\n",
       "                 coef    std err          z      P>|z|      [0.025      0.975]\n",
       "------------------------------------------------------------------------------\n",
       "Intercept      0.5537      0.073      7.540      0.000       0.410       0.698\n",
       "==============================================================================\n",
       "\"\"\""
      ]
     },
     "execution_count": 19,
     "metadata": {},
     "output_type": "execute_result"
    }
   ],
   "source": [
    "model = smf.glm('y + I(N-y)~ 1',data=d,family=sm.families.Binomial())\n",
    "result = model.fit()\n",
    "result.summary()"
   ]
  },
  {
   "cell_type": "code",
   "execution_count": 20,
   "metadata": {},
   "outputs": [
    {
     "data": {
      "text/html": [
       "<table class=\"simpletable\">\n",
       "<caption>Generalized Linear Model Regression Results</caption>\n",
       "<tr>\n",
       "  <th>Dep. Variable:</th>  <td>['y', 'I(N - y)']</td> <th>  No. Observations:  </th>  <td>   100</td> \n",
       "</tr>\n",
       "<tr>\n",
       "  <th>Model:</th>                 <td>GLM</td>        <th>  Df Residuals:      </th>  <td>    98</td> \n",
       "</tr>\n",
       "<tr>\n",
       "  <th>Model Family:</th>       <td>Binomial</td>      <th>  Df Model:          </th>  <td>     1</td> \n",
       "</tr>\n",
       "<tr>\n",
       "  <th>Link Function:</th>        <td>logit</td>       <th>  Scale:             </th>    <td>1.0</td>  \n",
       "</tr>\n",
       "<tr>\n",
       "  <th>Method:</th>               <td>IRLS</td>        <th>  Log-Likelihood:    </th> <td> -180.17</td>\n",
       "</tr>\n",
       "<tr>\n",
       "  <th>Date:</th>           <td>Thu, 06 Jul 2017</td>  <th>  Deviance:          </th> <td>  217.17</td>\n",
       "</tr>\n",
       "<tr>\n",
       "  <th>Time:</th>               <td>01:08:12</td>      <th>  Pearson chi2:      </th>  <td>  23.1</td> \n",
       "</tr>\n",
       "<tr>\n",
       "  <th>No. Iterations:</th>         <td>5</td>         <th>                     </th>     <td> </td>   \n",
       "</tr>\n",
       "</table>\n",
       "<table class=\"simpletable\">\n",
       "<tr>\n",
       "      <td></td>         <th>coef</th>     <th>std err</th>      <th>z</th>      <th>P>|z|</th>  <th>[0.025</th>    <th>0.975]</th>  \n",
       "</tr>\n",
       "<tr>\n",
       "  <th>Intercept</th> <td>  -13.7785</td> <td>    1.077</td> <td>  -12.789</td> <td> 0.000</td> <td>  -15.890</td> <td>  -11.667</td>\n",
       "</tr>\n",
       "<tr>\n",
       "  <th>x</th>         <td>    1.4626</td> <td>    0.111</td> <td>   13.214</td> <td> 0.000</td> <td>    1.246</td> <td>    1.680</td>\n",
       "</tr>\n",
       "</table>"
      ],
      "text/plain": [
       "<class 'statsmodels.iolib.summary.Summary'>\n",
       "\"\"\"\n",
       "                 Generalized Linear Model Regression Results                  \n",
       "==============================================================================\n",
       "Dep. Variable:      ['y', 'I(N - y)']   No. Observations:                  100\n",
       "Model:                            GLM   Df Residuals:                       98\n",
       "Model Family:                Binomial   Df Model:                            1\n",
       "Link Function:                  logit   Scale:                             1.0\n",
       "Method:                          IRLS   Log-Likelihood:                -180.17\n",
       "Date:                Thu, 06 Jul 2017   Deviance:                       217.17\n",
       "Time:                        01:08:12   Pearson chi2:                     23.1\n",
       "No. Iterations:                     5                                         \n",
       "==============================================================================\n",
       "                 coef    std err          z      P>|z|      [0.025      0.975]\n",
       "------------------------------------------------------------------------------\n",
       "Intercept    -13.7785      1.077    -12.789      0.000     -15.890     -11.667\n",
       "x              1.4626      0.111     13.214      0.000       1.246       1.680\n",
       "==============================================================================\n",
       "\"\"\""
      ]
     },
     "execution_count": 20,
     "metadata": {},
     "output_type": "execute_result"
    }
   ],
   "source": [
    "model = smf.glm('y + I(N-y)~ x',data=d,family=sm.families.Binomial())\n",
    "result = model.fit()\n",
    "result.summary()"
   ]
  },
  {
   "cell_type": "code",
   "execution_count": 21,
   "metadata": {},
   "outputs": [
    {
     "data": {
      "text/html": [
       "<table class=\"simpletable\">\n",
       "<caption>Generalized Linear Model Regression Results</caption>\n",
       "<tr>\n",
       "  <th>Dep. Variable:</th>  <td>['y', 'I(N - y)']</td> <th>  No. Observations:  </th>  <td>   100</td> \n",
       "</tr>\n",
       "<tr>\n",
       "  <th>Model:</th>                 <td>GLM</td>        <th>  Df Residuals:      </th>  <td>    98</td> \n",
       "</tr>\n",
       "<tr>\n",
       "  <th>Model Family:</th>       <td>Binomial</td>      <th>  Df Model:          </th>  <td>     1</td> \n",
       "</tr>\n",
       "<tr>\n",
       "  <th>Link Function:</th>        <td>logit</td>       <th>  Scale:             </th>    <td>1.0</td>  \n",
       "</tr>\n",
       "<tr>\n",
       "  <th>Method:</th>               <td>IRLS</td>        <th>  Log-Likelihood:    </th> <td> -316.88</td>\n",
       "</tr>\n",
       "<tr>\n",
       "  <th>Date:</th>           <td>Thu, 06 Jul 2017</td>  <th>  Deviance:          </th> <td>  490.58</td>\n",
       "</tr>\n",
       "<tr>\n",
       "  <th>Time:</th>               <td>01:08:12</td>      <th>  Pearson chi2:      </th>  <td>  49.9</td> \n",
       "</tr>\n",
       "<tr>\n",
       "  <th>No. Iterations:</th>         <td>4</td>         <th>                     </th>     <td> </td>   \n",
       "</tr>\n",
       "</table>\n",
       "<table class=\"simpletable\">\n",
       "<tr>\n",
       "      <td></td>         <th>coef</th>     <th>std err</th>      <th>z</th>      <th>P>|z|</th>  <th>[0.025</th>    <th>0.975]</th>  \n",
       "</tr>\n",
       "<tr>\n",
       "  <th>Intercept</th> <td>    0.3433</td> <td>    0.101</td> <td>    3.383</td> <td> 0.001</td> <td>    0.144</td> <td>    0.542</td>\n",
       "</tr>\n",
       "<tr>\n",
       "  <th>f[T.T]</th>    <td>    0.4335</td> <td>    0.148</td> <td>    2.930</td> <td> 0.003</td> <td>    0.144</td> <td>    0.723</td>\n",
       "</tr>\n",
       "</table>"
      ],
      "text/plain": [
       "<class 'statsmodels.iolib.summary.Summary'>\n",
       "\"\"\"\n",
       "                 Generalized Linear Model Regression Results                  \n",
       "==============================================================================\n",
       "Dep. Variable:      ['y', 'I(N - y)']   No. Observations:                  100\n",
       "Model:                            GLM   Df Residuals:                       98\n",
       "Model Family:                Binomial   Df Model:                            1\n",
       "Link Function:                  logit   Scale:                             1.0\n",
       "Method:                          IRLS   Log-Likelihood:                -316.88\n",
       "Date:                Thu, 06 Jul 2017   Deviance:                       490.58\n",
       "Time:                        01:08:12   Pearson chi2:                     49.9\n",
       "No. Iterations:                     4                                         \n",
       "==============================================================================\n",
       "                 coef    std err          z      P>|z|      [0.025      0.975]\n",
       "------------------------------------------------------------------------------\n",
       "Intercept      0.3433      0.101      3.383      0.001       0.144       0.542\n",
       "f[T.T]         0.4335      0.148      2.930      0.003       0.144       0.723\n",
       "==============================================================================\n",
       "\"\"\""
      ]
     },
     "execution_count": 21,
     "metadata": {},
     "output_type": "execute_result"
    }
   ],
   "source": [
    "model = smf.glm('y + I(N-y)~ f',data=d,family=sm.families.Binomial())\n",
    "result = model.fit()\n",
    "result.summary()"
   ]
  },
  {
   "cell_type": "markdown",
   "metadata": {},
   "source": [
    "## 6.5.交互作用項の入った線形予測子"
   ]
  },
  {
   "cell_type": "markdown",
   "metadata": {},
   "source": [
    "* 線形予測子$\\beta_1 + \\beta_2 x_i + \\beta_3 f_i$をさらに複雑化して、交互作用(interaction)項を追加してみる。入れたものは下記。\n",
    "$$\n",
    "logit(q_i) = \\beta_1 + \\beta_2 x_i + \\beta_3 f_i + \\beta_4 x_i f_i\n",
    "$$"
   ]
  },
  {
   "cell_type": "code",
   "execution_count": 22,
   "metadata": {},
   "outputs": [
    {
     "data": {
      "text/html": [
       "<table class=\"simpletable\">\n",
       "<caption>Generalized Linear Model Regression Results</caption>\n",
       "<tr>\n",
       "  <th>Dep. Variable:</th>  <td>['y', 'I(N - y)']</td> <th>  No. Observations:  </th>  <td>   100</td> \n",
       "</tr>\n",
       "<tr>\n",
       "  <th>Model:</th>                 <td>GLM</td>        <th>  Df Residuals:      </th>  <td>    96</td> \n",
       "</tr>\n",
       "<tr>\n",
       "  <th>Model Family:</th>       <td>Binomial</td>      <th>  Df Model:          </th>  <td>     3</td> \n",
       "</tr>\n",
       "<tr>\n",
       "  <th>Link Function:</th>        <td>logit</td>       <th>  Scale:             </th>    <td>1.0</td>  \n",
       "</tr>\n",
       "<tr>\n",
       "  <th>Method:</th>               <td>IRLS</td>        <th>  Log-Likelihood:    </th> <td> -132.81</td>\n",
       "</tr>\n",
       "<tr>\n",
       "  <th>Date:</th>           <td>Thu, 06 Jul 2017</td>  <th>  Deviance:          </th> <td>  122.43</td>\n",
       "</tr>\n",
       "<tr>\n",
       "  <th>Time:</th>               <td>01:08:12</td>      <th>  Pearson chi2:      </th>  <td>  13.6</td> \n",
       "</tr>\n",
       "<tr>\n",
       "  <th>No. Iterations:</th>         <td>6</td>         <th>                     </th>     <td> </td>   \n",
       "</tr>\n",
       "</table>\n",
       "<table class=\"simpletable\">\n",
       "<tr>\n",
       "      <td></td>         <th>coef</th>     <th>std err</th>      <th>z</th>      <th>P>|z|</th>  <th>[0.025</th>    <th>0.975]</th>  \n",
       "</tr>\n",
       "<tr>\n",
       "  <th>Intercept</th> <td>  -18.5233</td> <td>    1.886</td> <td>   -9.821</td> <td> 0.000</td> <td>  -22.220</td> <td>  -14.827</td>\n",
       "</tr>\n",
       "<tr>\n",
       "  <th>f[T.T]</th>    <td>   -0.0638</td> <td>    2.704</td> <td>   -0.024</td> <td> 0.981</td> <td>   -5.363</td> <td>    5.235</td>\n",
       "</tr>\n",
       "<tr>\n",
       "  <th>x</th>         <td>    1.8525</td> <td>    0.186</td> <td>    9.983</td> <td> 0.000</td> <td>    1.489</td> <td>    2.216</td>\n",
       "</tr>\n",
       "<tr>\n",
       "  <th>x:f[T.T]</th>  <td>    0.2163</td> <td>    0.280</td> <td>    0.772</td> <td> 0.440</td> <td>   -0.333</td> <td>    0.765</td>\n",
       "</tr>\n",
       "</table>"
      ],
      "text/plain": [
       "<class 'statsmodels.iolib.summary.Summary'>\n",
       "\"\"\"\n",
       "                 Generalized Linear Model Regression Results                  \n",
       "==============================================================================\n",
       "Dep. Variable:      ['y', 'I(N - y)']   No. Observations:                  100\n",
       "Model:                            GLM   Df Residuals:                       96\n",
       "Model Family:                Binomial   Df Model:                            3\n",
       "Link Function:                  logit   Scale:                             1.0\n",
       "Method:                          IRLS   Log-Likelihood:                -132.81\n",
       "Date:                Thu, 06 Jul 2017   Deviance:                       122.43\n",
       "Time:                        01:08:12   Pearson chi2:                     13.6\n",
       "No. Iterations:                     6                                         \n",
       "==============================================================================\n",
       "                 coef    std err          z      P>|z|      [0.025      0.975]\n",
       "------------------------------------------------------------------------------\n",
       "Intercept    -18.5233      1.886     -9.821      0.000     -22.220     -14.827\n",
       "f[T.T]        -0.0638      2.704     -0.024      0.981      -5.363       5.235\n",
       "x              1.8525      0.186      9.983      0.000       1.489       2.216\n",
       "x:f[T.T]       0.2163      0.280      0.772      0.440      -0.333       0.765\n",
       "==============================================================================\n",
       "\"\"\""
      ]
     },
     "execution_count": 22,
     "metadata": {},
     "output_type": "execute_result"
    }
   ],
   "source": [
    "model = smf.glm('y + I(N-y)~ x*f',data=d,family=sm.families.Binomial())\n",
    "result = model.fit()\n",
    "result.summary()"
   ]
  },
  {
   "cell_type": "code",
   "execution_count": 23,
   "metadata": {},
   "outputs": [
    {
     "data": {
      "text/plain": [
       "273.61059672597389"
      ]
     },
     "execution_count": 23,
     "metadata": {},
     "output_type": "execute_result"
    }
   ],
   "source": [
    "aic = -2*(result.llf - (result.df_model+1))\n",
    "aic"
   ]
  },
  {
   "cell_type": "markdown",
   "metadata": {},
   "source": [
    "*  本例題では、交互作用項を追加してもAICは下がった（予測能力は何も改善されなかった）\n",
    "* むやみに交互作用項を入れないこと。\n",
    "* 交互作用項を入れても、何を表しているんか解釈が難しいことがある。\n",
    "* 現実のデータでは、説明変数では説明できない「個体差」「場所差」によるばらつきが発生する。それらを考慮していないGLMを当てはめた場合には、過度に複雑なモデルが選ばれる傾向がある。"
   ]
  },
  {
   "cell_type": "markdown",
   "metadata": {},
   "source": [
    "## 6.6. 割り算値の統計モデリングはやめよう"
   ]
  },
  {
   "cell_type": "markdown",
   "metadata": {},
   "source": [
    "* 二項分布とロジットリンク関数を使ったロジスティック回帰を使う利点の一つは、何かの生起確率を推定するときに、（観測データ)/(観測データ）といった割り算値を作り出す必要がなくなるということ\n",
    "* 変形した観測値を統計モデルの応答変数にするのは不必要であるばかりでなく、場合によっては間違った結果を導きかねない。\n",
    "* 情報が失われる。\n",
    "* 変換された値の分布はどうなる？"
   ]
  },
  {
   "cell_type": "markdown",
   "metadata": {},
   "source": [
    "### 6.6.1. 割り算値いらずのオフセット項わざ"
   ]
  },
  {
   "cell_type": "markdown",
   "metadata": {},
   "source": [
    "* 「N個のうちy個で事象が生じる確率」は二項分布を使うことで、割り算値の使用は回避できた。\n",
    "* ここでは人口密度のように、「単位面積あたりの個体数」といった概念について扱う。\n",
    "* このようなときに便利なのがオフセット項わざである。"
   ]
  },
  {
   "cell_type": "markdown",
   "metadata": {},
   "source": [
    "#### 森林の事例"
   ]
  },
  {
   "cell_type": "markdown",
   "metadata": {},
   "source": [
    "* 面積が$A_i$である調査地$i$における人口密度は\n",
    "$$\n",
    "\\frac {平均個体数 \\lambda_i}{A_i} = 人口密度\n",
    "$$\n",
    "* 人口密度は正の量なので、指数関数と明るさ$x_i$依存性を組み合わせて下記のようにモデル化できる。\n",
    "$$\n",
    "\\lambda_i = A_i \\times 人口密度 = A_i \\exp(\\beta_1 + \\beta_2 x_i)\n",
    "$$\n",
    "* これを変形すると、\n",
    "$$\n",
    "\\lambda_i = \\exp(\\beta_1 + \\beta_2 x_i + \\log A_i)\n",
    "$$\n",
    "となり、$z_i=\\beta_1 + \\beta_2 x_i + \\log A_i$を線形予測子とする対数リンク関数・ポアソン分布のGLMになる。\n",
    "* 線形予測子の中でパラメーターがつかない$\\log A_i$のような項をオフセット項と呼ぶ。\n",
    "* このようにオフセット項を使うと、個体数平均は調査地の面積$A_i$に比例するといった過程を反映させつつ、明るさ$x_i$の効果を推定できます。観測値どうしの割り算は全く不要です。"
   ]
  },
  {
   "cell_type": "code",
   "execution_count": 24,
   "metadata": {
    "collapsed": true
   },
   "outputs": [],
   "source": [
    "d = pd.read_csv(\"data4b.csv\")"
   ]
  },
  {
   "cell_type": "code",
   "execution_count": 25,
   "metadata": {},
   "outputs": [
    {
     "data": {
      "text/html": [
       "<div>\n",
       "<style>\n",
       "    .dataframe thead tr:only-child th {\n",
       "        text-align: right;\n",
       "    }\n",
       "\n",
       "    .dataframe thead th {\n",
       "        text-align: left;\n",
       "    }\n",
       "\n",
       "    .dataframe tbody tr th {\n",
       "        vertical-align: top;\n",
       "    }\n",
       "</style>\n",
       "<table border=\"1\" class=\"dataframe\">\n",
       "  <thead>\n",
       "    <tr style=\"text-align: right;\">\n",
       "      <th></th>\n",
       "      <th>y</th>\n",
       "      <th>x</th>\n",
       "      <th>A</th>\n",
       "    </tr>\n",
       "  </thead>\n",
       "  <tbody>\n",
       "    <tr>\n",
       "      <th>0</th>\n",
       "      <td>57</td>\n",
       "      <td>0.68</td>\n",
       "      <td>10.3</td>\n",
       "    </tr>\n",
       "    <tr>\n",
       "      <th>1</th>\n",
       "      <td>64</td>\n",
       "      <td>0.27</td>\n",
       "      <td>15.6</td>\n",
       "    </tr>\n",
       "    <tr>\n",
       "      <th>2</th>\n",
       "      <td>49</td>\n",
       "      <td>0.46</td>\n",
       "      <td>10.0</td>\n",
       "    </tr>\n",
       "    <tr>\n",
       "      <th>3</th>\n",
       "      <td>64</td>\n",
       "      <td>0.45</td>\n",
       "      <td>14.9</td>\n",
       "    </tr>\n",
       "    <tr>\n",
       "      <th>4</th>\n",
       "      <td>82</td>\n",
       "      <td>0.74</td>\n",
       "      <td>14.0</td>\n",
       "    </tr>\n",
       "  </tbody>\n",
       "</table>\n",
       "</div>"
      ],
      "text/plain": [
       "    y     x     A\n",
       "0  57  0.68  10.3\n",
       "1  64  0.27  15.6\n",
       "2  49  0.46  10.0\n",
       "3  64  0.45  14.9\n",
       "4  82  0.74  14.0"
      ]
     },
     "execution_count": 25,
     "metadata": {},
     "output_type": "execute_result"
    }
   ],
   "source": [
    "d.head()"
   ]
  },
  {
   "cell_type": "code",
   "execution_count": 26,
   "metadata": {
    "collapsed": true
   },
   "outputs": [],
   "source": [
    "model = smf.glm('y~x',offset=np.log(d.A),data=d,family=sm.families.Poisson())"
   ]
  },
  {
   "cell_type": "code",
   "execution_count": 27,
   "metadata": {},
   "outputs": [
    {
     "data": {
      "text/html": [
       "<table class=\"simpletable\">\n",
       "<caption>Generalized Linear Model Regression Results</caption>\n",
       "<tr>\n",
       "  <th>Dep. Variable:</th>          <td>y</td>        <th>  No. Observations:  </th>  <td>   100</td> \n",
       "</tr>\n",
       "<tr>\n",
       "  <th>Model:</th>                 <td>GLM</td>       <th>  Df Residuals:      </th>  <td>    98</td> \n",
       "</tr>\n",
       "<tr>\n",
       "  <th>Model Family:</th>        <td>Poisson</td>     <th>  Df Model:          </th>  <td>     1</td> \n",
       "</tr>\n",
       "<tr>\n",
       "  <th>Link Function:</th>         <td>log</td>       <th>  Scale:             </th>    <td>1.0</td>  \n",
       "</tr>\n",
       "<tr>\n",
       "  <th>Method:</th>               <td>IRLS</td>       <th>  Log-Likelihood:    </th> <td> -323.17</td>\n",
       "</tr>\n",
       "<tr>\n",
       "  <th>Date:</th>           <td>Thu, 06 Jul 2017</td> <th>  Deviance:          </th> <td>  81.608</td>\n",
       "</tr>\n",
       "<tr>\n",
       "  <th>Time:</th>               <td>01:08:12</td>     <th>  Pearson chi2:      </th>  <td>  81.5</td> \n",
       "</tr>\n",
       "<tr>\n",
       "  <th>No. Iterations:</th>         <td>4</td>        <th>                     </th>     <td> </td>   \n",
       "</tr>\n",
       "</table>\n",
       "<table class=\"simpletable\">\n",
       "<tr>\n",
       "      <td></td>         <th>coef</th>     <th>std err</th>      <th>z</th>      <th>P>|z|</th>  <th>[0.025</th>    <th>0.975]</th>  \n",
       "</tr>\n",
       "<tr>\n",
       "  <th>Intercept</th> <td>    0.9731</td> <td>    0.045</td> <td>   21.600</td> <td> 0.000</td> <td>    0.885</td> <td>    1.061</td>\n",
       "</tr>\n",
       "<tr>\n",
       "  <th>x</th>         <td>    1.0383</td> <td>    0.078</td> <td>   13.364</td> <td> 0.000</td> <td>    0.886</td> <td>    1.191</td>\n",
       "</tr>\n",
       "</table>"
      ],
      "text/plain": [
       "<class 'statsmodels.iolib.summary.Summary'>\n",
       "\"\"\"\n",
       "                 Generalized Linear Model Regression Results                  \n",
       "==============================================================================\n",
       "Dep. Variable:                      y   No. Observations:                  100\n",
       "Model:                            GLM   Df Residuals:                       98\n",
       "Model Family:                 Poisson   Df Model:                            1\n",
       "Link Function:                    log   Scale:                             1.0\n",
       "Method:                          IRLS   Log-Likelihood:                -323.17\n",
       "Date:                Thu, 06 Jul 2017   Deviance:                       81.608\n",
       "Time:                        01:08:12   Pearson chi2:                     81.5\n",
       "No. Iterations:                     4                                         \n",
       "==============================================================================\n",
       "                 coef    std err          z      P>|z|      [0.025      0.975]\n",
       "------------------------------------------------------------------------------\n",
       "Intercept      0.9731      0.045     21.600      0.000       0.885       1.061\n",
       "x              1.0383      0.078     13.364      0.000       0.886       1.191\n",
       "==============================================================================\n",
       "\"\"\""
      ]
     },
     "execution_count": 27,
     "metadata": {},
     "output_type": "execute_result"
    }
   ],
   "source": [
    "result = model.fit()\n",
    "result.summary()"
   ]
  },
  {
   "cell_type": "markdown",
   "metadata": {},
   "source": [
    "#### データ"
   ]
  },
  {
   "cell_type": "code",
   "execution_count": 28,
   "metadata": {},
   "outputs": [
    {
     "data": {
      "text/plain": [
       "<matplotlib.text.Text at 0x10a253ba8>"
      ]
     },
     "execution_count": 28,
     "metadata": {},
     "output_type": "execute_result"
    },
    {
     "data": {
      "image/png": "[encoded data removed]",
      "text/plain": [
       "<matplotlib.figure.Figure at 0x10a28c3c8>"
      ]
     },
     "metadata": {},
     "output_type": "display_data"
    }
   ],
   "source": [
    "plt.scatter(d.A,d.y,c=d.x)\n",
    "plt.colorbar()\n",
    "plt.xlim(0,18)\n",
    "plt.ylim(0,100)\n",
    "plt.xlabel(\"A\")\n",
    "plt.ylabel(\"y\")"
   ]
  },
  {
   "cell_type": "code",
   "execution_count": 29,
   "metadata": {},
   "outputs": [
    {
     "data": {
      "text/plain": [
       "<matplotlib.legend.Legend at 0x10b402be0>"
      ]
     },
     "execution_count": 29,
     "metadata": {},
     "output_type": "execute_result"
    },
    {
     "data": {
      "image/png": "[encoded data removed]",
      "text/plain": [
       "<matplotlib.figure.Figure at 0x10b310550>"
      ]
     },
     "metadata": {},
     "output_type": "display_data"
    }
   ],
   "source": [
    "df_predict = pd.DataFrame()\n",
    "df_predict[\"x\"] = 0\n",
    "df_predict[\"A\"] = np.arange(0.1,20,0.1)\n",
    "x_list = [0.1,0.3,0.5,0.7,0.9]\n",
    "\n",
    "plt.scatter(d.A,d.y,c=d.x)\n",
    "plt.colorbar()\n",
    "plt.xlim(0,18)\n",
    "plt.ylim(0,100)\n",
    "plt.xlabel(\"A\")\n",
    "plt.ylabel(\"y\")\n",
    "for x in x_list:\n",
    "    df_predict[\"x\"] = x\n",
    "    # predict内にてoffsetの設定必要。\n",
    "    plt.plot(df_predict.A,result.predict(df_predict,offset=np.log(df_predict.A)),label=x)\n",
    "plt.legend()"
   ]
  },
  {
   "cell_type": "markdown",
   "metadata": {},
   "source": [
    "* 「単位面積当たり」ではなく、「単位時間当たり」の事象を調べたい時にも使える。\n",
    "* カウントデータだけでなく、（連続値）/(連続値）となるような比率・密度などもオフセット項を使った統計モデリングが可能。"
   ]
  },
  {
   "cell_type": "markdown",
   "metadata": {},
   "source": [
    "## 6.7. 正規分布とその尤度"
   ]
  },
  {
   "cell_type": "markdown",
   "metadata": {},
   "source": [
    "* ポアソン分布や二項分布はカウントデータを扱う\n",
    "* 正規分布(ガウス分布)は連続値のデータを統計モデルで扱うための確率分布"
   ]
  },
  {
   "cell_type": "markdown",
   "metadata": {},
   "source": [
    "Q. 正規分布のパラメーターは？"
   ]
  },
  {
   "cell_type": "markdown",
   "metadata": {},
   "source": [
    "A.\n",
    "* 平均値 $\\mu$\n",
    "    * 範囲は$\\pm \\infty$\n",
    "* 標準偏差 $\\sigma$\n",
    "    * 値のばらつきを表す"
   ]
  },
  {
   "cell_type": "markdown",
   "metadata": {},
   "source": [
    "Q. 正規分布の確率分布関数は？"
   ]
  },
  {
   "cell_type": "markdown",
   "metadata": {},
   "source": [
    "A.\n",
    "* $p(y | \\mu , \\sigma) = \\frac {1} {\\sqrt{2 \\pi \\sigma^2}} \\exp \\left( - \\frac {(y-\\mu)^2}{2 \\sigma^2} \\right)$"
   ]
  },
  {
   "cell_type": "markdown",
   "metadata": {},
   "source": [
    "### 確率密度の図示"
   ]
  },
  {
   "cell_type": "markdown",
   "metadata": {},
   "source": [
    "* 縦軸は今までの離散確率分布の図示とは異なり、「確率分布」ではない。「確率密度」である。\n",
    "* 連続値の確率分布では、確率密度を積分した量が確率と定義される。"
   ]
  },
  {
   "cell_type": "code",
   "execution_count": 30,
   "metadata": {},
   "outputs": [
    {
     "data": {
      "text/plain": [
       "<matplotlib.legend.Legend at 0x10a28cc18>"
      ]
     },
     "execution_count": 30,
     "metadata": {},
     "output_type": "execute_result"
    },
    {
     "data": {
      "image/png": "[encoded data removed]",
      "text/plain": [
       "<matplotlib.figure.Figure at 0x10a28cbe0>"
      ]
     },
     "metadata": {},
     "output_type": "display_data"
    }
   ],
   "source": [
    "import scipy.stats as sct\n",
    "y = np.arange(-5,5,0.1)\n",
    "plt.plot(pd.Series(sct.norm.pdf(y, loc=0, scale=1), index=y), label=r'$\\mu=0, \\sigma=1$')\n",
    "plt.plot(pd.Series(sct.norm.pdf(y, loc=0, scale=3), index=y), label=r'$\\mu=0, \\sigma=3$')\n",
    "plt.plot(pd.Series(sct.norm.pdf(y, loc=2, scale=1), index=y), label=r'$\\mu=2, \\sigma=1$')\n",
    "plt.legend()"
   ]
  },
  {
   "cell_type": "markdown",
   "metadata": {},
   "source": [
    "* 横軸は$y$であることに注意。"
   ]
  },
  {
   "cell_type": "markdown",
   "metadata": {},
   "source": [
    "### 確率の計算"
   ]
  },
  {
   "cell_type": "markdown",
   "metadata": {},
   "source": [
    "* 確率を計算するには、平均$\\mu$、標準偏差$\\sigma$を指定し、調べたい確率の範囲を決める。"
   ]
  },
  {
   "cell_type": "code",
   "execution_count": 31,
   "metadata": {
    "collapsed": true
   },
   "outputs": [],
   "source": [
    "def menseki(begin, end, loc,scale):\n",
    "    menseki_begin = sct.norm.cdf(x=begin,loc=loc,scale=scale)\n",
    "    menseki_end = sct.norm.cdf(x=end,loc=loc,scale=scale)\n",
    "    return menseki_end - menseki_begin"
   ]
  },
  {
   "cell_type": "code",
   "execution_count": 32,
   "metadata": {},
   "outputs": [
    {
     "data": {
      "text/plain": [
       "0.079139351108782452"
      ]
     },
     "execution_count": 32,
     "metadata": {},
     "output_type": "execute_result"
    }
   ],
   "source": [
    "menseki(1.2,1.8,0,1)"
   ]
  },
  {
   "cell_type": "markdown",
   "metadata": {},
   "source": [
    "* 積分を用いずに面積を求める方法もある。\n",
    "* 下限と上限の間の値$y = (1.2+1.8)/2 = 1.5$における、確率密度$p(y=1.5 | 0, 1)$を「高さ」、$\\Delta y = 1.8 - 1.2 =0.6$を「幅」とする長方形であると近似してみる。"
   ]
  },
  {
   "cell_type": "code",
   "execution_count": 33,
   "metadata": {},
   "outputs": [
    {
     "data": {
      "text/plain": [
       "0.077710557399535057"
      ]
     },
     "execution_count": 33,
     "metadata": {},
     "output_type": "execute_result"
    }
   ],
   "source": [
    "sct.norm.pdf(x=((1.2+1.8)/2),loc=0,scale=1) * (1.8-1.2)"
   ]
  },
  {
   "cell_type": "markdown",
   "metadata": {},
   "source": [
    "### 正規分布の最尤推定法について"
   ]
  },
  {
   "cell_type": "markdown",
   "metadata": {},
   "source": [
    "* 確率=確率密度関数$\\times \\Delta y$という考え方に基づく。\n",
    "* ある$y_i$が$y_i - 0.5\\Delta y \\leqq y \\leqq y_i + 0.5\\Delta y$である確率は、確率密度関数$p(y_i | \\mu \\sigma)$と区間幅$\\Delta y$の積に近似できるので、尤度関数は下記。"
   ]
  },
  {
   "cell_type": "markdown",
   "metadata": {},
   "source": [
    "$$\n",
    "\\begin {equation}\n",
    "\\begin {split}\n",
    "L(\\mu,\\sigma) &= \\prod_i p(y_i | \\mu , \\sigma)\\Delta y \\\\\n",
    "&= \\prod_i \\frac {1} {\\sqrt{2 \\pi \\sigma^2}} \\exp \\left( - \\frac {(y-\\mu)^2}{2 \\sigma^2} \\right) \\Delta y\n",
    "\\end {split}\n",
    "\\end {equation}\n",
    "$$"
   ]
  },
  {
   "cell_type": "markdown",
   "metadata": {},
   "source": [
    "* 対数尤度関数（仮）は下記になる"
   ]
  },
  {
   "cell_type": "markdown",
   "metadata": {},
   "source": [
    "$$\n",
    "\\log L (\\mu, \\sigma)= -0.5N \\log (2\\pi \\sigma^2) - \\frac {1}{2\\sigma^2} \\sum_i (y_i-\\mu)^2 + N \\log(\\Delta y)\n",
    "$$"
   ]
  },
  {
   "cell_type": "markdown",
   "metadata": {},
   "source": [
    "* 対数尤度関数(真）は下記。区間幅 $\\Delta y$は定数なので、パラメーター{$\\mu,\\sigma$}の最尤推定値に影響を与えないので、上記は下記に書き換えられる。"
   ]
  },
  {
   "cell_type": "markdown",
   "metadata": {},
   "source": [
    "$$\n",
    "\\log L (\\mu, \\sigma)= -0.5N \\log (2\\pi \\sigma^2) - \\frac {1}{2\\sigma^2} \\sum_i (y_i-\\mu)^2\n",
    "$$"
   ]
  },
  {
   "cell_type": "markdown",
   "metadata": {},
   "source": [
    "* 尤度が確率密度の積である場合には、対数尤度は負の値になるとは限らない。\n",
    "* 正規分布など連続値の確率分布を使った統計モデルでは対数尤度が正の値、AICや逸脱度が負の値になることもある。"
   ]
  },
  {
   "cell_type": "markdown",
   "metadata": {},
   "source": [
    "### 最小二乗法と最尤推定法の関係"
   ]
  },
  {
   "cell_type": "markdown",
   "metadata": {},
   "source": [
    "* 上の対数尤度関数をみると、$\\mu,\\sigma$が互いに無関係ない定数だとすると、$$\\sum_{i} (y_i - \\mu)^2$$を最小にする時、$\\log L(\\mu,\\sigma)$が最大になる。これは最小二乗法による推定と等しくなる。\n",
    "* 『3.7.「なんでも正規分布」「なんでも直線」には無理がある』で直線回帰について簡単に説明した。\n",
    "    * これは、正規分布を部品とするGLMで、\n",
    "        * 線形予測子$z_i = \\beta_1 + \\beta_2 x_i$\n",
    "        * 恒等リンク関数を使い平均を$\\mu_i =z_i$\n",
    "    * 上記としたGLMの最尤推定法によるパラメーター推定と、\n",
    "    * いわゆる「最小二乗法による直線の当てはめ」は同等なものとみなすことができる。\n",
    "* （滝沢補足）上記では$\\sigma$が出てこないことからも、標準偏差を無視してしまっていることがわかる。"
   ]
  },
  {
   "cell_type": "markdown",
   "metadata": {},
   "source": [
    "## 6.8. ガンマ分布のGLM"
   ]
  },
  {
   "cell_type": "markdown",
   "metadata": {},
   "source": [
    "Q. ガンマ分布(gamma distribution)とは？"
   ]
  },
  {
   "cell_type": "markdown",
   "metadata": {},
   "source": [
    "A.\n",
    "* 確率変数の取りうる範囲が0以上の連続確率分布"
   ]
  },
  {
   "cell_type": "markdown",
   "metadata": {},
   "source": [
    "Q. ガンマ分布の確率密度関数は？"
   ]
  },
  {
   "cell_type": "markdown",
   "metadata": {},
   "source": [
    "A. \n",
    "$$\n",
    "p(y| s, r)=\\frac {r^s} {\\Gamma (s)} y^{s-1} \\exp(-ry)\n",
    "$$\n",
    "* $s$ : shapeパラメーター\n",
    "* $r$ : rateパラメーター\n",
    "* $\\Gamma(s)$ : ガンマ関数\n",
    "* 平均は $s/r$ , 分散は$s/r^2$。つまり分散=平均$/r$\n",
    "* $s=1$の時は指数分布(exponential distribution)"
   ]
  },
  {
   "cell_type": "markdown",
   "metadata": {},
   "source": [
    "### GLM例題"
   ]
  },
  {
   "cell_type": "markdown",
   "metadata": {},
   "source": [
    "* 架空植物 50個体\n",
    "* 個体$i$の葉重量$x_i$、花重量を$y_i$とする。"
   ]
  },
  {
   "cell_type": "markdown",
   "metadata": {},
   "source": [
    "* d.Rdataを読み込むために、csvに変換"
   ]
  },
  {
   "cell_type": "code",
   "execution_count": 34,
   "metadata": {
    "collapsed": true
   },
   "outputs": [],
   "source": [
    "# resave <- function(file){\n",
    "#   e <- new.env(parent = emptyenv())\n",
    "#   load(file, envir = e)\n",
    "#   objs <- ls(envir = e, all.names = TRUE)\n",
    "#   for(obj in objs) {\n",
    "#     .x <- get(obj, envir =e)\n",
    "#     message(sprintf('Saving %s as %s.csv', obj,obj) )\n",
    "#     write.csv(.x, file = paste0(obj, '.csv'))\n",
    "#   }\n",
    "# }\n",
    "\n",
    "#   resave('yourData.RData')"
   ]
  },
  {
   "cell_type": "code",
   "execution_count": 35,
   "metadata": {
    "collapsed": true
   },
   "outputs": [],
   "source": [
    "data = pd.read_csv(\"./input_6/d.csv\",index_col=0)"
   ]
  },
  {
   "cell_type": "code",
   "execution_count": 36,
   "metadata": {},
   "outputs": [
    {
     "data": {
      "text/html": [
       "<div>\n",
       "<style>\n",
       "    .dataframe thead tr:only-child th {\n",
       "        text-align: right;\n",
       "    }\n",
       "\n",
       "    .dataframe thead th {\n",
       "        text-align: left;\n",
       "    }\n",
       "\n",
       "    .dataframe tbody tr th {\n",
       "        vertical-align: top;\n",
       "    }\n",
       "</style>\n",
       "<table border=\"1\" class=\"dataframe\">\n",
       "  <thead>\n",
       "    <tr style=\"text-align: right;\">\n",
       "      <th></th>\n",
       "      <th>x</th>\n",
       "      <th>y</th>\n",
       "    </tr>\n",
       "  </thead>\n",
       "  <tbody>\n",
       "    <tr>\n",
       "      <th>1</th>\n",
       "      <td>0.001000</td>\n",
       "      <td>0.000887</td>\n",
       "    </tr>\n",
       "    <tr>\n",
       "      <th>2</th>\n",
       "      <td>0.017306</td>\n",
       "      <td>0.023465</td>\n",
       "    </tr>\n",
       "    <tr>\n",
       "      <th>3</th>\n",
       "      <td>0.033612</td>\n",
       "      <td>0.069876</td>\n",
       "    </tr>\n",
       "    <tr>\n",
       "      <th>4</th>\n",
       "      <td>0.049918</td>\n",
       "      <td>0.034340</td>\n",
       "    </tr>\n",
       "    <tr>\n",
       "      <th>5</th>\n",
       "      <td>0.066224</td>\n",
       "      <td>0.026520</td>\n",
       "    </tr>\n",
       "  </tbody>\n",
       "</table>\n",
       "</div>"
      ],
      "text/plain": [
       "          x         y\n",
       "1  0.001000  0.000887\n",
       "2  0.017306  0.023465\n",
       "3  0.033612  0.069876\n",
       "4  0.049918  0.034340\n",
       "5  0.066224  0.026520"
      ]
     },
     "execution_count": 36,
     "metadata": {},
     "output_type": "execute_result"
    }
   ],
   "source": [
    "data.head()"
   ]
  },
  {
   "cell_type": "code",
   "execution_count": 37,
   "metadata": {},
   "outputs": [
    {
     "data": {
      "text/plain": [
       "<matplotlib.text.Text at 0x10b69ad30>"
      ]
     },
     "execution_count": 37,
     "metadata": {},
     "output_type": "execute_result"
    },
    {
     "data": {
      "image/png": "[encoded data removed]",
      "text/plain": [
       "<matplotlib.figure.Figure at 0x10b665390>"
      ]
     },
     "metadata": {},
     "output_type": "display_data"
    }
   ],
   "source": [
    "plt.scatter(data.x,data.y)\n",
    "plt.xlabel(\"x\")\n",
    "plt.ylabel(\"y\")"
   ]
  },
  {
   "cell_type": "markdown",
   "metadata": {},
   "source": [
    "* $x_i$が大きくなるにつれ、$y_i$も大きくなっているようだ。\n",
    "* 応答変数$y_i$は連続値ですが、重量なので正の値しかとらない。そのばらつきは正規分布ではなくガンマ分布で説明した方がよさそう。\n",
    "* ある個体の花の重量$y_i$が平均$\\mu_i$のガンマ分布に従っていることにする。\n"
   ]
  },
  {
   "cell_type": "markdown",
   "metadata": {},
   "source": [
    "* 平均花重量$\\mu_i$が葉重量$x_i$の単調増加関数であり、さらになんらかの生物学的な理由があって、\n",
    "$$\n",
    "\\mu_i = A x_{i}^b\n",
    "$$\n",
    "と仮定したとする。\n",
    "* この右辺で$A=\\exp(a)$と置いてから、全体を指数関数でまとめてみます。\n",
    "$$\n",
    "\\mu_i = \\exp(a) x_{i}^b = \\exp(a+b \\log x_i)\n",
    "$$\n",
    "* 上記の両辺の対数を取る。\n",
    "$$\n",
    "\\log \\mu_i = a+b \\log x_i\n",
    "$$\n",
    "* このように、線形予測子$a+b \\log x_i$と対数リンク関数を使って平均$\\mu_i$が与えられた。この線形予測子では説明変数は$x_i$ではなく$\\log x_i$となり、推定すべきパラメーターは切片$a$と傾き$b$です。\n",
    "* (わからない）上記の計算式の仮定（Aなど）がなぜ出てきたのかがわからない。"
   ]
  },
  {
   "cell_type": "markdown",
   "metadata": {},
   "source": [
    "### ガンマ分布を当てはめる"
   ]
  },
  {
   "cell_type": "code",
   "execution_count": 38,
   "metadata": {
    "collapsed": true
   },
   "outputs": [],
   "source": [
    "model = smf.glm('y~np.log(x)',data=data,family=sm.families.Gamma(link=sm.families.links.log))"
   ]
  },
  {
   "cell_type": "code",
   "execution_count": 39,
   "metadata": {},
   "outputs": [
    {
     "data": {
      "text/html": [
       "<table class=\"simpletable\">\n",
       "<caption>Generalized Linear Model Regression Results</caption>\n",
       "<tr>\n",
       "  <th>Dep. Variable:</th>          <td>y</td>        <th>  No. Observations:  </th>     <td>    50</td>    \n",
       "</tr>\n",
       "<tr>\n",
       "  <th>Model:</th>                 <td>GLM</td>       <th>  Df Residuals:      </th>     <td>    48</td>    \n",
       "</tr>\n",
       "<tr>\n",
       "  <th>Model Family:</th>         <td>Gamma</td>      <th>  Df Model:          </th>     <td>     1</td>    \n",
       "</tr>\n",
       "<tr>\n",
       "  <th>Link Function:</th>         <td>log</td>       <th>  Scale:             </th> <td>0.325084320549</td>\n",
       "</tr>\n",
       "<tr>\n",
       "  <th>Method:</th>               <td>IRLS</td>       <th>  Log-Likelihood:    </th>    <td>  58.471</td>   \n",
       "</tr>\n",
       "<tr>\n",
       "  <th>Date:</th>           <td>Thu, 06 Jul 2017</td> <th>  Deviance:          </th>    <td>  17.251</td>   \n",
       "</tr>\n",
       "<tr>\n",
       "  <th>Time:</th>               <td>01:08:14</td>     <th>  Pearson chi2:      </th>     <td>  15.6</td>    \n",
       "</tr>\n",
       "<tr>\n",
       "  <th>No. Iterations:</th>        <td>10</td>        <th>                     </th>        <td> </td>      \n",
       "</tr>\n",
       "</table>\n",
       "<table class=\"simpletable\">\n",
       "<tr>\n",
       "      <td></td>         <th>coef</th>     <th>std err</th>      <th>z</th>      <th>P>|z|</th>  <th>[0.025</th>    <th>0.975]</th>  \n",
       "</tr>\n",
       "<tr>\n",
       "  <th>Intercept</th> <td>   -1.0403</td> <td>    0.119</td> <td>   -8.759</td> <td> 0.000</td> <td>   -1.273</td> <td>   -0.808</td>\n",
       "</tr>\n",
       "<tr>\n",
       "  <th>np.log(x)</th> <td>    0.6832</td> <td>    0.068</td> <td>    9.992</td> <td> 0.000</td> <td>    0.549</td> <td>    0.817</td>\n",
       "</tr>\n",
       "</table>"
      ],
      "text/plain": [
       "<class 'statsmodels.iolib.summary.Summary'>\n",
       "\"\"\"\n",
       "                 Generalized Linear Model Regression Results                  \n",
       "==============================================================================\n",
       "Dep. Variable:                      y   No. Observations:                   50\n",
       "Model:                            GLM   Df Residuals:                       48\n",
       "Model Family:                   Gamma   Df Model:                            1\n",
       "Link Function:                    log   Scale:                  0.325084320549\n",
       "Method:                          IRLS   Log-Likelihood:                 58.471\n",
       "Date:                Thu, 06 Jul 2017   Deviance:                       17.251\n",
       "Time:                        01:08:14   Pearson chi2:                     15.6\n",
       "No. Iterations:                    10                                         \n",
       "==============================================================================\n",
       "                 coef    std err          z      P>|z|      [0.025      0.975]\n",
       "------------------------------------------------------------------------------\n",
       "Intercept     -1.0403      0.119     -8.759      0.000      -1.273      -0.808\n",
       "np.log(x)      0.6832      0.068      9.992      0.000       0.549       0.817\n",
       "==============================================================================\n",
       "\"\"\""
      ]
     },
     "execution_count": 39,
     "metadata": {},
     "output_type": "execute_result"
    }
   ],
   "source": [
    "result = model.fit()\n",
    "result.summary()"
   ]
  },
  {
   "cell_type": "code",
   "execution_count": 40,
   "metadata": {},
   "outputs": [
    {
     "data": {
      "text/plain": [
       "[<matplotlib.lines.Line2D at 0x10a28cb38>]"
      ]
     },
     "execution_count": 40,
     "metadata": {},
     "output_type": "execute_result"
    },
    {
     "data": {
      "image/png": "[encoded data removed]",
      "text/plain": [
       "<matplotlib.figure.Figure at 0x10a28c668>"
      ]
     },
     "metadata": {},
     "output_type": "display_data"
    }
   ],
   "source": [
    "intercept = result.params[\"Intercept\"]\n",
    "nplog = result.params[\"np.log(x)\"]\n",
    "pred = np.exp(intercept + np.log(data.x) * nplog)\n",
    "plt.scatter(data.x,data.y)\n",
    "# plt.scatter(data.x,pred)\n",
    "plt.plot(data.x,pred,c=\"red\")"
   ]
  },
  {
   "cell_type": "markdown",
   "metadata": {
    "collapsed": true
   },
   "source": [
    "* または下記でも図示可能"
   ]
  },
  {
   "cell_type": "code",
   "execution_count": 41,
   "metadata": {},
   "outputs": [
    {
     "data": {
      "text/plain": [
       "[<matplotlib.lines.Line2D at 0x10b794470>]"
      ]
     },
     "execution_count": 41,
     "metadata": {},
     "output_type": "execute_result"
    },
    {
     "data": {
      "image/png": "[encoded data removed]",
      "text/plain": [
       "<matplotlib.figure.Figure at 0x10b7945c0>"
      ]
     },
     "metadata": {},
     "output_type": "display_data"
    }
   ],
   "source": [
    "x_list = np.arange(0.01,0.9,0.01)\n",
    "df_test = pd.DataFrame()\n",
    "df_test[\"x\"] = x_list\n",
    "pred_y = result.predict(df_test.x)\n",
    "plt.scatter(data.x,data.y)\n",
    "plt.plot(x_list,pred_y,c=\"red\")"
   ]
  },
  {
   "cell_type": "markdown",
   "metadata": {},
   "source": [
    "* (わからない）Pythonだと、信頼区間を表示するのは難しい？\n",
    "    * 確率分布に従ってサンプル点を多数起き、信頼区間のように見せる？"
   ]
  },
  {
   "cell_type": "markdown",
   "metadata": {
    "collapsed": true
   },
   "source": [
    "## 6.9. この章のまとめと参考文献"
   ]
  },
  {
   "cell_type": "markdown",
   "metadata": {},
   "source": [
    "* GLMでは応答変数のばらつきを表現する確率分布は下記などから選択できる。\n",
    "    * 正規分布\n",
    "    * ポアソン分布\n",
    "    * 二項分布\n",
    "    * ガンマ分布\n",
    "* 「$N$個の観察対象のうち$k$個で反応が見られた」というタイプのデータに見られるばらつきを表すために二項分布が使える。\n",
    "* ロジスティック回帰\n",
    "* 交互作用項\n",
    "* 観測値同士の割り算値作成、応答変数変換の問題点。ロジスティック回帰やオフセット項の工夫をすれば、情報消失の原因となる「データの加工」は不要になる。\n",
    "* 連続値の確率変数のばらつきを表現する確率分布\n",
    "    * 正規分布\n",
    "    * ガンマ分布"
   ]
  },
  {
   "cell_type": "markdown",
   "metadata": {},
   "source": [
    "* 第7章以降ではGLMをさらに強化し、複雑な統計モデルをつくれるようにする。"
   ]
  }
 ],
 "metadata": {
  "kernelspec": {
   "display_name": "Python 3",
   "language": "python",
   "name": "python3"
  },
  "language_info": {
   "codemirror_mode": {
    "name": "ipython",
    "version": 3
   },
   "file_extension": ".py",
   "mimetype": "text/x-python",
   "name": "python",
   "nbconvert_exporter": "python",
   "pygments_lexer": "ipython3",
   "version": "3.6.0"
  }
 },
 "nbformat": 4,
 "nbformat_minor": 2
}
