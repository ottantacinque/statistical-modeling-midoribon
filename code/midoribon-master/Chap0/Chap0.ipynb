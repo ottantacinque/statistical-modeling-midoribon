{
 "cells": [
  {
   "cell_type": "markdown",
   "metadata": {},
   "source": [
    "# 狙いと読者\n",
    "* 「数理モデルを現象で表現・説明する」基礎訓練を受けてない人\n",
    "\n",
    "# 扱う内容\n",
    "* 一般化線形モデル（generalized linear model)\n",
    "* 前半、GLM入門的な内容\n",
    "* 後半、ベイズ統計モデル化する方法\n"
   ]
  }
 ],
 "metadata": {
  "kernelspec": {
   "display_name": "Python 3",
   "language": "python",
   "name": "python3"
  },
  "language_info": {
   "codemirror_mode": {
    "name": "ipython",
    "version": 3
   },
   "file_extension": ".py",
   "mimetype": "text/x-python",
   "name": "python",
   "nbconvert_exporter": "python",
   "pygments_lexer": "ipython3",
   "version": "3.6.0"
  }
 },
 "nbformat": 4,
 "nbformat_minor": 2
}
