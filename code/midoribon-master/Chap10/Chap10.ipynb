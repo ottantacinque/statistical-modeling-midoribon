{
 "cells": [
  {
   "cell_type": "markdown",
   "metadata": {},
   "source": [
    "# 10. 階層ベイズモデル -GLMMのベイズモデル化-"
   ]
  },
  {
   "cell_type": "markdown",
   "metadata": {},
   "source": [
    "* 9章では、無情報事前分布を使ったベイズ統計モデル\n",
    "* 10章では、階層事前分布を使って一般化線形混合モデル(GLMM)を階層ベイズモデルとして扱う\n",
    "    * 現実的な統計モデルを構築するためには、無情報事前分布だけではなく、階層事前分布も使わなければならない\n",
    "* 階層ベイズモデルとMCMCサンプリングによるパラメータ推定は、複雑な統計モデルの時に威力を発揮する。"
   ]
  },
  {
   "cell_type": "markdown",
   "metadata": {},
   "source": [
    "## 10.1.例題：個体差と生存種子数（個体差あり）"
   ]
  },
  {
   "cell_type": "markdown",
   "metadata": {},
   "source": [
    "* 種子の生存確率を調べる問題\n",
    "* 100個体からそれぞれ、8つの種子を取り出し、生存数を数える。"
   ]
  },
  {
   "cell_type": "code",
   "execution_count": 1,
   "metadata": {
    "collapsed": true
   },
   "outputs": [],
   "source": [
    "import numpy as np\n",
    "import pandas as pd\n",
    "import matplotlib.pyplot as plt\n",
    "%matplotlib inline\n",
    "\n",
    "data_df = pd.read_csv(\"./input/data7a.csv\")\n",
    "\n",
    "rng = np.random.RandomState(160)"
   ]
  },
  {
   "cell_type": "code",
   "execution_count": 2,
   "metadata": {},
   "outputs": [
    {
     "data": {
      "text/html": [
       "<div>\n",
       "<style>\n",
       "    .dataframe thead tr:only-child th {\n",
       "        text-align: right;\n",
       "    }\n",
       "\n",
       "    .dataframe thead th {\n",
       "        text-align: left;\n",
       "    }\n",
       "\n",
       "    .dataframe tbody tr th {\n",
       "        vertical-align: top;\n",
       "    }\n",
       "</style>\n",
       "<table border=\"1\" class=\"dataframe\">\n",
       "  <thead>\n",
       "    <tr style=\"text-align: right;\">\n",
       "      <th></th>\n",
       "      <th>id</th>\n",
       "      <th>y</th>\n",
       "    </tr>\n",
       "  </thead>\n",
       "  <tbody>\n",
       "    <tr>\n",
       "      <th>0</th>\n",
       "      <td>1</td>\n",
       "      <td>0</td>\n",
       "    </tr>\n",
       "    <tr>\n",
       "      <th>1</th>\n",
       "      <td>2</td>\n",
       "      <td>2</td>\n",
       "    </tr>\n",
       "    <tr>\n",
       "      <th>2</th>\n",
       "      <td>3</td>\n",
       "      <td>7</td>\n",
       "    </tr>\n",
       "    <tr>\n",
       "      <th>3</th>\n",
       "      <td>4</td>\n",
       "      <td>8</td>\n",
       "    </tr>\n",
       "    <tr>\n",
       "      <th>4</th>\n",
       "      <td>5</td>\n",
       "      <td>1</td>\n",
       "    </tr>\n",
       "  </tbody>\n",
       "</table>\n",
       "</div>"
      ],
      "text/plain": [
       "   id  y\n",
       "0   1  0\n",
       "1   2  2\n",
       "2   3  7\n",
       "3   4  8\n",
       "4   5  1"
      ]
     },
     "execution_count": 2,
     "metadata": {},
     "output_type": "execute_result"
    }
   ],
   "source": [
    "data_df.head()"
   ]
  },
  {
   "cell_type": "markdown",
   "metadata": {},
   "source": [
    "* 説明変数$x$は存在しない"
   ]
  },
  {
   "cell_type": "code",
   "execution_count": 3,
   "metadata": {
    "scrolled": true
   },
   "outputs": [
    {
     "data": {
      "text/plain": [
       "<matplotlib.legend.Legend at 0x103b36ba8>"
      ]
     },
     "execution_count": 3,
     "metadata": {},
     "output_type": "execute_result"
    },
    {
     "data": {
      "image/png": "[encoded data removed]",
      "text/plain": [
       "<matplotlib.figure.Figure at 0x1078ce438>"
      ]
     },
     "metadata": {},
     "output_type": "display_data"
    }
   ],
   "source": [
    "# 生起確率0.504で、8個取り出すのを100回繰り返し、リストに入れる。\n",
    "y_list = rng.binomial(8,0.504,100)\n",
    "\n",
    "plt.hist(data_df.y,bins=np.arange(10)-0.5,alpha=0.6,label=\"data\")\n",
    "plt.hist(y_list,bins=np.arange(10)-0.5,alpha=0.6,label=\"op=0.504\")\n",
    "plt.legend()"
   ]
  },
  {
   "cell_type": "markdown",
   "metadata": {},
   "source": [
    "* 個体に由来するランダム効果によって、過分散が生じているようだ。"
   ]
  },
  {
   "cell_type": "markdown",
   "metadata": {},
   "source": [
    "## 10.2. GLMMの階層ベイズモデル化"
   ]
  },
  {
   "cell_type": "markdown",
   "metadata": {},
   "source": [
    "* 種子生存確率$q$が全個体で共通していると仮定する統計モデルでは、説明できない。\n",
    "* 個体ごとに由来する差異を組み込んだGLMである、「GLMM」を用いる必要\n",
    "\n",
    "\n",
    "#### これまで\n",
    "* 個体差だけを組み込んだGLMMなら、パラメータ推定も比較的簡単だった。(7章)\n",
    "* 個体差だけでなく、場所差も考慮するGLMMはパラメータ推定困難。\n",
    "* この問題を解決するためには、8章、9章で学んだ、「ベイズ統計モデルとMCMCサンプリングによる事後分布の推定」が有効だろう\n",
    "* 9章ではGLMのベイズモデル化を行なった(ランダム効果$r$は出てこなかった)が、10章ではGLMMのベイズモデル化を行う。"
   ]
  },
  {
   "cell_type": "markdown",
   "metadata": {},
   "source": [
    "### 統計モデルの設計"
   ]
  },
  {
   "cell_type": "markdown",
   "metadata": {
    "collapsed": true
   },
   "source": [
    "* リンク関数と線形予測子は下記とする。\n",
    "$$\n",
    "logit(q_i) = \\log \\frac {q_i}{1-q_i} = \\beta + r_i\n",
    "$$\n",
    "* $\\beta$は全個体に共通するパラメーター\n",
    "* $r_i$は個体差を表す。平均ゼロで標準偏差$s$の正規分布に従うと仮定。\n",
    "* データが得られる確率は\n",
    "$$\n",
    "p({\\bf Y} | \\beta, \\{r_i\\}) = \\prod_i \\binom {8}{y_i} q_i^{y_i} (1-q_i)^{8-y_i}\n",
    "$$\n",
    "* 推定したい事後分布は\n",
    "    * 事後分布　$　\\propto p({\\bf Y} | \\beta,\\{r_i\\})\\times$事前分布\n",
    "* あとは事前分布を指定すれば統計モデルの設計は完了"
   ]
  },
  {
   "cell_type": "markdown",
   "metadata": {},
   "source": [
    "### 事前分布の設計"
   ]
  },
  {
   "cell_type": "markdown",
   "metadata": {},
   "source": [
    "* $\\beta$は正負どのような値を取っても良い実数。\n",
    "    * (滝沢補足)$\\log \\frac {q_i}{1-q_i}$の範囲は[$-\\infty,\\infty$]のため、かな。\n",
    "* $\\beta$の事前分布として、無情報事前分布を指定する。\n",
    "    * 平均ゼロ、標準偏差100のひらべったい正規分布とする。\n",
    "    $$\n",
    "    p(\\beta) = \\frac {1}{\\sqrt {2\\pi \\times 100^2}}\\exp \\left(\\frac {-\\beta^2}{2\\times100^2} \\right)\n",
    "    $$\n",
    "* 個体差$r_i$の事前分布は平均ゼロ、標準偏差$s$の正規分布と仮定する(7章と同様）\n",
    "    * $s$は個体差を表す100個の$r_i$がどれくらいバラついてるかを表す。\n",
    "    $$\n",
    "    p(r_i | s) = \\frac {1}{\\sqrt {2\\pi s^2}}\\exp \\left(\\frac {-{r_i}^2}{2 s^2} \\right)\n",
    "    $$\n"
   ]
  },
  {
   "cell_type": "markdown",
   "metadata": {},
   "source": [
    "### $s$ の扱いを決める"
   ]
  },
  {
   "cell_type": "markdown",
   "metadata": {},
   "source": [
    "* 第7章の例題では、最尤推定によって、一つの値である$\\hat s$を特定した。\n",
    "* ベイズ統計モデルでは、確率分布である$s$の事後分布を推定する。\n",
    "* 事後分布を推定するためには事前分布を指定しなければならない。\n",
    "* $s$は正の値であればなんでも構わないので、無情報事前分布とし、\n",
    "    * $p(s) = $(0から$10^4$までの連続一様分布)"
   ]
  },
  {
   "cell_type": "markdown",
   "metadata": {},
   "source": [
    "### 階層ベイズモデルとは"
   ]
  },
  {
   "cell_type": "markdown",
   "metadata": {},
   "source": [
    "* 下記の時、$p(r_i|s)$を階層事前分布と呼ぶ。($p(r_i|s)p(s)$をまとめてそう呼ぶこともある)\n",
    "    1. 個体差$r_i$の事前分布$p(r_i|s)$の形を決める$s$というパラメータがあり、\n",
    "    2. この$s$についても事前分布$p(s)$が設定されている時\n",
    "    \n",
    "* 階層とは事前分布のパラメータにさらに事前分布が設定されていること\n",
    "* $p(r_i | s)$のパラメータ$s$は超パラメーター(hyper parameter)、事前分布の事前分布である$p(s)$は超事前分布と呼ばれる場合もある。\n",
    "* 階層事前分布を使っているベイズ統計モデルが階層ベイズモデル。"
   ]
  },
  {
   "cell_type": "markdown",
   "metadata": {},
   "source": [
    "## 10.3. 階層ベイズモデルの推定・予測"
   ]
  },
  {
   "cell_type": "markdown",
   "metadata": {},
   "source": [
    "* この例題の階層ベイズモデルの事後分布は下記のようにかける\n",
    "$$\n",
    "p(\\beta, s, {r_i} | {\\bf Y}) \\propto p({\\bf Y} | \\beta,\\{r_i\\}) p(\\beta) p(s) \\prod_i p(r_i | s)\n",
    "$$\n",
    "    * (滝沢補足)上の式だと階層がわかりづらいが、$p(s)$がもっとも下の階層(事前分布の事前分布)\n",
    "\n",
    "* 階層ベイズモデルと観測データから事後分布を推定する手順と結果を示す。\n",
    "    * 引き続き、Stanで行う。"
   ]
  },
  {
   "cell_type": "markdown",
   "metadata": {},
   "source": [
    "### 10.3.1. 階層ベイズモデルのMCMCサンプリング"
   ]
  },
  {
   "cell_type": "markdown",
   "metadata": {},
   "source": [
    "#### モデル"
   ]
  },
  {
   "cell_type": "code",
   "execution_count": 4,
   "metadata": {
    "collapsed": true
   },
   "outputs": [],
   "source": [
    "model = \"\"\"\n",
    "data {\n",
    "    int<lower=0> N; //サンプルサイズ\n",
    "    int<lower=0> y[N];//生存数\n",
    "}\n",
    "\n",
    "parameters {\n",
    "    real beta;\n",
    "    real r[N];　//個体差\n",
    "    real <lower=0> s;　//個体差のばらつき\n",
    "}\n",
    "\n",
    "# trans-param では、data及びparametersで\n",
    "# 宣言されたパラメータと定数値から、\n",
    "# 新たにサンプリングする変数を作ることができる\n",
    "transformed parameters {\n",
    "    real q[N];\n",
    "    for (i in 1:N)\n",
    "        q[i] =inv_logit(beta+r[i]);\n",
    "}\n",
    "\n",
    "model {\n",
    "    for (i in 1:N)\n",
    "        y[i] ~ binomial(8,q[i]); //二項分布\n",
    "        \n",
    "    beta ~ normal(0, 100); //betaの事前分布は標準偏差100の正規分布\n",
    "    \n",
    "    for (i in 1:N)\n",
    "        r[i] ~ normal(0,s); // rの事前分布は標準偏差s\n",
    "    \n",
    "    s ~ uniform(0,10000); // sの事前分布は0<s<10000の一様分布\n",
    "}\n",
    "\"\"\""
   ]
  },
  {
   "cell_type": "markdown",
   "metadata": {},
   "source": [
    "### 10.3.2. 階層ベイズモデルの事後分布推定と予測"
   ]
  },
  {
   "cell_type": "markdown",
   "metadata": {},
   "source": [
    "* パラメータの事後分布からのMCMCサンプリングを行う。"
   ]
  },
  {
   "cell_type": "code",
   "execution_count": 5,
   "metadata": {
    "collapsed": true
   },
   "outputs": [],
   "source": [
    "y = data_df.y\n",
    "N = y.shape[0]\n",
    "\n",
    "# stanに辞書型でデータを引き渡す\n",
    "stan_data = {\"N\": N, \"y\": y}"
   ]
  },
  {
   "cell_type": "code",
   "execution_count": 6,
   "metadata": {},
   "outputs": [
    {
     "name": "stderr",
     "output_type": "stream",
     "text": [
      "INFO:pystan:COMPILING THE C++ CODE FOR MODEL anon_model_69663eb8116a7e68936a182abad0dcd9 NOW.\n"
     ]
    }
   ],
   "source": [
    "import pystan\n",
    "\n",
    "\n",
    "# MCMCサンプリングのステップ数\n",
    "iter_count= 1600\n",
    "\n",
    "# MCMCサンプリングの反復数の指定(WinBUGSではデフォルト3)\n",
    "chain_count = 3\n",
    "\n",
    "# MCMCサンプリングの最初の何ステップの結果を使わないとするか(burnin)\n",
    "warmup_count = 100\n",
    "\n",
    "# MCMCサンプリングのステップのうち、何個飛ばしでサンプリング結果を記録するか\n",
    "thin_count = 3\n",
    "\n",
    "fit = pystan.stan(model_code=model,\n",
    "                  data=stan_data,\n",
    "                  iter=iter_count,\n",
    "                  chains=chain_count,\n",
    "                  thin=thin_count,\n",
    "                  warmup=warmup_count)"
   ]
  },
  {
   "cell_type": "code",
   "execution_count": 7,
   "metadata": {},
   "outputs": [
    {
     "data": {
      "image/png": "[encoded data removed]",
      "text/plain": [
       "<matplotlib.figure.Figure at 0x107816cf8>"
      ]
     },
     "metadata": {},
     "output_type": "display_data"
    }
   ],
   "source": [
    "fit.plot()\n",
    "plt.tight_layout()"
   ]
  },
  {
   "cell_type": "code",
   "execution_count": 8,
   "metadata": {
    "collapsed": true
   },
   "outputs": [],
   "source": [
    "result = fit.extract()\n",
    "\n",
    "sample_df = pd.DataFrame()\n",
    "sample_df[\"beta\"] = result[\"beta\"]\n",
    "\n",
    "for i in range(result[\"r\"].shape[1]):\n",
    "    column_name = \"r\"+str(i+1)\n",
    "    sample_df[column_name] = result[\"r\"][:,i]\n",
    "    \n",
    "sample_df[\"s\"] = result[\"s\"]\n",
    "for i in range(result[\"q\"].shape[1]):\n",
    "    column_name = \"q\"+str(i+1)\n",
    "    sample_df[column_name] = result[\"q\"][:,i]"
   ]
  },
  {
   "cell_type": "code",
   "execution_count": 9,
   "metadata": {},
   "outputs": [
    {
     "data": {
      "text/html": [
       "<div>\n",
       "<style>\n",
       "    .dataframe thead tr:only-child th {\n",
       "        text-align: right;\n",
       "    }\n",
       "\n",
       "    .dataframe thead th {\n",
       "        text-align: left;\n",
       "    }\n",
       "\n",
       "    .dataframe tbody tr th {\n",
       "        vertical-align: top;\n",
       "    }\n",
       "</style>\n",
       "<table border=\"1\" class=\"dataframe\">\n",
       "  <thead>\n",
       "    <tr style=\"text-align: right;\">\n",
       "      <th></th>\n",
       "      <th>beta</th>\n",
       "      <th>r1</th>\n",
       "      <th>r2</th>\n",
       "      <th>r3</th>\n",
       "      <th>r4</th>\n",
       "      <th>r5</th>\n",
       "      <th>r6</th>\n",
       "      <th>r7</th>\n",
       "      <th>r8</th>\n",
       "      <th>r9</th>\n",
       "      <th>...</th>\n",
       "      <th>q91</th>\n",
       "      <th>q92</th>\n",
       "      <th>q93</th>\n",
       "      <th>q94</th>\n",
       "      <th>q95</th>\n",
       "      <th>q96</th>\n",
       "      <th>q97</th>\n",
       "      <th>q98</th>\n",
       "      <th>q99</th>\n",
       "      <th>q100</th>\n",
       "    </tr>\n",
       "  </thead>\n",
       "  <tbody>\n",
       "    <tr>\n",
       "      <th>0</th>\n",
       "      <td>0.444103</td>\n",
       "      <td>-5.600582</td>\n",
       "      <td>-1.130515</td>\n",
       "      <td>2.662691</td>\n",
       "      <td>1.304224</td>\n",
       "      <td>-1.944581</td>\n",
       "      <td>1.775517</td>\n",
       "      <td>2.129387</td>\n",
       "      <td>3.268738</td>\n",
       "      <td>-1.998186</td>\n",
       "      <td>...</td>\n",
       "      <td>0.790946</td>\n",
       "      <td>0.156459</td>\n",
       "      <td>0.404475</td>\n",
       "      <td>0.798771</td>\n",
       "      <td>0.866808</td>\n",
       "      <td>0.278233</td>\n",
       "      <td>0.012772</td>\n",
       "      <td>0.555682</td>\n",
       "      <td>0.893832</td>\n",
       "      <td>0.010885</td>\n",
       "    </tr>\n",
       "    <tr>\n",
       "      <th>1</th>\n",
       "      <td>0.505811</td>\n",
       "      <td>-3.240757</td>\n",
       "      <td>-1.931871</td>\n",
       "      <td>2.020406</td>\n",
       "      <td>9.850625</td>\n",
       "      <td>-3.379821</td>\n",
       "      <td>3.316582</td>\n",
       "      <td>2.336106</td>\n",
       "      <td>3.511568</td>\n",
       "      <td>-2.634638</td>\n",
       "      <td>...</td>\n",
       "      <td>0.421213</td>\n",
       "      <td>0.333484</td>\n",
       "      <td>0.997467</td>\n",
       "      <td>0.727483</td>\n",
       "      <td>0.866402</td>\n",
       "      <td>0.292383</td>\n",
       "      <td>0.060905</td>\n",
       "      <td>0.609488</td>\n",
       "      <td>0.857055</td>\n",
       "      <td>0.010365</td>\n",
       "    </tr>\n",
       "    <tr>\n",
       "      <th>2</th>\n",
       "      <td>-0.667088</td>\n",
       "      <td>-4.372790</td>\n",
       "      <td>-0.509573</td>\n",
       "      <td>1.131752</td>\n",
       "      <td>3.492351</td>\n",
       "      <td>-1.569672</td>\n",
       "      <td>2.067603</td>\n",
       "      <td>4.435829</td>\n",
       "      <td>3.223807</td>\n",
       "      <td>-0.796005</td>\n",
       "      <td>...</td>\n",
       "      <td>0.728808</td>\n",
       "      <td>0.508464</td>\n",
       "      <td>0.955133</td>\n",
       "      <td>0.737589</td>\n",
       "      <td>0.571870</td>\n",
       "      <td>0.256093</td>\n",
       "      <td>0.029660</td>\n",
       "      <td>0.516112</td>\n",
       "      <td>0.870214</td>\n",
       "      <td>0.005003</td>\n",
       "    </tr>\n",
       "    <tr>\n",
       "      <th>3</th>\n",
       "      <td>0.414844</td>\n",
       "      <td>-5.817324</td>\n",
       "      <td>-2.538411</td>\n",
       "      <td>2.409314</td>\n",
       "      <td>7.345794</td>\n",
       "      <td>-3.474456</td>\n",
       "      <td>0.557974</td>\n",
       "      <td>5.270660</td>\n",
       "      <td>2.138562</td>\n",
       "      <td>-0.803608</td>\n",
       "      <td>...</td>\n",
       "      <td>0.860432</td>\n",
       "      <td>0.112197</td>\n",
       "      <td>0.989601</td>\n",
       "      <td>0.789610</td>\n",
       "      <td>0.629857</td>\n",
       "      <td>0.200444</td>\n",
       "      <td>0.134160</td>\n",
       "      <td>0.393016</td>\n",
       "      <td>0.911712</td>\n",
       "      <td>0.036801</td>\n",
       "    </tr>\n",
       "    <tr>\n",
       "      <th>4</th>\n",
       "      <td>0.391362</td>\n",
       "      <td>-3.712341</td>\n",
       "      <td>-2.050513</td>\n",
       "      <td>3.457260</td>\n",
       "      <td>2.880765</td>\n",
       "      <td>-5.294788</td>\n",
       "      <td>3.077498</td>\n",
       "      <td>3.515320</td>\n",
       "      <td>3.365418</td>\n",
       "      <td>-4.609613</td>\n",
       "      <td>...</td>\n",
       "      <td>0.823165</td>\n",
       "      <td>0.258631</td>\n",
       "      <td>0.734150</td>\n",
       "      <td>0.849336</td>\n",
       "      <td>0.884330</td>\n",
       "      <td>0.159015</td>\n",
       "      <td>0.160604</td>\n",
       "      <td>0.316462</td>\n",
       "      <td>0.963789</td>\n",
       "      <td>0.004870</td>\n",
       "    </tr>\n",
       "  </tbody>\n",
       "</table>\n",
       "<p>5 rows × 202 columns</p>\n",
       "</div>"
      ],
      "text/plain": [
       "       beta        r1        r2        r3        r4        r5        r6  \\\n",
       "0  0.444103 -5.600582 -1.130515  2.662691  1.304224 -1.944581  1.775517   \n",
       "1  0.505811 -3.240757 -1.931871  2.020406  9.850625 -3.379821  3.316582   \n",
       "2 -0.667088 -4.372790 -0.509573  1.131752  3.492351 -1.569672  2.067603   \n",
       "3  0.414844 -5.817324 -2.538411  2.409314  7.345794 -3.474456  0.557974   \n",
       "4  0.391362 -3.712341 -2.050513  3.457260  2.880765 -5.294788  3.077498   \n",
       "\n",
       "         r7        r8        r9    ...          q91       q92       q93  \\\n",
       "0  2.129387  3.268738 -1.998186    ...     0.790946  0.156459  0.404475   \n",
       "1  2.336106  3.511568 -2.634638    ...     0.421213  0.333484  0.997467   \n",
       "2  4.435829  3.223807 -0.796005    ...     0.728808  0.508464  0.955133   \n",
       "3  5.270660  2.138562 -0.803608    ...     0.860432  0.112197  0.989601   \n",
       "4  3.515320  3.365418 -4.609613    ...     0.823165  0.258631  0.734150   \n",
       "\n",
       "        q94       q95       q96       q97       q98       q99      q100  \n",
       "0  0.798771  0.866808  0.278233  0.012772  0.555682  0.893832  0.010885  \n",
       "1  0.727483  0.866402  0.292383  0.060905  0.609488  0.857055  0.010365  \n",
       "2  0.737589  0.571870  0.256093  0.029660  0.516112  0.870214  0.005003  \n",
       "3  0.789610  0.629857  0.200444  0.134160  0.393016  0.911712  0.036801  \n",
       "4  0.849336  0.884330  0.159015  0.160604  0.316462  0.963789  0.004870  \n",
       "\n",
       "[5 rows x 202 columns]"
      ]
     },
     "execution_count": 9,
     "metadata": {},
     "output_type": "execute_result"
    }
   ],
   "source": [
    "sample_df.head()"
   ]
  },
  {
   "cell_type": "markdown",
   "metadata": {},
   "source": [
    "### 各事後分布"
   ]
  },
  {
   "cell_type": "markdown",
   "metadata": {},
   "source": [
    "#### $\\beta$の事後分布(1500個のサンプル)"
   ]
  },
  {
   "cell_type": "code",
   "execution_count": 10,
   "metadata": {},
   "outputs": [
    {
     "data": {
      "image/png": "[encoded data removed]",
      "text/plain": [
       "<matplotlib.figure.Figure at 0x10aed4860>"
      ]
     },
     "metadata": {},
     "output_type": "display_data"
    }
   ],
   "source": [
    "plt.hist(sample_df.beta,bins=np.linspace(-10,10,200))\n",
    "plt.show()"
   ]
  },
  {
   "cell_type": "code",
   "execution_count": 11,
   "metadata": {},
   "outputs": [
    {
     "data": {
      "image/png": "[encoded data removed]",
      "text/plain": [
       "<matplotlib.figure.Figure at 0x10f22a588>"
      ]
     },
     "metadata": {},
     "output_type": "display_data"
    }
   ],
   "source": [
    "plt.hist(sample_df.beta,bins=np.linspace(-10,10,200))\n",
    "plt.show()"
   ]
  },
  {
   "cell_type": "markdown",
   "metadata": {},
   "source": [
    "#### $s$の事後分布"
   ]
  },
  {
   "cell_type": "code",
   "execution_count": 12,
   "metadata": {},
   "outputs": [
    {
     "data": {
      "image/png": "[encoded data removed]",
      "text/plain": [
       "<matplotlib.figure.Figure at 0x10f338f98>"
      ]
     },
     "metadata": {},
     "output_type": "display_data"
    }
   ],
   "source": [
    "plt.hist(sample_df.s,bins=np.linspace(-10,10,200))\n",
    "plt.show()"
   ]
  },
  {
   "cell_type": "markdown",
   "metadata": {},
   "source": [
    "#### $r_1$の事後分布 ( $r$ は個体ごとに固有のため、$r_\n",
    "{100}$まで存在する。)"
   ]
  },
  {
   "cell_type": "markdown",
   "metadata": {},
   "source": [
    "* sの値が事後分布の中央値となっている場合の事前分布$p(r_i | s)$も記載"
   ]
  },
  {
   "cell_type": "code",
   "execution_count": 13,
   "metadata": {},
   "outputs": [
    {
     "data": {
      "image/png": "[encoded data removed]",
      "text/plain": [
       "<matplotlib.figure.Figure at 0x107b09be0>"
      ]
     },
     "metadata": {},
     "output_type": "display_data"
    }
   ],
   "source": [
    "fig,ax1 = plt.subplots()\n",
    "ax1.hist(sample_df.r1,bins=np.linspace(-10,10,200))\n",
    "\n",
    "# sが事後分布の中央値である場合の事前分布\n",
    "ax2 = ax1.twinx()\n",
    "\n",
    "smedian = sample_df.s.median()\n",
    "\n",
    "x = np.linspace(-10,10,2000)\n",
    "y = (1.0/np.sqrt(2*np.pi*(smedian**2))) * np.exp(-(x**2)/(2*(smedian**2)))\n",
    "ax2.plot(x,y,\"orange\",label=\"Normal(0,smedian)\")\n",
    "ax2.set(ylim=(0,1))\n",
    "\n",
    "plt.legend()\n",
    "plt.show()"
   ]
  },
  {
   "cell_type": "markdown",
   "metadata": {},
   "source": [
    "### 図10.4の作成(できてない)\n",
    "* おそらく図の作成過程についての僕の認識が間違えている"
   ]
  },
  {
   "cell_type": "code",
   "execution_count": 14,
   "metadata": {},
   "outputs": [
    {
     "data": {
      "text/html": [
       "<div>\n",
       "<style>\n",
       "    .dataframe thead tr:only-child th {\n",
       "        text-align: right;\n",
       "    }\n",
       "\n",
       "    .dataframe thead th {\n",
       "        text-align: left;\n",
       "    }\n",
       "\n",
       "    .dataframe tbody tr th {\n",
       "        vertical-align: top;\n",
       "    }\n",
       "</style>\n",
       "<table border=\"1\" class=\"dataframe\">\n",
       "  <thead>\n",
       "    <tr style=\"text-align: right;\">\n",
       "      <th></th>\n",
       "      <th>beta</th>\n",
       "      <th>s</th>\n",
       "    </tr>\n",
       "  </thead>\n",
       "  <tbody>\n",
       "    <tr>\n",
       "      <th>0</th>\n",
       "      <td>0.444103</td>\n",
       "      <td>3.084453</td>\n",
       "    </tr>\n",
       "    <tr>\n",
       "      <th>1</th>\n",
       "      <td>0.505811</td>\n",
       "      <td>3.068926</td>\n",
       "    </tr>\n",
       "    <tr>\n",
       "      <th>2</th>\n",
       "      <td>-0.667088</td>\n",
       "      <td>3.028517</td>\n",
       "    </tr>\n",
       "    <tr>\n",
       "      <th>3</th>\n",
       "      <td>0.414844</td>\n",
       "      <td>3.554227</td>\n",
       "    </tr>\n",
       "    <tr>\n",
       "      <th>4</th>\n",
       "      <td>0.391362</td>\n",
       "      <td>2.986082</td>\n",
       "    </tr>\n",
       "  </tbody>\n",
       "</table>\n",
       "</div>"
      ],
      "text/plain": [
       "       beta         s\n",
       "0  0.444103  3.084453\n",
       "1  0.505811  3.068926\n",
       "2 -0.667088  3.028517\n",
       "3  0.414844  3.554227\n",
       "4  0.391362  2.986082"
      ]
     },
     "execution_count": 14,
     "metadata": {},
     "output_type": "execute_result"
    }
   ],
   "source": [
    "sample_df[[\"beta\",\"s\"]].head()"
   ]
  },
  {
   "cell_type": "code",
   "execution_count": 15,
   "metadata": {
    "collapsed": true
   },
   "outputs": [],
   "source": [
    "pred_df = pd.DataFrame()\n",
    "for i in range(9):\n",
    "    column_name = \"s\" + str(i)\n",
    "    pred_df[column_name] = np.zeros(1500)\n",
    "\n",
    "for i, params in sample_df[[\"beta\",\"s\"]].iterrows():\n",
    "    beta = params[0]\n",
    "    s = params[1]\n",
    "    \n",
    "    survival_seeds_list = []\n",
    "    for _ in range(100):\n",
    "        # r_iは毎回標準偏差sの正規分布を元に決める\n",
    "        r = rng.normal( 0, s, 1)\n",
    "        q = 1/(1+np.exp(-(beta+r)))\n",
    "    \n",
    "        survival_seeds_list.append(rng.binomial(8,q,1))\n",
    "    \n",
    "    unique, counts = np.unique(survival_seeds_list,return_counts=True)\n",
    "    \n",
    "    for u,c in zip(unique,counts):\n",
    "        pred_df.loc[i,\"s\"+str(u)] = c        "
   ]
  },
  {
   "cell_type": "code",
   "execution_count": 16,
   "metadata": {},
   "outputs": [
    {
     "data": {
      "text/html": [
       "<div>\n",
       "<style>\n",
       "    .dataframe thead tr:only-child th {\n",
       "        text-align: right;\n",
       "    }\n",
       "\n",
       "    .dataframe thead th {\n",
       "        text-align: left;\n",
       "    }\n",
       "\n",
       "    .dataframe tbody tr th {\n",
       "        vertical-align: top;\n",
       "    }\n",
       "</style>\n",
       "<table border=\"1\" class=\"dataframe\">\n",
       "  <thead>\n",
       "    <tr style=\"text-align: right;\">\n",
       "      <th></th>\n",
       "      <th>s0</th>\n",
       "      <th>s1</th>\n",
       "      <th>s2</th>\n",
       "      <th>s3</th>\n",
       "      <th>s4</th>\n",
       "      <th>s5</th>\n",
       "      <th>s6</th>\n",
       "      <th>s7</th>\n",
       "      <th>s8</th>\n",
       "    </tr>\n",
       "  </thead>\n",
       "  <tbody>\n",
       "    <tr>\n",
       "      <th>0</th>\n",
       "      <td>20.0</td>\n",
       "      <td>10.0</td>\n",
       "      <td>10.0</td>\n",
       "      <td>5.0</td>\n",
       "      <td>3.0</td>\n",
       "      <td>10.0</td>\n",
       "      <td>9.0</td>\n",
       "      <td>11.0</td>\n",
       "      <td>22.0</td>\n",
       "    </tr>\n",
       "    <tr>\n",
       "      <th>1</th>\n",
       "      <td>15.0</td>\n",
       "      <td>7.0</td>\n",
       "      <td>6.0</td>\n",
       "      <td>5.0</td>\n",
       "      <td>4.0</td>\n",
       "      <td>6.0</td>\n",
       "      <td>9.0</td>\n",
       "      <td>16.0</td>\n",
       "      <td>32.0</td>\n",
       "    </tr>\n",
       "    <tr>\n",
       "      <th>2</th>\n",
       "      <td>31.0</td>\n",
       "      <td>11.0</td>\n",
       "      <td>6.0</td>\n",
       "      <td>2.0</td>\n",
       "      <td>5.0</td>\n",
       "      <td>5.0</td>\n",
       "      <td>11.0</td>\n",
       "      <td>11.0</td>\n",
       "      <td>18.0</td>\n",
       "    </tr>\n",
       "    <tr>\n",
       "      <th>3</th>\n",
       "      <td>18.0</td>\n",
       "      <td>11.0</td>\n",
       "      <td>7.0</td>\n",
       "      <td>1.0</td>\n",
       "      <td>4.0</td>\n",
       "      <td>7.0</td>\n",
       "      <td>10.0</td>\n",
       "      <td>15.0</td>\n",
       "      <td>27.0</td>\n",
       "    </tr>\n",
       "    <tr>\n",
       "      <th>4</th>\n",
       "      <td>19.0</td>\n",
       "      <td>16.0</td>\n",
       "      <td>9.0</td>\n",
       "      <td>5.0</td>\n",
       "      <td>7.0</td>\n",
       "      <td>4.0</td>\n",
       "      <td>10.0</td>\n",
       "      <td>12.0</td>\n",
       "      <td>18.0</td>\n",
       "    </tr>\n",
       "  </tbody>\n",
       "</table>\n",
       "</div>"
      ],
      "text/plain": [
       "     s0    s1    s2   s3   s4    s5    s6    s7    s8\n",
       "0  20.0  10.0  10.0  5.0  3.0  10.0   9.0  11.0  22.0\n",
       "1  15.0   7.0   6.0  5.0  4.0   6.0   9.0  16.0  32.0\n",
       "2  31.0  11.0   6.0  2.0  5.0   5.0  11.0  11.0  18.0\n",
       "3  18.0  11.0   7.0  1.0  4.0   7.0  10.0  15.0  27.0\n",
       "4  19.0  16.0   9.0  5.0  7.0   4.0  10.0  12.0  18.0"
      ]
     },
     "execution_count": 16,
     "metadata": {},
     "output_type": "execute_result"
    }
   ],
   "source": [
    "pred_df.head()"
   ]
  },
  {
   "cell_type": "code",
   "execution_count": 17,
   "metadata": {},
   "outputs": [
    {
     "data": {
      "text/html": [
       "<div>\n",
       "<style>\n",
       "    .dataframe thead tr:only-child th {\n",
       "        text-align: right;\n",
       "    }\n",
       "\n",
       "    .dataframe thead th {\n",
       "        text-align: left;\n",
       "    }\n",
       "\n",
       "    .dataframe tbody tr th {\n",
       "        vertical-align: top;\n",
       "    }\n",
       "</style>\n",
       "<table border=\"1\" class=\"dataframe\">\n",
       "  <thead>\n",
       "    <tr style=\"text-align: right;\">\n",
       "      <th></th>\n",
       "      <th>s0</th>\n",
       "      <th>s1</th>\n",
       "      <th>s2</th>\n",
       "      <th>s3</th>\n",
       "      <th>s4</th>\n",
       "      <th>s5</th>\n",
       "      <th>s6</th>\n",
       "      <th>s7</th>\n",
       "      <th>s8</th>\n",
       "    </tr>\n",
       "  </thead>\n",
       "  <tbody>\n",
       "    <tr>\n",
       "      <th>count</th>\n",
       "      <td>1500.000000</td>\n",
       "      <td>1500.000000</td>\n",
       "      <td>1500.000000</td>\n",
       "      <td>1500.000000</td>\n",
       "      <td>1500.000000</td>\n",
       "      <td>1500.000000</td>\n",
       "      <td>1500.000000</td>\n",
       "      <td>1500.000000</td>\n",
       "      <td>1500.000000</td>\n",
       "    </tr>\n",
       "    <tr>\n",
       "      <th>mean</th>\n",
       "      <td>21.419333</td>\n",
       "      <td>10.372667</td>\n",
       "      <td>7.746000</td>\n",
       "      <td>6.534000</td>\n",
       "      <td>6.504667</td>\n",
       "      <td>6.754667</td>\n",
       "      <td>7.690000</td>\n",
       "      <td>10.841333</td>\n",
       "      <td>22.137333</td>\n",
       "    </tr>\n",
       "    <tr>\n",
       "      <th>std</th>\n",
       "      <td>5.685746</td>\n",
       "      <td>3.130120</td>\n",
       "      <td>2.703521</td>\n",
       "      <td>2.573699</td>\n",
       "      <td>2.601504</td>\n",
       "      <td>2.637508</td>\n",
       "      <td>2.766044</td>\n",
       "      <td>3.162092</td>\n",
       "      <td>5.428147</td>\n",
       "    </tr>\n",
       "    <tr>\n",
       "      <th>min</th>\n",
       "      <td>6.000000</td>\n",
       "      <td>3.000000</td>\n",
       "      <td>0.000000</td>\n",
       "      <td>0.000000</td>\n",
       "      <td>0.000000</td>\n",
       "      <td>0.000000</td>\n",
       "      <td>0.000000</td>\n",
       "      <td>3.000000</td>\n",
       "      <td>6.000000</td>\n",
       "    </tr>\n",
       "    <tr>\n",
       "      <th>25%</th>\n",
       "      <td>17.000000</td>\n",
       "      <td>8.000000</td>\n",
       "      <td>6.000000</td>\n",
       "      <td>5.000000</td>\n",
       "      <td>5.000000</td>\n",
       "      <td>5.000000</td>\n",
       "      <td>6.000000</td>\n",
       "      <td>9.000000</td>\n",
       "      <td>18.000000</td>\n",
       "    </tr>\n",
       "    <tr>\n",
       "      <th>50%</th>\n",
       "      <td>21.000000</td>\n",
       "      <td>10.000000</td>\n",
       "      <td>8.000000</td>\n",
       "      <td>6.000000</td>\n",
       "      <td>6.000000</td>\n",
       "      <td>7.000000</td>\n",
       "      <td>8.000000</td>\n",
       "      <td>11.000000</td>\n",
       "      <td>22.000000</td>\n",
       "    </tr>\n",
       "    <tr>\n",
       "      <th>75%</th>\n",
       "      <td>25.000000</td>\n",
       "      <td>12.000000</td>\n",
       "      <td>9.000000</td>\n",
       "      <td>8.000000</td>\n",
       "      <td>8.000000</td>\n",
       "      <td>8.000000</td>\n",
       "      <td>10.000000</td>\n",
       "      <td>13.000000</td>\n",
       "      <td>26.000000</td>\n",
       "    </tr>\n",
       "    <tr>\n",
       "      <th>max</th>\n",
       "      <td>39.000000</td>\n",
       "      <td>20.000000</td>\n",
       "      <td>18.000000</td>\n",
       "      <td>17.000000</td>\n",
       "      <td>15.000000</td>\n",
       "      <td>18.000000</td>\n",
       "      <td>18.000000</td>\n",
       "      <td>23.000000</td>\n",
       "      <td>40.000000</td>\n",
       "    </tr>\n",
       "  </tbody>\n",
       "</table>\n",
       "</div>"
      ],
      "text/plain": [
       "                s0           s1           s2           s3           s4  \\\n",
       "count  1500.000000  1500.000000  1500.000000  1500.000000  1500.000000   \n",
       "mean     21.419333    10.372667     7.746000     6.534000     6.504667   \n",
       "std       5.685746     3.130120     2.703521     2.573699     2.601504   \n",
       "min       6.000000     3.000000     0.000000     0.000000     0.000000   \n",
       "25%      17.000000     8.000000     6.000000     5.000000     5.000000   \n",
       "50%      21.000000    10.000000     8.000000     6.000000     6.000000   \n",
       "75%      25.000000    12.000000     9.000000     8.000000     8.000000   \n",
       "max      39.000000    20.000000    18.000000    17.000000    15.000000   \n",
       "\n",
       "                s5           s6           s7           s8  \n",
       "count  1500.000000  1500.000000  1500.000000  1500.000000  \n",
       "mean      6.754667     7.690000    10.841333    22.137333  \n",
       "std       2.637508     2.766044     3.162092     5.428147  \n",
       "min       0.000000     0.000000     3.000000     6.000000  \n",
       "25%       5.000000     6.000000     9.000000    18.000000  \n",
       "50%       7.000000     8.000000    11.000000    22.000000  \n",
       "75%       8.000000    10.000000    13.000000    26.000000  \n",
       "max      18.000000    18.000000    23.000000    40.000000  "
      ]
     },
     "execution_count": 17,
     "metadata": {},
     "output_type": "execute_result"
    }
   ],
   "source": [
    "pred_df.describe()"
   ]
  },
  {
   "cell_type": "markdown",
   "metadata": {},
   "source": [
    "* 中央値は50%の行を見れば良い"
   ]
  },
  {
   "cell_type": "code",
   "execution_count": 18,
   "metadata": {},
   "outputs": [
    {
     "data": {
      "text/plain": [
       "s0    11.0\n",
       "s1     5.0\n",
       "s2     3.0\n",
       "s3     2.0\n",
       "s4     2.0\n",
       "s5     2.0\n",
       "s6     3.0\n",
       "s7     5.0\n",
       "s8    12.0\n",
       "Name: 0.025, dtype: float64"
      ]
     },
     "execution_count": 18,
     "metadata": {},
     "output_type": "execute_result"
    }
   ],
   "source": [
    "# 下から2.5%\n",
    "pred_df.quantile(.025)"
   ]
  },
  {
   "cell_type": "code",
   "execution_count": 19,
   "metadata": {},
   "outputs": [
    {
     "data": {
      "text/plain": [
       "s0    33.0\n",
       "s1    17.0\n",
       "s2    14.0\n",
       "s3    12.0\n",
       "s4    12.0\n",
       "s5    12.0\n",
       "s6    13.0\n",
       "s7    17.0\n",
       "s8    33.0\n",
       "Name: 0.975, dtype: float64"
      ]
     },
     "execution_count": 19,
     "metadata": {},
     "output_type": "execute_result"
    }
   ],
   "source": [
    "# 下から97.5%(上から2.5%)\n",
    "pred_df.quantile(0.975)"
   ]
  },
  {
   "cell_type": "markdown",
   "metadata": {},
   "source": [
    "* 図10.4のようなグラフは作れてないが、グラフから読み取れる情報は取得できた"
   ]
  },
  {
   "cell_type": "markdown",
   "metadata": {},
   "source": [
    "## 10.4. ベイズモデルで使う様々な事前分布"
   ]
  },
  {
   "cell_type": "markdown",
   "metadata": {},
   "source": [
    "* ベイズ統計モデルの設計で重要になるのは事前分布の選択\n",
    "* 下記の3種類が主\n",
    "    1. 主観的な事前分布\n",
    "        * データ解析者の主観で決める。\n",
    "        * この本では用いない。必要となることは多くない。\n",
    "    2. 無情報事前分布\n",
    "        * 100個の$r_i$をそれぞれ自由に決めるので、統計モデルとして望ましくない。フルモデルと同じ。\n",
    "    3. 階層事前分布\n",
    "        * $p(r_i | s)$を平均ゼロ、標準偏差$s$の正規分布であるとした。\n",
    "        * そしてこの$s$の事前分布$p(s)$は無情報事前分布であると設定する。そのため階層はこれ以上は深くならない。\n",
    "* あるパラメータの事前分布として、無情報事前分布、階層事前分布のどちらを選ぶべきか？\n",
    "    * パラメータがデータ全体のどの範囲を説明しているかに依存すると考えて良い。\n",
    "        * 説明する範囲が大域的なもの：無情報事前分布\n",
    "        * 説明する範囲が局所的なもの：階層事前分布\n",
    "* 階層ベイズモデルは、多数の局所的なパラメータをまとめて取り扱うために、階層事前分布を設定し、この階層事前分布を少数の大域的パラメータ（無情報事前分布)で支配する。"
   ]
  },
  {
   "cell_type": "markdown",
   "metadata": {},
   "source": [
    "## 10.5. 個体差 + 場所差の階層ベイズモデル"
   ]
  },
  {
   "cell_type": "markdown",
   "metadata": {},
   "source": [
    "* 個体差だけでなく、場所差も組み込んだ階層ベイズモデルについて考える。"
   ]
  },
  {
   "cell_type": "markdown",
   "metadata": {},
   "source": [
    "### 例題"
   ]
  },
  {
   "cell_type": "markdown",
   "metadata": {},
   "source": [
    "* 100個の個体がある\n",
    "* 10個体ずつに異なる植木鉢(A~J)で育てられている。\n",
    "* 植木鉢A~Eは無処理、F~Jは施肥処理"
   ]
  },
  {
   "cell_type": "code",
   "execution_count": 20,
   "metadata": {
    "collapsed": true
   },
   "outputs": [],
   "source": [
    "kb_df = pd.read_csv(\"./input/d1.csv\",dtype={\"pot\":\"category\",\"f\":\"category\"})"
   ]
  },
  {
   "cell_type": "code",
   "execution_count": 21,
   "metadata": {},
   "outputs": [
    {
     "data": {
      "text/html": [
       "<div>\n",
       "<style>\n",
       "    .dataframe thead tr:only-child th {\n",
       "        text-align: right;\n",
       "    }\n",
       "\n",
       "    .dataframe thead th {\n",
       "        text-align: left;\n",
       "    }\n",
       "\n",
       "    .dataframe tbody tr th {\n",
       "        vertical-align: top;\n",
       "    }\n",
       "</style>\n",
       "<table border=\"1\" class=\"dataframe\">\n",
       "  <thead>\n",
       "    <tr style=\"text-align: right;\">\n",
       "      <th></th>\n",
       "      <th>id</th>\n",
       "      <th>pot</th>\n",
       "      <th>f</th>\n",
       "      <th>y</th>\n",
       "    </tr>\n",
       "  </thead>\n",
       "  <tbody>\n",
       "    <tr>\n",
       "      <th>0</th>\n",
       "      <td>1</td>\n",
       "      <td>A</td>\n",
       "      <td>C</td>\n",
       "      <td>6</td>\n",
       "    </tr>\n",
       "    <tr>\n",
       "      <th>1</th>\n",
       "      <td>2</td>\n",
       "      <td>A</td>\n",
       "      <td>C</td>\n",
       "      <td>3</td>\n",
       "    </tr>\n",
       "    <tr>\n",
       "      <th>2</th>\n",
       "      <td>3</td>\n",
       "      <td>A</td>\n",
       "      <td>C</td>\n",
       "      <td>19</td>\n",
       "    </tr>\n",
       "    <tr>\n",
       "      <th>3</th>\n",
       "      <td>4</td>\n",
       "      <td>A</td>\n",
       "      <td>C</td>\n",
       "      <td>5</td>\n",
       "    </tr>\n",
       "    <tr>\n",
       "      <th>4</th>\n",
       "      <td>5</td>\n",
       "      <td>A</td>\n",
       "      <td>C</td>\n",
       "      <td>0</td>\n",
       "    </tr>\n",
       "  </tbody>\n",
       "</table>\n",
       "</div>"
      ],
      "text/plain": [
       "   id pot  f   y\n",
       "0   1   A  C   6\n",
       "1   2   A  C   3\n",
       "2   3   A  C  19\n",
       "3   4   A  C   5\n",
       "4   5   A  C   0"
      ]
     },
     "execution_count": 21,
     "metadata": {},
     "output_type": "execute_result"
    }
   ],
   "source": [
    "kb_df.head()"
   ]
  },
  {
   "cell_type": "code",
   "execution_count": 22,
   "metadata": {},
   "outputs": [
    {
     "data": {
      "text/html": [
       "<div>\n",
       "<style>\n",
       "    .dataframe thead tr:only-child th {\n",
       "        text-align: right;\n",
       "    }\n",
       "\n",
       "    .dataframe thead th {\n",
       "        text-align: left;\n",
       "    }\n",
       "\n",
       "    .dataframe tbody tr th {\n",
       "        vertical-align: top;\n",
       "    }\n",
       "</style>\n",
       "<table border=\"1\" class=\"dataframe\">\n",
       "  <thead>\n",
       "    <tr style=\"text-align: right;\">\n",
       "      <th></th>\n",
       "      <th>id</th>\n",
       "      <th>y</th>\n",
       "    </tr>\n",
       "  </thead>\n",
       "  <tbody>\n",
       "    <tr>\n",
       "      <th>count</th>\n",
       "      <td>50.00000</td>\n",
       "      <td>50.000000</td>\n",
       "    </tr>\n",
       "    <tr>\n",
       "      <th>mean</th>\n",
       "      <td>25.50000</td>\n",
       "      <td>6.640000</td>\n",
       "    </tr>\n",
       "    <tr>\n",
       "      <th>std</th>\n",
       "      <td>14.57738</td>\n",
       "      <td>7.227386</td>\n",
       "    </tr>\n",
       "    <tr>\n",
       "      <th>min</th>\n",
       "      <td>1.00000</td>\n",
       "      <td>0.000000</td>\n",
       "    </tr>\n",
       "    <tr>\n",
       "      <th>25%</th>\n",
       "      <td>13.25000</td>\n",
       "      <td>2.000000</td>\n",
       "    </tr>\n",
       "    <tr>\n",
       "      <th>50%</th>\n",
       "      <td>25.50000</td>\n",
       "      <td>4.000000</td>\n",
       "    </tr>\n",
       "    <tr>\n",
       "      <th>75%</th>\n",
       "      <td>37.75000</td>\n",
       "      <td>8.000000</td>\n",
       "    </tr>\n",
       "    <tr>\n",
       "      <th>max</th>\n",
       "      <td>50.00000</td>\n",
       "      <td>29.000000</td>\n",
       "    </tr>\n",
       "  </tbody>\n",
       "</table>\n",
       "</div>"
      ],
      "text/plain": [
       "             id          y\n",
       "count  50.00000  50.000000\n",
       "mean   25.50000   6.640000\n",
       "std    14.57738   7.227386\n",
       "min     1.00000   0.000000\n",
       "25%    13.25000   2.000000\n",
       "50%    25.50000   4.000000\n",
       "75%    37.75000   8.000000\n",
       "max    50.00000  29.000000"
      ]
     },
     "execution_count": 22,
     "metadata": {},
     "output_type": "execute_result"
    }
   ],
   "source": [
    "kb_df[:50].describe()"
   ]
  },
  {
   "cell_type": "markdown",
   "metadata": {},
   "source": [
    "### 図10.7"
   ]
  },
  {
   "cell_type": "code",
   "execution_count": 23,
   "metadata": {
    "scrolled": true
   },
   "outputs": [
    {
     "data": {
      "text/plain": [
       "[<matplotlib.lines.Line2D at 0x10bc18278>]"
      ]
     },
     "execution_count": 23,
     "metadata": {},
     "output_type": "execute_result"
    },
    {
     "data": {
      "image/png": "[encoded data removed]",
      "text/plain": [
       "<matplotlib.figure.Figure at 0x10af21048>"
      ]
     },
     "metadata": {},
     "output_type": "display_data"
    }
   ],
   "source": [
    "plt.bar(kb_df.id,kb_df.y)\n",
    "\n",
    "mean_c = kb_df[kb_df.f.cat.codes==0].y.mean()\n",
    "mean_t = kb_df[kb_df.f.cat.codes==1].y.mean()\n",
    "\n",
    "plt.plot(np.arange(50),[mean_c]*50,\"r--\")\n",
    "plt.plot(np.arange(50,100),[mean_t]*50,\"g--\")"
   ]
  },
  {
   "cell_type": "code",
   "execution_count": 24,
   "metadata": {},
   "outputs": [
    {
     "name": "stdout",
     "output_type": "stream",
     "text": [
      "6.64\n"
     ]
    }
   ],
   "source": [
    "print(mean_c)"
   ]
  },
  {
   "cell_type": "markdown",
   "metadata": {},
   "source": [
    "* 無処理の平均は6.64。ポアソン分布に従うとすると、標準偏差は"
   ]
  },
  {
   "cell_type": "code",
   "execution_count": 25,
   "metadata": {},
   "outputs": [
    {
     "data": {
      "text/plain": [
       "2.5768197453450252"
      ]
     },
     "execution_count": 25,
     "metadata": {},
     "output_type": "execute_result"
    }
   ],
   "source": [
    "np.sqrt(mean_c)"
   ]
  },
  {
   "cell_type": "markdown",
   "metadata": {},
   "source": [
    "* 図を見ると、それよりも大きく見える。過分散が発生している。"
   ]
  },
  {
   "cell_type": "code",
   "execution_count": 26,
   "metadata": {},
   "outputs": [
    {
     "data": {
      "text/plain": [
       "<matplotlib.axes._subplots.AxesSubplot at 0x10af21080>"
      ]
     },
     "execution_count": 26,
     "metadata": {},
     "output_type": "execute_result"
    },
    {
     "data": {
      "image/png": "[encoded data removed]",
      "text/plain": [
       "<matplotlib.figure.Figure at 0x10f32c5c0>"
      ]
     },
     "metadata": {},
     "output_type": "display_data"
    }
   ],
   "source": [
    "kb_df[[\"y\",\"pot\"]].boxplot(by=\"pot\")"
   ]
  },
  {
   "cell_type": "markdown",
   "metadata": {
    "collapsed": true
   },
   "source": [
    "* 過分散の原因は、植木鉢にもありそうだ。\n",
    "* 個体も植木鉢も、どちらも反復ではなく擬似反復なので、個体差と植木鉢差を同時に扱う統計モデルを作らなければならない。\n",
    "    * 擬似反復とは、反復っぽく見えるが個体差・場所差を打ち消す反復になっていないもの。個体差・場所差が推定可能であり、かつその差の影響を考慮しなければ、推定結果に偏りが生じる。(7.5)\n",
    "* これはGLMM化したポアソン回帰で扱える問題なので下記で表現できる。\n",
    "$$\n",
    "p(y_i|\\lambda_i) = \\frac {\\lambda_i^{y_i} \\exp(-\\lambda_i)} {y_i !}\n",
    "$$\n",
    "* 平均種子数$\\lambda_i$は、\n",
    "$$\n",
    "\\log \\lambda_i = \\beta_1 + \\beta_2 f_i + r_i + r_{j(i)}\n",
    "$$\n",
    "    * $r_{j(i)}$は、個体$i$がいる植木鉢$j$の効果\n",
    "    * $r_i$は100個、$r_{j(i)}$は10個\n",
    "    * それぞれのばらつきを$s$と$s_p$とする\n",
    "* 上記のパラメータの事前分布は\n",
    "    * 大域的な平均パラメータである$\\beta_1,\\beta_2$は無情報事前分布(平均ゼロ)\n",
    "    * 大域的なばらつきパラメータである$s,s_p$は無情報事前分布(0から$10^4$の範囲を取る一様分布)\n",
    "    * 局所的パラメーターである$r_i,r_{j(i)}$は階層事前分布(平均ゼロで標準偏差はそれぞれ$s,s_p$)"
   ]
  },
  {
   "cell_type": "code",
   "execution_count": 27,
   "metadata": {
    "collapsed": true
   },
   "outputs": [],
   "source": [
    "model10_5 = \"\"\"\n",
    "data {\n",
    "  int<lower=0> N_sample;       // number of observations\n",
    "  int<lower=0> N_pot;          // number of pots\n",
    "  int<lower=0> N_sigma;        // number of sigmas\n",
    "  int<lower=0> Y[N_sample];    // number of seeds\n",
    "  int<lower=0> F[N_sample];    // fertilizer\n",
    "  int<lower=0> Pot[N_sample];  // pot\n",
    "}\n",
    "parameters {\n",
    "  real beta1;\n",
    "  real beta2;\n",
    "  real r[N_sample];\n",
    "  real rp[N_pot];\n",
    "  real<lower=0> sigma[N_sigma];\n",
    "}\n",
    "transformed parameters {\n",
    "  real<lower=0> lambda[N_sample];\n",
    "\n",
    "  for (i in 1:N_sample) {\n",
    "    lambda[i] <- exp(beta1 + beta2 * F[i] + r[i] + rp[Pot[i]]);\n",
    "  }\n",
    "}\n",
    "model {\n",
    "  for (i in 1:N_sample) {\n",
    "    Y[i] ~ poisson(lambda[i]);\n",
    "  }\n",
    "  beta1 ~ normal(0, 100);\n",
    "  beta2 ~ normal(0, 100);\n",
    "  r ~ normal(0, sigma[1]);\n",
    "  rp ~ normal(0, sigma[2]);\n",
    "  for (k in 1:N_sigma) {\n",
    "    sigma[k] ~ uniform(0, 1.0e+4);\n",
    "  }\n",
    "}\n",
    "\"\"\""
   ]
  },
  {
   "cell_type": "code",
   "execution_count": 28,
   "metadata": {},
   "outputs": [
    {
     "data": {
      "text/plain": [
       "0     0\n",
       "1     0\n",
       "2     0\n",
       "3     0\n",
       "4     0\n",
       "5     0\n",
       "6     0\n",
       "7     0\n",
       "8     0\n",
       "9     0\n",
       "10    0\n",
       "11    0\n",
       "12    0\n",
       "13    0\n",
       "14    0\n",
       "15    0\n",
       "16    0\n",
       "17    0\n",
       "18    0\n",
       "19    0\n",
       "20    0\n",
       "21    0\n",
       "22    0\n",
       "23    0\n",
       "24    0\n",
       "25    0\n",
       "26    0\n",
       "27    0\n",
       "28    0\n",
       "29    0\n",
       "     ..\n",
       "70    1\n",
       "71    1\n",
       "72    1\n",
       "73    1\n",
       "74    1\n",
       "75    1\n",
       "76    1\n",
       "77    1\n",
       "78    1\n",
       "79    1\n",
       "80    1\n",
       "81    1\n",
       "82    1\n",
       "83    1\n",
       "84    1\n",
       "85    1\n",
       "86    1\n",
       "87    1\n",
       "88    1\n",
       "89    1\n",
       "90    1\n",
       "91    1\n",
       "92    1\n",
       "93    1\n",
       "94    1\n",
       "95    1\n",
       "96    1\n",
       "97    1\n",
       "98    1\n",
       "99    1\n",
       "Length: 100, dtype: int8"
      ]
     },
     "execution_count": 28,
     "metadata": {},
     "output_type": "execute_result"
    }
   ],
   "source": [
    "kb_df.f.cat.codes"
   ]
  },
  {
   "cell_type": "code",
   "execution_count": 29,
   "metadata": {
    "collapsed": true
   },
   "outputs": [],
   "source": [
    "y = kb_df.y\n",
    "N_sample = kb_df.shape[0]\n",
    "N_pot = kb_df.pot.drop_duplicates().shape[0]\n",
    "N_sigma = 2\n",
    "Y = kb_df.y\n",
    "# Stanではカテゴリは0で表してはいけないようなので、\n",
    "# 1足している。\n",
    "F = kb_df.f.cat.codes + 1\n",
    "Pot = kb_df.pot.cat.codes + 1\n",
    "\n",
    "# stanに辞書型でデータを引き渡す\n",
    "stan_data10_5 = {\"y\": y,\"N_sample\":N_sample,\"N_pot\":N_pot,\n",
    "             \"N_sigma\":N_sigma,\"Y\":Y,\"F\":F,\"Pot\":Pot}"
   ]
  },
  {
   "cell_type": "code",
   "execution_count": 30,
   "metadata": {},
   "outputs": [
    {
     "name": "stderr",
     "output_type": "stream",
     "text": [
      "INFO:pystan:COMPILING THE C++ CODE FOR MODEL anon_model_461608a512c06a4653e1650bcd1fbc55 NOW.\n"
     ]
    }
   ],
   "source": [
    "# MCMCサンプリングのステップ数\n",
    "iter_count= 1600\n",
    "\n",
    "# MCMCサンプリングの反復数の指定(WinBUGSではデフォルト3)\n",
    "chain_count = 3\n",
    "\n",
    "# MCMCサンプリングの最初の何ステップの結果を使わないとするか(burnin)\n",
    "warmup_count = 100\n",
    "\n",
    "# MCMCサンプリングのステップのうち、何個飛ばしでサンプリング結果を記録するか\n",
    "thin_count = 3\n",
    "\n",
    "fit10_5 = pystan.stan(model_code=model10_5,\n",
    "                  data=stan_data10_5,\n",
    "                  iter=iter_count,\n",
    "                  chains=chain_count,\n",
    "                  thin=thin_count,\n",
    "                  warmup=warmup_count)"
   ]
  },
  {
   "cell_type": "code",
   "execution_count": 31,
   "metadata": {},
   "outputs": [
    {
     "data": {
      "text/plain": [
       "Inference for Stan model: anon_model_461608a512c06a4653e1650bcd1fbc55.\n",
       "3 chains, each with iter=1600; warmup=100; thin=3; \n",
       "post-warmup draws per chain=500, total post-warmup draws=1500.\n",
       "\n",
       "             mean se_mean     sd   2.5%    25%    50%    75%  97.5%  n_eff   Rhat\n",
       "beta1         2.3    0.06   1.34  -0.02    1.5   2.22   2.98    5.3    586    1.0\n",
       "beta2        -0.9    0.04   0.87  -2.74  -1.36  -0.85  -0.39   0.63    534    1.0\n",
       "r[0]        -0.02    0.01   0.48  -1.02  -0.34 6.9e-3    0.3   0.92   1472    1.0\n",
       "r[1]        -0.59    0.01   0.55   -1.7  -0.95  -0.56   -0.2   0.44   1359    1.0\n",
       "r[2]         1.09    0.01    0.4   0.32   0.83   1.09   1.34   1.87   1441    1.0\n",
       "r[3]        -0.19    0.01    0.5   -1.2  -0.54  -0.18   0.15   0.78   1500    1.0\n",
       "r[4]        -1.59    0.02   0.72  -3.07  -2.06  -1.55  -1.08  -0.37   1500    1.0\n",
       "r[5]         1.09    0.01    0.4   0.31   0.81   1.08   1.37   1.87   1222    1.0\n",
       "r[6]         -0.4    0.01   0.51  -1.41  -0.76  -0.38  -0.04   0.57   1500    1.0\n",
       "r[7]         0.22    0.01   0.46  -0.71  -0.08   0.22   0.52   1.13   1350    1.0\n",
       "r[8]         0.62    0.01   0.44  -0.26   0.33   0.61   0.91   1.51   1442    1.0\n",
       "r[9]         0.22    0.01   0.47  -0.73  -0.09   0.23   0.55   1.11   1394    1.0\n",
       "r[10]       -1.15    0.02   0.73  -2.73  -1.57  -1.11  -0.65   0.21   1500    1.0\n",
       "r[11]       -0.68    0.02   0.68  -2.09  -1.11  -0.65  -0.21   0.52   1500    1.0\n",
       "r[12]        -0.7    0.02   0.67  -2.04  -1.13  -0.67  -0.22   0.53   1500    1.0\n",
       "r[13]        0.39    0.01   0.55  -0.71   0.02   0.41   0.79   1.41   1467    1.0\n",
       "r[14]        0.76    0.01    0.5  -0.19   0.41   0.75   1.09   1.73   1469    1.0\n",
       "r[15]         0.2    0.01   0.57  -0.91  -0.19    0.2   0.58   1.32   1460    1.0\n",
       "r[16]       -1.17    0.02   0.77  -2.74  -1.66  -1.13  -0.64    0.2   1500    1.0\n",
       "r[17]        0.21    0.02   0.56  -0.94  -0.15   0.24    0.6   1.29   1341    1.0\n",
       "r[18]       -0.34    0.02   0.62  -1.61  -0.73  -0.32    0.1   0.84   1469    1.0\n",
       "r[19]         2.0    0.01   0.42    1.2   1.71   2.01   2.29   2.83   1500    1.0\n",
       "r[20]       -0.15    0.02   0.65  -1.49   -0.6  -0.14   0.31   1.08   1500    1.0\n",
       "r[21]       -0.55    0.02   0.72  -2.03  -1.03  -0.51  -0.05   0.78   1500    1.0\n",
       "r[22]        0.41    0.01   0.56  -0.71   0.04   0.42   0.77   1.47   1491    1.0\n",
       "r[23]        0.14    0.02   0.59  -1.06  -0.23   0.16   0.54   1.26   1500    1.0\n",
       "r[24]        0.41    0.02   0.59   -0.8   0.02    0.4   0.81   1.56   1500    1.0\n",
       "r[25]       -1.02    0.02   0.77  -2.57  -1.52  -0.98  -0.49   0.41   1500    1.0\n",
       "r[26]       -0.54    0.02    0.7  -1.96  -0.98  -0.52  -0.06   0.76   1500    1.0\n",
       "r[27]       -0.53    0.02   0.72   -2.0  -0.97   -0.5  -0.02   0.82   1500    1.0\n",
       "r[28]        0.16    0.02    0.6  -1.06  -0.23   0.18   0.58   1.26   1500    1.0\n",
       "r[29]        0.81    0.01   0.53  -0.22   0.45   0.81   1.15   1.92   1373    1.0\n",
       "r[30]        1.13  9.7e-3   0.38    0.4   0.87   1.12   1.38    1.9   1500    1.0\n",
       "r[31]       -0.88    0.01   0.53  -1.99  -1.22  -0.83  -0.51   0.06   1500    1.0\n",
       "r[32]        1.19  9.7e-3   0.38   0.46   0.94   1.17   1.44   1.98   1500    1.0\n",
       "r[33]        0.66    0.01   0.39   -0.1    0.4   0.65   0.92   1.42   1500    1.0\n",
       "r[34]       -1.39    0.02   0.63  -2.72  -1.81  -1.37  -0.96  -0.22   1500    1.0\n",
       "r[35]         0.6    0.01   0.41  -0.19   0.32    0.6   0.88   1.39   1500    1.0\n",
       "r[36]         0.6    0.01    0.4   -0.2   0.33   0.59   0.86    1.4   1500    1.0\n",
       "r[37]       -0.33    0.01   0.47  -1.26  -0.63  -0.32-2.1e-4    0.6   1500    1.0\n",
       "r[38]       -0.66    0.01   0.53  -1.76  -0.99  -0.64   -0.3    0.3   1500    1.0\n",
       "r[39]       -0.08    0.01   0.46  -0.99  -0.38  -0.07   0.21   0.81   1500    1.0\n",
       "r[40]        0.45    0.01   0.51  -0.56    0.1   0.46   0.79   1.42   1241    1.0\n",
       "r[41]        1.45    0.01   0.43   0.64   1.16   1.45   1.73   2.31   1386    1.0\n",
       "r[42]        0.74    0.01   0.48  -0.18   0.42   0.72   1.07   1.65   1500    1.0\n",
       "r[43]       -0.18    0.02   0.59  -1.37  -0.55  -0.15   0.23    0.9   1500    1.0\n",
       "r[44]       -0.45    0.02   0.61  -1.75  -0.83  -0.42  -0.03   0.69   1500    1.0\n",
       "r[45]        0.73    0.01   0.47  -0.14    0.4   0.72   1.03   1.63   1500    1.0\n",
       "r[46]        0.08    0.01   0.55   -1.0  -0.29    0.1   0.45    1.1   1489    1.0\n",
       "r[47]       -1.26    0.02   0.73  -2.83  -1.72  -1.21  -0.76   0.06   1500    1.0\n",
       "r[48]       -1.25    0.02   0.74   -2.9  -1.73   -1.2  -0.75   0.13   1500    1.0\n",
       "r[49]       -0.45    0.02    0.6  -1.72  -0.84  -0.44  -0.04   0.65   1500    1.0\n",
       "r[50]        0.59    0.02   0.73  -0.92   0.13   0.61   1.08   1.96   1500    1.0\n",
       "r[51]        0.61    0.02   0.71   -0.9   0.16   0.62   1.07   2.01   1500    1.0\n",
       "r[52]       -0.54    0.02   0.86  -2.31  -1.06  -0.51   0.05   1.01   1382    1.0\n",
       "r[53]       -0.56    0.02   0.88  -2.31  -1.16  -0.52   0.03   1.09   1500    1.0\n",
       "r[54]        0.12    0.02   0.76  -1.41  -0.38   0.15   0.65   1.51   1500    1.0\n",
       "r[55]       -0.53    0.02   0.88  -2.37  -1.11  -0.48   0.08    1.1   1500    1.0\n",
       "r[56]       -0.53    0.02   0.86  -2.22  -1.07  -0.52   0.04   1.14   1500    1.0\n",
       "r[57]        0.08    0.02   0.78  -1.51  -0.44   0.12   0.62   1.51   1430    1.0\n",
       "r[58]       -0.57    0.02   0.87  -2.37  -1.13  -0.57   0.04   1.06   1470    1.0\n",
       "r[59]         0.1    0.02    0.8  -1.54  -0.43   0.14   0.66   1.58   1488    1.0\n",
       "r[60]        1.08    0.01   0.45    0.2   0.79   1.08   1.37    2.0   1335    1.0\n",
       "r[61]       -0.41    0.02   0.62  -1.63   -0.8  -0.39   0.02   0.72   1500    1.0\n",
       "r[62]       -0.42    0.02   0.62  -1.74  -0.82  -0.39 8.1e-3   0.73   1500    1.0\n",
       "r[63]        1.61    0.01   0.42   0.78   1.33   1.61   1.89   2.43   1329    1.0\n",
       "r[64]       -0.17    0.02   0.58  -1.36  -0.53  -0.16   0.22   0.93   1500    1.0\n",
       "r[65]        0.74    0.01   0.48  -0.22   0.43   0.73   1.06    1.7   1323    1.0\n",
       "r[66]        0.61    0.01    0.5   -0.4   0.28   0.63   0.94   1.55   1410    1.0\n",
       "r[67]       -0.14    0.02   0.59  -1.33  -0.55  -0.13   0.28   0.96   1500    1.0\n",
       "r[68]       -0.82    0.02   0.68  -2.22  -1.26  -0.78  -0.38   0.45   1500    1.0\n",
       "r[69]       -1.26    0.02   0.74  -2.81  -1.75  -1.22  -0.72   0.04   1479    1.0\n",
       "r[70]        1.89    0.02   0.59   0.75    1.5   1.88   2.27   3.12   1360    1.0\n",
       "r[71]       -0.65    0.02   0.88  -2.56  -1.18  -0.62  -0.06   1.02   1365    1.0\n",
       "r[72]        -0.6    0.02   0.86   -2.3  -1.17  -0.56 2.9e-3   0.99   1500    1.0\n",
       "r[73]       -0.59    0.02   0.86  -2.41  -1.16  -0.56  -0.02   0.98   1500    1.0\n",
       "r[74]        0.04    0.02   0.77  -1.46  -0.49   0.07   0.56   1.51   1500    1.0\n",
       "r[75]        0.04    0.02   0.75  -1.47  -0.44   0.04   0.53   1.53   1409    1.0\n",
       "r[76]       -0.59    0.02   0.87  -2.38  -1.17  -0.56 4.4e-3   1.05   1500    1.0\n",
       "r[77]       -0.58    0.02   0.84   -2.3   -1.1  -0.56-8.0e-3   1.01   1500    1.0\n",
       "r[78]        0.03    0.02   0.74   -1.5  -0.45   0.05   0.54   1.41   1500    1.0\n",
       "r[79]        0.06    0.02   0.76  -1.49  -0.43   0.11   0.57   1.47   1500    1.0\n",
       "r[80]        0.37    0.01   0.45  -0.54   0.07   0.38   0.67   1.23   1500    1.0\n",
       "r[81]       -0.93    0.01   0.58  -2.11   -1.3   -0.9  -0.54   0.15   1500    1.0\n",
       "r[82]        0.47    0.01   0.44  -0.41   0.17   0.47   0.77   1.33   1410    1.0\n",
       "r[83]       -0.44    0.01   0.54   -1.5  -0.81  -0.42  -0.09   0.59   1456    1.0\n",
       "r[84]       -0.66    0.01   0.58  -1.82  -1.05  -0.64  -0.27   0.49   1497    1.0\n",
       "r[85]        0.85    0.01   0.41   0.05   0.56   0.86   1.12   1.66   1375    1.0\n",
       "r[86]       -0.44    0.01   0.53  -1.47  -0.79  -0.44  -0.08   0.56   1402    1.0\n",
       "r[87]        1.71    0.01   0.38   0.99   1.44   1.72   1.97   2.47   1455    1.0\n",
       "r[88]       -0.26    0.01    0.5  -1.25  -0.59  -0.25   0.07   0.71   1468    1.0\n",
       "r[89]        1.04    0.01   0.41   0.25   0.75   1.03   1.31   1.84   1365    1.0\n",
       "r[90]         2.8    0.01   0.43   1.99    2.5   2.79   3.08   3.69   1402    1.0\n",
       "r[91]       -0.34    0.02    0.7  -1.87  -0.79   -0.3   0.17   0.93   1500    1.0\n",
       "r[92]       -0.33    0.02   0.73  -1.78   -0.8  -0.31    0.2   1.01   1500    1.0\n",
       "r[93]        0.08    0.02   0.65  -1.25  -0.33    0.1   0.51    1.3   1500    1.0\n",
       "r[94]       -0.85    0.02   0.79  -2.41  -1.34  -0.81  -0.29   0.58   1500    1.0\n",
       "r[95]        -0.3    0.02   0.72  -1.84  -0.78  -0.28   0.21   1.03   1500    1.0\n",
       "r[96]        -0.3    0.02    0.7   -1.7  -0.74  -0.29   0.19   1.07   1500    1.0\n",
       "r[97]        0.06    0.02   0.68  -1.38  -0.38   0.08   0.52   1.31   1500    1.0\n",
       "r[98]       -0.32    0.02   0.72  -1.76  -0.78  -0.31   0.19   1.06   1500    1.0\n",
       "r[99]       -0.86    0.02   0.79  -2.52  -1.34  -0.84  -0.32   0.62   1500    1.0\n",
       "rp[0]        0.37    0.02   0.61  -0.91-4.2e-4    0.4   0.78   1.45    796    1.0\n",
       "rp[1]       -0.38    0.02   0.62  -1.77  -0.74  -0.36 6.4e-3    0.8    955    1.0\n",
       "rp[2]       -0.64    0.02   0.62  -1.98  -0.99  -0.61  -0.26   0.48    852    1.0\n",
       "rp[3]        0.71    0.02   0.62  -0.56   0.34   0.73    1.1   1.86    874    1.0\n",
       "rp[4]        -0.2    0.02   0.63  -1.58  -0.57  -0.18   0.19   0.93    936    1.0\n",
       "rp[5]       -0.97    0.03   0.72  -2.37  -1.39  -0.96  -0.54   0.35    665    1.0\n",
       "rp[6]        0.68    0.02   0.68  -0.46   0.27   0.66   1.06   1.97    754    1.0\n",
       "rp[7]       -0.81    0.02    0.7  -2.21   -1.2   -0.8  -0.39   0.44    780    1.0\n",
       "rp[8]        1.35    0.02   0.68   0.22   0.91   1.31   1.71   2.74    778    1.0\n",
       "rp[9]       -0.12    0.03   0.68  -1.49  -0.51  -0.14   0.27   1.19    724    1.0\n",
       "sigma[0]     1.02  3.3e-3   0.11   0.83   0.94   1.01   1.09   1.26   1206    1.0\n",
       "sigma[1]     1.08    0.02   0.45   0.52   0.79   1.01   1.26   2.14    632    1.0\n",
       "lambda[0]    6.15    0.06   2.34   2.62   4.38   5.94   7.55  11.53   1500    1.0\n",
       "lambda[1]     3.6    0.04   1.62   1.15   2.41   3.37   4.52    7.3   1500    1.0\n",
       "lambda[2]   17.84    0.11   4.17  10.41  14.96  17.52  20.34  27.03   1494    1.0\n",
       "lambda[3]    5.22    0.05   2.09   2.09   3.68   4.94    6.5  10.16   1500    1.0\n",
       "lambda[4]    1.49    0.03    1.0   0.25   0.76   1.28   1.95   4.08   1500    1.0\n",
       "lambda[5]    17.8     0.1   4.06  10.76  14.91  17.46  20.35  26.76   1500    1.0\n",
       "lambda[6]     4.3    0.05   1.88   1.57   2.94   3.99   5.27   9.08   1500    1.0\n",
       "lambda[7]    7.75    0.07    2.7   3.49   5.85   7.35    9.3  14.14   1489    1.0\n",
       "lambda[8]   11.35    0.09    3.3   5.91   9.05  10.98  13.37   18.8   1500    1.0\n",
       "lambda[9]    7.77    0.07   2.73   3.37   5.85   7.38   9.44  13.74   1391    1.0\n",
       "lambda[10]   1.13    0.02   0.85   0.16   0.55   0.93   1.48   3.23   1500    1.0\n",
       "lambda[11]   1.71    0.03   1.09   0.34   0.93   1.44   2.24   4.49   1500    1.0\n",
       "lambda[12]   1.67    0.03   1.07   0.36   0.91   1.42   2.14    4.5   1500    1.0\n",
       "lambda[13]    4.5    0.06   1.95   1.48   3.02   4.26   5.69   8.89   1202    1.0\n",
       "lambda[14]   6.32    0.06   2.37   2.69   4.72   6.02   7.57  11.97   1417    1.0\n",
       "lambda[15]   3.76    0.05   1.77   1.22   2.45   3.51   4.73   8.19   1418    1.0\n",
       "lambda[16]   1.12    0.02   0.83   0.17   0.52   0.91   1.49   3.19   1500    1.0\n",
       "lambda[17]   3.81    0.05   1.78   1.21   2.52   3.49   4.78   7.93   1242    1.0\n",
       "lambda[18]   2.32    0.03    1.3   0.53   1.38   2.09   2.95   5.58   1500    1.0\n",
       "lambda[19]  20.96    0.12   4.51  12.75   17.8  20.71  23.84  30.97   1500    1.0\n",
       "lambda[20]   2.17    0.03   1.34    0.5   1.23   1.86   2.79   5.34   1500    1.0\n",
       "lambda[21]   1.52    0.03   1.02   0.28   0.78   1.28   2.01   4.18   1500    1.0\n",
       "lambda[22]   3.57    0.04   1.67   1.13   2.36   3.29   4.46    7.6   1500    1.0\n",
       "lambda[23]   2.78    0.04   1.43   0.81   1.75   2.48   3.46   6.26   1500    1.0\n",
       "lambda[24]    3.6    0.05   1.79   1.09   2.34   3.19   4.54   7.64   1497    1.0\n",
       "lambda[25]   1.01    0.02   0.81   0.15   0.46   0.81   1.33   3.14   1500    1.0\n",
       "lambda[26]   1.53    0.03   1.02   0.31   0.78   1.31   1.97    4.3   1500    1.0\n",
       "lambda[27]   1.54    0.03   1.03   0.29   0.81    1.3   2.03   4.06   1500    1.0\n",
       "lambda[28]   2.85    0.04   1.49    0.8   1.76   2.57   3.66   6.54   1500    1.0\n",
       "lambda[29]   5.21    0.06   2.23   1.99   3.64   4.86   6.37  10.58   1282    1.0\n",
       "lambda[30]  25.94    0.13    5.1  16.97  22.37  25.54  29.08  37.42   1497    1.0\n",
       "lambda[31]   3.81    0.04   1.74   1.22   2.54   3.58   4.76   7.95   1500    1.0\n",
       "lambda[32]  27.58    0.13   5.19  18.55  23.93  27.19  30.78  38.83   1500    1.0\n",
       "lambda[33]  16.35     0.1   3.85   9.49  13.68  16.14  18.78  24.49   1500    1.0\n",
       "lambda[34]    2.4    0.04   1.38   0.59   1.38   2.13   3.16   5.61   1500    1.0\n",
       "lambda[35]  15.44     0.1   3.84   8.88  12.65  15.15  17.74   23.8   1500    1.0\n",
       "lambda[36]  15.35     0.1   3.68   9.13  12.77  14.99  17.73  22.96   1370    1.0\n",
       "lambda[37]   6.38    0.06    2.4   2.55    4.7   6.06   7.73  11.98   1500    1.0\n",
       "lambda[38]   4.65    0.05   1.95   1.64   3.28   4.42   5.67   9.16   1347    1.0\n",
       "lambda[39]   8.01    0.07   2.65   3.82   6.14   7.69   9.54  14.13   1449    1.0\n",
       "lambda[40]   5.56    0.06   2.14   2.24   4.03   5.25   6.78  10.44   1282    1.0\n",
       "lambda[41]  14.47    0.09    3.6   8.27  11.95  14.19  16.72  22.29   1500    1.0\n",
       "lambda[42]   7.36    0.07   2.62   3.19   5.52   7.02    8.9  13.25   1478    1.0\n",
       "lambda[43]   3.14    0.04   1.55   0.84    2.0   2.89   4.04   6.73   1500    1.0\n",
       "lambda[44]   2.43    0.03    1.3   0.61   1.48   2.21   3.12   5.52   1500    1.0\n",
       "lambda[45]   7.21    0.06   2.47   3.32   5.47   6.89    8.7  12.86   1500    1.0\n",
       "lambda[46]   3.96    0.05   1.81   1.29   2.64   3.68   4.99   7.99   1500    1.0\n",
       "lambda[47]   1.19    0.02   0.85   0.19    0.6    1.0   1.56    3.3   1500    1.0\n",
       "lambda[48]    1.2    0.02   0.82   0.18    0.6   1.03   1.56   3.35   1500    1.0\n",
       "lambda[49]   2.43    0.03    1.3   0.65   1.46   2.15   3.21   5.61   1500    1.0\n",
       "lambda[50]   1.39    0.02   0.94   0.25   0.72   1.18   1.84   3.86   1500    1.0\n",
       "lambda[51]    1.4    0.02   0.92   0.26   0.73   1.19   1.84   3.79   1500    1.0\n",
       "lambda[52]   0.51    0.01   0.44   0.04   0.21   0.39   0.68   1.62   1493    1.0\n",
       "lambda[53]   0.52    0.01   0.48   0.05   0.19   0.38   0.67   1.94   1473    1.0\n",
       "lambda[54]   0.93    0.02   0.74   0.13   0.41   0.74   1.23   2.79   1500    1.0\n",
       "lambda[55]   0.53    0.01   0.48   0.05    0.2   0.38    0.7   1.82   1500    1.0\n",
       "lambda[56]   0.53    0.01   0.49   0.05    0.2   0.38   0.68   1.76   1500    1.0\n",
       "lambda[57]   0.89    0.02    0.7   0.13   0.39    0.7   1.17   2.72   1500    1.0\n",
       "lambda[58]   0.52    0.01    0.5   0.05    0.2   0.37   0.69   1.89   1500    1.0\n",
       "lambda[59]   0.91    0.02   0.69   0.11   0.41   0.72   1.21   2.66   1500    1.0\n",
       "lambda[60]   9.99    0.08   2.99   4.95   7.91   9.72  11.81  16.85   1500    1.0\n",
       "lambda[61]    2.5    0.04    1.4   0.66   1.49    2.2    3.2   5.97   1500    1.0\n",
       "lambda[62]   2.49    0.04   1.39    0.6    1.5   2.22    3.2   5.85   1500    1.0\n",
       "lambda[63]  16.61    0.11   3.93   9.81  13.88  16.24  19.13  25.01   1224    1.0\n",
       "lambda[64]   3.09    0.04   1.55    0.9   1.96   2.78   3.92   6.81   1500    1.0\n",
       "lambda[65]   7.25    0.07   2.56   3.19   5.38   6.98   8.87  12.95   1430    1.0\n",
       "lambda[66]   6.38    0.07   2.42   2.54   4.67   6.03   7.74  11.74   1322    1.0\n",
       "lambda[67]    3.2    0.04   1.62   0.92   2.02   2.88   4.03   7.07   1472    1.0\n",
       "lambda[68]   1.73    0.03   1.13   0.37   0.94   1.47   2.25   4.68   1500    1.0\n",
       "lambda[69]   1.17    0.02   0.81   0.18   0.57   0.96   1.58   3.29   1500    1.0\n",
       "lambda[70]   5.24    0.06   2.18   1.86   3.65    5.0   6.51   10.4   1500    1.0\n",
       "lambda[71]   0.55    0.01   0.51   0.05   0.21    0.4   0.71   1.92   1431    1.0\n",
       "lambda[72]   0.57    0.01    0.5   0.06   0.23   0.42   0.76   1.93   1500    1.0\n",
       "lambda[73]   0.57    0.01    0.5   0.06   0.22   0.42   0.75   1.86   1500    1.0\n",
       "lambda[74]   0.99    0.02   0.76   0.14   0.45    0.8    1.3   3.01   1500    1.0\n",
       "lambda[75]   0.98    0.02   0.74   0.15   0.46   0.77   1.25   2.82   1500    1.0\n",
       "lambda[76]   0.58    0.01   0.53   0.06   0.22   0.41   0.77   1.94   1500    1.0\n",
       "lambda[77]   0.59    0.01   0.54   0.06   0.23   0.42   0.78   2.12   1500    1.0\n",
       "lambda[78]   0.97    0.02   0.72   0.14   0.47   0.78   1.27    2.8   1500    1.0\n",
       "lambda[79]   1.02    0.02   0.79   0.14   0.47   0.83   1.34   3.22   1493    1.0\n",
       "lambda[80]   9.54    0.07   2.87   4.84   7.45   9.24  11.28  16.12   1500    1.0\n",
       "lambda[81]   2.86    0.04   1.51   0.76   1.81   2.56   3.61   6.54   1366    1.0\n",
       "lambda[82]   10.5    0.08   3.06   5.39   8.34  10.25  12.26  17.55   1500    1.0\n",
       "lambda[83]   4.46    0.05   1.97    1.6   3.04   4.13   5.48   9.19   1356    1.0\n",
       "lambda[84]   3.67    0.05   1.77   1.17   2.34   3.39    4.6   8.13   1500    1.0\n",
       "lambda[85]  15.27     0.1   3.93   8.59  12.41  14.93  17.82  24.44   1500    1.0\n",
       "lambda[86]   4.46    0.05   1.96   1.61   3.04   4.08   5.57   9.14   1500    1.0\n",
       "lambda[87]  35.47    0.16   6.02  24.85   31.2  34.97  39.19  48.51   1488    1.0\n",
       "lambda[88]   5.25    0.05   2.12   2.18   3.68   4.91   6.44  10.27   1500    1.0\n",
       "lambda[89]  18.28    0.12   4.12   11.1  15.32  17.98  20.83  27.02   1162    1.0\n",
       "lambda[90]  24.21    0.13   4.82  15.44  20.75  23.95   27.2   33.9   1429    1.0\n",
       "lambda[91]   1.29    0.02   0.87   0.22   0.68   1.08   1.69   3.53   1500    1.0\n",
       "lambda[92]    1.3    0.02   0.87   0.22   0.66    1.1   1.73   3.51   1500    1.0\n",
       "lambda[93]   1.87    0.03   1.13   0.43   1.03   1.64   2.43   4.75   1500    1.0\n",
       "lambda[94]   0.84    0.02   0.67    0.1   0.38   0.67    1.1   2.59   1500    1.0\n",
       "lambda[95]   1.36    0.02   0.97   0.25   0.65   1.09   1.84   3.74   1500    1.0\n",
       "lambda[96]   1.35    0.02   0.93   0.24   0.68   1.11   1.81   3.64   1500    1.0\n",
       "lambda[97]   1.87    0.03   1.15   0.35   1.04   1.59   2.45   4.71   1500    1.0\n",
       "lambda[98]   1.33    0.02   0.92   0.24   0.67   1.09   1.74    3.6   1500    1.0\n",
       "lambda[99]   0.82    0.02   0.64   0.11   0.37   0.64   1.09   2.59   1500    1.0\n",
       "lp__       673.17    0.32   9.25 653.02  667.2 673.61 679.69 689.71    821    1.0\n",
       "\n",
       "Samples were drawn using NUTS at Fri Jul 21 01:37:59 2017.\n",
       "For each parameter, n_eff is a crude measure of effective sample size,\n",
       "and Rhat is the potential scale reduction factor on split chains (at \n",
       "convergence, Rhat=1)."
      ]
     },
     "execution_count": 31,
     "metadata": {},
     "output_type": "execute_result"
    }
   ],
   "source": [
    "fit10_5"
   ]
  },
  {
   "cell_type": "code",
   "execution_count": 32,
   "metadata": {},
   "outputs": [
    {
     "data": {
      "image/png": "[encoded data removed]",
      "text/plain": [
       "<matplotlib.figure.Figure at 0x10bdd7fd0>"
      ]
     },
     "metadata": {},
     "output_type": "display_data"
    }
   ],
   "source": [
    "fit10_5.plot()\n",
    "plt.show()"
   ]
  },
  {
   "cell_type": "markdown",
   "metadata": {
    "collapsed": true
   },
   "source": [
    "* $\\beta_2$の事後分布の95%区間にはゼロが含まれ、施肥処理は何の効果もなさそうだ。\n",
    "* 統計モデリングで手抜きをすると、「あるはずのない処理の効果」が「推定」されてしまう。例えば、個体差・植木鉢差を無視したGLMや、個体差だけ組み込んだGLMMの推定では、どちらも「肥料によって平均種子数が低下する」という結果がAIC最良となってしまう。"
   ]
  },
  {
   "cell_type": "markdown",
   "metadata": {},
   "source": [
    "## 10.6 この章のまとめと参考文献"
   ]
  },
  {
   "cell_type": "markdown",
   "metadata": {},
   "source": [
    "* この本のゴール(図1.2)となる、階層ベイズモデルを扱った。\n",
    "* GLMMをベイズモデル化すると、階層ベイズモデルになる。\n",
    "* 階層ベイズモデルは、事前分布となる確率分布のパラメータにも事前分布が指定されている統計モデル。\n",
    "* 無情報事前分布と階層事前分布を使い、主観的な事前分布は用いない。\n",
    "* 複雑な構造のあるデータの統計モデリングでは、階層ベイズモデルとMCMCサンプリングによるパラメータ推定の組み合わせで対処するのが良い。\n",
    "* 統計モデルと推定方法は区別すること。\n",
    "    * 統計モデルは階層ベイズモデルであり、GLMMのベイズ版\n",
    "    * 推定方法はMCMCサンプリング"
   ]
  },
  {
   "cell_type": "markdown",
   "metadata": {},
   "source": [
    "## 参考資料\n",
    "* [Stanで統計モデリングを学ぶ(4): とりあえず階層ベイズモデルを試してみる（基本編）](http://tjo.hatenablog.com/entry/2014/05/01/190346)\n",
    "* [R: Stanをためす (2)：Taglibro de H：So-netブログ](http://ito-hi.blog.so-net.ne.jp/2012-09-04)"
   ]
  }
 ],
 "metadata": {
  "kernelspec": {
   "display_name": "Python 3",
   "language": "python",
   "name": "python3"
  },
  "language_info": {
   "codemirror_mode": {
    "name": "ipython",
    "version": 3
   },
   "file_extension": ".py",
   "mimetype": "text/x-python",
   "name": "python",
   "nbconvert_exporter": "python",
   "pygments_lexer": "ipython3",
   "version": "3.6.0"
  }
 },
 "nbformat": 4,
 "nbformat_minor": 2
}
