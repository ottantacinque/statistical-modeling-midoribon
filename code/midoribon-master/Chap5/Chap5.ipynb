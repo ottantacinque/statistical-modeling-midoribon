{
 "cells": [
  {
   "cell_type": "markdown",
   "metadata": {},
   "source": [
    "# 5章 GLMの尤度比検定と検定の非対称性 "
   ]
  },
  {
   "cell_type": "markdown",
   "metadata": {},
   "source": [
    "## まえがき"
   ]
  },
  {
   "cell_type": "markdown",
   "metadata": {},
   "source": [
    "* データ解析というと「検定」、それだけで十分と信じている人もいる。\n",
    "* 検定とはそんなに偉い手法なのか？\n",
    "* 解析結果は「有意でした」と言えばそれで良いのか？"
   ]
  },
  {
   "cell_type": "markdown",
   "metadata": {},
   "source": [
    "* この本は、統計モデリング試行錯誤主義とでもいうべき、統計モデルによる推測・予測を重視する方向性\n",
    "* AICによるモデル選択と同様に、検定は推定された統計モデルを比較する方法の一つ。\n",
    "* どのような統計モデルでも利用可能な「尤度比検定」を扱う。"
   ]
  },
  {
   "cell_type": "markdown",
   "metadata": {
    "collapsed": true
   },
   "source": [
    "Q. 尤度比検定とは"
   ]
  },
  {
   "cell_type": "markdown",
   "metadata": {},
   "source": [
    "A.\n",
    "* 逸脱度の差に注目する考え方\n",
    "* どのような統計モデルであっても、ネストしているモデルたちを比較できる\n",
    "\n",
    "---"
   ]
  },
  {
   "cell_type": "markdown",
   "metadata": {},
   "source": [
    "* 尤度比検定に限らず、パラメータを最尤推定できる統計モデルの検定を総称して、「統計モデルの検定」と呼ぶ場合もある\n",
    "* 全パラメーターを最尤推定できる統計モデルは「パラメトリックな統計モデル」と総称できる。"
   ]
  },
  {
   "cell_type": "markdown",
   "metadata": {},
   "source": [
    "## 5.1. 統計学的な検定のわくぐみ"
   ]
  },
  {
   "cell_type": "markdown",
   "metadata": {},
   "source": [
    "* 最大対数尤度に注目して複数のモデルを比較するという点において、統計モデルの検定はモデル選択と表面的には類似。"
   ]
  },
  {
   "cell_type": "markdown",
   "metadata": {},
   "source": [
    "### モデル選択の流れ"
   ]
  },
  {
   "cell_type": "markdown",
   "metadata": {},
   "source": [
    "No.| 統計モデルの検定(Neyman-Pearsonの検定の枠組み) | AICによるモデル選択 |\n",
    ":--: | :-----------: | :------------: |\n",
    "1| 使用するデータの確定（最後までそのデータだけ、常に全て使う）  |同左| \n",
    "2| 目的とデータの構造に対応した適切な統計モデルを設計  |同左| \n",
    "3| パラメーターを最尤推定する |同左|\n",
    "| 帰無仮説・対立仮説 | ネストしているモデル（パラメータの少ないモデルと多いモデル）| \n",
    "4| 「帰無仮説は正しい」という命題が否定できるかどうかだけを調べる。モデルの当てはまりの良さを検定統計量に指定。帰無仮説が「真のモデル」であると仮定し、検定統計量の確率分布を調べ、「ありがちな範囲」を定める。  | モデル選択基準AICでそれぞれのモデルを評価 |\n",
    "5| 対立仮説のモデルで得られた検定統計量が、この「ありがちな範囲」からはみ出ているかどうかを確認、もしはみ出ていれば、帰無仮説は棄却され、対立仮説が支持されたと結論。 | 予測の良いモデル（AICの低いモデル）を選ぶ |\n"
   ]
  },
  {
   "cell_type": "markdown",
   "metadata": {},
   "source": [
    "## 5.2. 尤度比検定の例題：逸脱度の差を調べる"
   ]
  },
  {
   "cell_type": "markdown",
   "metadata": {},
   "source": [
    "* 種子数データ\n",
    "* 使用する統計モデルは$\\lambda = \\exp(\\beta_1 + \\beta_2 x_i)$を平均とするポアソン分布のGLM\n",
    "* 一定モデルとxモデルのうち、帰無仮説となる一定モデルが棄却できるかを調べる。"
   ]
  },
  {
   "cell_type": "code",
   "execution_count": 1,
   "metadata": {},
   "outputs": [
    {
     "name": "stderr",
     "output_type": "stream",
     "text": [
      "/Users/takizawa/dev/python/books/midori/lib/python3.6/site-packages/statsmodels/compat/pandas.py:56: FutureWarning: The pandas.core.datetools module is deprecated and will be removed in a future version. Please use the pandas.tseries module instead.\n",
      "  from pandas.core import datetools\n"
     ]
    }
   ],
   "source": [
    "import pandas as pd\n",
    "import matplotlib.pyplot as plt\n",
    "import numpy as np\n",
    "import scipy.stats as scs\n",
    "import statsmodels.api as sm\n",
    "import statsmodels.formula.api as smf\n",
    "\n",
    "%matplotlib inline"
   ]
  },
  {
   "cell_type": "code",
   "execution_count": 2,
   "metadata": {
    "collapsed": true
   },
   "outputs": [],
   "source": [
    "data = pd.read_csv(\"data3a.csv\")"
   ]
  },
  {
   "cell_type": "code",
   "execution_count": 3,
   "metadata": {},
   "outputs": [
    {
     "data": {
      "text/html": [
       "<div>\n",
       "<style>\n",
       "    .dataframe thead tr:only-child th {\n",
       "        text-align: right;\n",
       "    }\n",
       "\n",
       "    .dataframe thead th {\n",
       "        text-align: left;\n",
       "    }\n",
       "\n",
       "    .dataframe tbody tr th {\n",
       "        vertical-align: top;\n",
       "    }\n",
       "</style>\n",
       "<table border=\"1\" class=\"dataframe\">\n",
       "  <thead>\n",
       "    <tr style=\"text-align: right;\">\n",
       "      <th></th>\n",
       "      <th>y</th>\n",
       "      <th>x</th>\n",
       "      <th>f</th>\n",
       "    </tr>\n",
       "  </thead>\n",
       "  <tbody>\n",
       "    <tr>\n",
       "      <th>0</th>\n",
       "      <td>6</td>\n",
       "      <td>8.31</td>\n",
       "      <td>C</td>\n",
       "    </tr>\n",
       "    <tr>\n",
       "      <th>1</th>\n",
       "      <td>6</td>\n",
       "      <td>9.44</td>\n",
       "      <td>C</td>\n",
       "    </tr>\n",
       "    <tr>\n",
       "      <th>2</th>\n",
       "      <td>6</td>\n",
       "      <td>9.50</td>\n",
       "      <td>C</td>\n",
       "    </tr>\n",
       "    <tr>\n",
       "      <th>3</th>\n",
       "      <td>12</td>\n",
       "      <td>9.07</td>\n",
       "      <td>C</td>\n",
       "    </tr>\n",
       "    <tr>\n",
       "      <th>4</th>\n",
       "      <td>10</td>\n",
       "      <td>10.16</td>\n",
       "      <td>C</td>\n",
       "    </tr>\n",
       "  </tbody>\n",
       "</table>\n",
       "</div>"
      ],
      "text/plain": [
       "    y      x  f\n",
       "0   6   8.31  C\n",
       "1   6   9.44  C\n",
       "2   6   9.50  C\n",
       "3  12   9.07  C\n",
       "4  10  10.16  C"
      ]
     },
     "execution_count": 3,
     "metadata": {},
     "output_type": "execute_result"
    }
   ],
   "source": [
    "data.head()"
   ]
  },
  {
   "cell_type": "code",
   "execution_count": 4,
   "metadata": {},
   "outputs": [
    {
     "data": {
      "text/html": [
       "<table class=\"simpletable\">\n",
       "<caption>Generalized Linear Model Regression Results</caption>\n",
       "<tr>\n",
       "  <th>Dep. Variable:</th>          <td>y</td>        <th>  No. Observations:  </th>  <td>   100</td> \n",
       "</tr>\n",
       "<tr>\n",
       "  <th>Model:</th>                 <td>GLM</td>       <th>  Df Residuals:      </th>  <td>    99</td> \n",
       "</tr>\n",
       "<tr>\n",
       "  <th>Model Family:</th>        <td>Poisson</td>     <th>  Df Model:          </th>  <td>     0</td> \n",
       "</tr>\n",
       "<tr>\n",
       "  <th>Link Function:</th>         <td>log</td>       <th>  Scale:             </th>    <td>1.0</td>  \n",
       "</tr>\n",
       "<tr>\n",
       "  <th>Method:</th>               <td>IRLS</td>       <th>  Log-Likelihood:    </th> <td> -237.64</td>\n",
       "</tr>\n",
       "<tr>\n",
       "  <th>Date:</th>           <td>Thu, 06 Jul 2017</td> <th>  Deviance:          </th> <td>  89.507</td>\n",
       "</tr>\n",
       "<tr>\n",
       "  <th>Time:</th>               <td>00:55:26</td>     <th>  Pearson chi2:      </th>  <td>  87.1</td> \n",
       "</tr>\n",
       "<tr>\n",
       "  <th>No. Iterations:</th>         <td>4</td>        <th>                     </th>     <td> </td>   \n",
       "</tr>\n",
       "</table>\n",
       "<table class=\"simpletable\">\n",
       "<tr>\n",
       "      <td></td>         <th>coef</th>     <th>std err</th>      <th>z</th>      <th>P>|z|</th>  <th>[0.025</th>    <th>0.975]</th>  \n",
       "</tr>\n",
       "<tr>\n",
       "  <th>Intercept</th> <td>    2.0580</td> <td>    0.036</td> <td>   57.586</td> <td> 0.000</td> <td>    1.988</td> <td>    2.128</td>\n",
       "</tr>\n",
       "</table>"
      ],
      "text/plain": [
       "<class 'statsmodels.iolib.summary.Summary'>\n",
       "\"\"\"\n",
       "                 Generalized Linear Model Regression Results                  \n",
       "==============================================================================\n",
       "Dep. Variable:                      y   No. Observations:                  100\n",
       "Model:                            GLM   Df Residuals:                       99\n",
       "Model Family:                 Poisson   Df Model:                            0\n",
       "Link Function:                    log   Scale:                             1.0\n",
       "Method:                          IRLS   Log-Likelihood:                -237.64\n",
       "Date:                Thu, 06 Jul 2017   Deviance:                       89.507\n",
       "Time:                        00:55:26   Pearson chi2:                     87.1\n",
       "No. Iterations:                     4                                         \n",
       "==============================================================================\n",
       "                 coef    std err          z      P>|z|      [0.025      0.975]\n",
       "------------------------------------------------------------------------------\n",
       "Intercept      2.0580      0.036     57.586      0.000       1.988       2.128\n",
       "==============================================================================\n",
       "\"\"\""
      ]
     },
     "execution_count": 4,
     "metadata": {},
     "output_type": "execute_result"
    }
   ],
   "source": [
    "model_1 = smf.glm('y~1',data=data,family=sm.families.Poisson())\n",
    "result_1 = model_1.fit()\n",
    "result_1.summary()"
   ]
  },
  {
   "cell_type": "code",
   "execution_count": 5,
   "metadata": {},
   "outputs": [
    {
     "data": {
      "text/html": [
       "<table class=\"simpletable\">\n",
       "<caption>Generalized Linear Model Regression Results</caption>\n",
       "<tr>\n",
       "  <th>Dep. Variable:</th>          <td>y</td>        <th>  No. Observations:  </th>  <td>   100</td> \n",
       "</tr>\n",
       "<tr>\n",
       "  <th>Model:</th>                 <td>GLM</td>       <th>  Df Residuals:      </th>  <td>    98</td> \n",
       "</tr>\n",
       "<tr>\n",
       "  <th>Model Family:</th>        <td>Poisson</td>     <th>  Df Model:          </th>  <td>     1</td> \n",
       "</tr>\n",
       "<tr>\n",
       "  <th>Link Function:</th>         <td>log</td>       <th>  Scale:             </th>    <td>1.0</td>  \n",
       "</tr>\n",
       "<tr>\n",
       "  <th>Method:</th>               <td>IRLS</td>       <th>  Log-Likelihood:    </th> <td> -235.39</td>\n",
       "</tr>\n",
       "<tr>\n",
       "  <th>Date:</th>           <td>Thu, 06 Jul 2017</td> <th>  Deviance:          </th> <td>  84.993</td>\n",
       "</tr>\n",
       "<tr>\n",
       "  <th>Time:</th>               <td>00:55:26</td>     <th>  Pearson chi2:      </th>  <td>  83.8</td> \n",
       "</tr>\n",
       "<tr>\n",
       "  <th>No. Iterations:</th>         <td>4</td>        <th>                     </th>     <td> </td>   \n",
       "</tr>\n",
       "</table>\n",
       "<table class=\"simpletable\">\n",
       "<tr>\n",
       "      <td></td>         <th>coef</th>     <th>std err</th>      <th>z</th>      <th>P>|z|</th>  <th>[0.025</th>    <th>0.975]</th>  \n",
       "</tr>\n",
       "<tr>\n",
       "  <th>Intercept</th> <td>    1.2917</td> <td>    0.364</td> <td>    3.552</td> <td> 0.000</td> <td>    0.579</td> <td>    2.005</td>\n",
       "</tr>\n",
       "<tr>\n",
       "  <th>x</th>         <td>    0.0757</td> <td>    0.036</td> <td>    2.125</td> <td> 0.034</td> <td>    0.006</td> <td>    0.145</td>\n",
       "</tr>\n",
       "</table>"
      ],
      "text/plain": [
       "<class 'statsmodels.iolib.summary.Summary'>\n",
       "\"\"\"\n",
       "                 Generalized Linear Model Regression Results                  \n",
       "==============================================================================\n",
       "Dep. Variable:                      y   No. Observations:                  100\n",
       "Model:                            GLM   Df Residuals:                       98\n",
       "Model Family:                 Poisson   Df Model:                            1\n",
       "Link Function:                    log   Scale:                             1.0\n",
       "Method:                          IRLS   Log-Likelihood:                -235.39\n",
       "Date:                Thu, 06 Jul 2017   Deviance:                       84.993\n",
       "Time:                        00:55:26   Pearson chi2:                     83.8\n",
       "No. Iterations:                     4                                         \n",
       "==============================================================================\n",
       "                 coef    std err          z      P>|z|      [0.025      0.975]\n",
       "------------------------------------------------------------------------------\n",
       "Intercept      1.2917      0.364      3.552      0.000       0.579       2.005\n",
       "x              0.0757      0.036      2.125      0.034       0.006       0.145\n",
       "==============================================================================\n",
       "\"\"\""
      ]
     },
     "execution_count": 5,
     "metadata": {},
     "output_type": "execute_result"
    }
   ],
   "source": [
    "model_2 = smf.glm('y~x',data=data,family=sm.families.Poisson())\n",
    "result_2 = model_2.fit()\n",
    "result_2.summary()"
   ]
  },
  {
   "cell_type": "markdown",
   "metadata": {},
   "source": [
    "### 尤度比"
   ]
  },
  {
   "cell_type": "markdown",
   "metadata": {},
   "source": [
    "* この例題の場合だと、一定モデルの最大尤度 / xモデルの最大尤度"
   ]
  },
  {
   "cell_type": "code",
   "execution_count": 6,
   "metadata": {},
   "outputs": [
    {
     "data": {
      "text/plain": [
       "0.10466708976326916"
      ]
     },
     "execution_count": 6,
     "metadata": {},
     "output_type": "execute_result"
    }
   ],
   "source": [
    "np.exp(result_1.llf) / np.exp(result_2.llf)"
   ]
  },
  {
   "cell_type": "markdown",
   "metadata": {},
   "source": [
    "### 逸脱度の差"
   ]
  },
  {
   "cell_type": "markdown",
   "metadata": {},
   "source": [
    "* 尤度比検定では、尤度比の対数を取り$-2$をかける。つまり逸脱度の差\n",
    "$$\n",
    "\\Delta D_{1,2} = -2 \\times (\\log L_{1}^* - \\log L_{2}^*)\n",
    "$$\n",
    "に変換して、検定統計量として使う。\n",
    "* (復習)逸脱度は、\n",
    "$$\n",
    "D = -2 \\log L^*\n",
    "$$\n",
    "* 同じデータに対してパラメータ数の多いモデルの方が常に小さくなる。"
   ]
  },
  {
   "cell_type": "code",
   "execution_count": 7,
   "metadata": {},
   "outputs": [
    {
     "data": {
      "text/plain": [
       "4.513941078851829"
      ]
     },
     "execution_count": 7,
     "metadata": {},
     "output_type": "execute_result"
    }
   ],
   "source": [
    "result_1.deviance - result_2.deviance"
   ]
  },
  {
   "cell_type": "markdown",
   "metadata": {},
   "source": [
    "* 上記だと、一定モデルにくらべてxモデルでは当てはまりの悪さである逸脱度が4.5下がった（改善された）ということ。\n",
    "* では、検定統計量であるこの逸脱度の差が「4.5ぐらいでは改善されていない」と行って良いのかどうか調べる。"
   ]
  },
  {
   "cell_type": "markdown",
   "metadata": {},
   "source": [
    "## 5.3. 2種類の過誤と統計学的な検定の非対称性"
   ]
  },
  {
   "cell_type": "markdown",
   "metadata": {},
   "source": [
    "* Neyman-Pearsonの検定の枠組みでは、比較するモデルを帰無仮説(本例では一定モデル）と対立仮説（本例ではxモデル）に分類する。\n",
    "* この概念を導入すると、一見、「帰無仮説が正しくなければ対立仮説は正しい」あるいは「対立仮説が正しくなければ帰無仮説が正しい」が成立しているかのような気がするが、そうではない。"
   ]
  },
  {
   "cell_type": "markdown",
   "metadata": {},
   "source": [
    "| 帰無仮説は真のモデルか | $\\Delta D_{1,2}$は滅多にない差(帰無仮説を棄却) | $\\Delta D_{1,2}$はよくある差(棄却できない) |\n",
    "|:-----------:|:------------:|:------------:|\n",
    "| 真のモデルである | 第1種の過誤 | 問題なし |\n",
    "| 真のモデルでない | 問題なし | 第2種の過誤 |"
   ]
  },
  {
   "cell_type": "markdown",
   "metadata": {},
   "source": [
    "Q. 第1種の過誤とは？"
   ]
  },
  {
   "cell_type": "markdown",
   "metadata": {},
   "source": [
    "A.\n",
    "* 帰無仮説が真のモデルで、帰無仮説を棄却すること\n",
    "* データが帰無仮説（一定モデル）から生成されたのに、「逸脱度の差$\\Delta D_{1,2}$が大きいから、対立仮説（xモデル）の方が良い、帰無仮説は正しくない」と判断すること。\n",
    "\n",
    "---"
   ]
  },
  {
   "cell_type": "markdown",
   "metadata": {},
   "source": [
    "Q. 第2種の過誤とは？"
   ]
  },
  {
   "cell_type": "markdown",
   "metadata": {},
   "source": [
    "A.\n",
    "* 対立仮説が真のモデルで、帰無仮説を棄却しないこと\n",
    "* データが対立仮説（xモデル）から生成されたのに、「逸脱度の差$\\Delta D_{1,2}$が小さいから対立仮説は意味もなく複雑、一定モデルで観察されたパターンを説明できるから、帰無仮説（一定モデル）は正しい」と判断すること。\n",
    "\n",
    "---"
   ]
  },
  {
   "cell_type": "markdown",
   "metadata": {},
   "source": [
    "* この2種類の過誤をどちらも回避するのは困難。\n",
    "* そこで第1種の過誤の検討にだけ専念するのがNeyman-Pearsonの検定の枠組みの要点"
   ]
  },
  {
   "cell_type": "markdown",
   "metadata": {},
   "source": [
    "### 第1種の過誤の回避に専念する場合の全体の流れ"
   ]
  },
  {
   "cell_type": "markdown",
   "metadata": {},
   "source": [
    "1. まずは帰無仮説（一定モデル）が正しいものだと過程\n",
    "2. 観測データに帰無仮説（一定モデル）を当てはめ、パラメータを取得。これが真のモデルとほぼ同じと考えよう。\n",
    "3. この真のモデルからデータをなんども生成し、その度に帰無仮説と対立仮説を当てはめ、たくさんの$\\Delta D_{1,2}$を得て、分布を見る。\n",
    "4. 帰無仮説と対立仮説の逸脱度の差$\\Delta D_{1,2}$が、観測データで求めた値より大きくなる確率 $P$ が求められる。\n",
    "5. 何らかの確率計算と判断によって、観測データで求めた逸脱度の差が「ありえない」値だとみなされた場合→帰無仮説は棄却され、残された対立仮説が自動的に採択される。"
   ]
  },
  {
   "cell_type": "markdown",
   "metadata": {},
   "source": [
    "* 第1種の過誤の重視は「検定の非対称性」と呼ばれる。"
   ]
  },
  {
   "cell_type": "markdown",
   "metadata": {},
   "source": [
    "## 5.4. 帰無仮説を棄却するための有意水準"
   ]
  },
  {
   "cell_type": "markdown",
   "metadata": {},
   "source": [
    "* 一定モデルとxモデルの逸脱度の差が $\\Delta D_{1,2} \\geqq 4.5$となる確率 $P$ は $P$値と呼ばれる。\n",
    "* この$P$値は第1種の過誤をおかす確率である。"
   ]
  },
  {
   "cell_type": "markdown",
   "metadata": {},
   "source": [
    "### $P$ 値の利用方法"
   ]
  },
  {
   "cell_type": "markdown",
   "metadata": {},
   "source": [
    "* $P$値が「大きい」：$\\Delta D_{1,2}=4.5$はよくあること→帰無仮説棄却できない\n",
    "* $P$値が「小さい」：$\\Delta D_{1,2}=4.5$は珍しいこと→帰無仮説を棄却しよう。残った対立仮説を正しいことにしよう。"
   ]
  },
  {
   "cell_type": "markdown",
   "metadata": {},
   "source": [
    "### $P$ 値の大小の判断基準"
   ]
  },
  {
   "cell_type": "markdown",
   "metadata": {},
   "source": [
    "* Neyman-Pearsonの検定の枠組みでは、有意水準$\\alpha$ を事前に決めておいて、下記のように判断する。\n",
    "     * $P \\geqq \\alpha $ :帰無仮説は棄却できない\n",
    "     * $P < \\alpha $ :帰無仮説は棄却できる\n",
    "* $\\alpha$は自分で好き勝手に決めるしかない。慣習的には$\\alpha = 0.05$がよく用いられる 。    "
   ]
  },
  {
   "cell_type": "markdown",
   "metadata": {},
   "source": [
    "### 5.4.1. 方法(1) 汎用性のあるパラメトリックブートストラップ法"
   ]
  },
  {
   "cell_type": "markdown",
   "metadata": {},
   "source": [
    "* 具体的な方法を見ていく。\n",
    "* result_1には、一定モデルの推定結果、result_2にはxモデルの推定結果が入っている。"
   ]
  },
  {
   "cell_type": "markdown",
   "metadata": {},
   "source": [
    "#### 一定モデルで推定された平均種子数に基づきデータを生成"
   ]
  },
  {
   "cell_type": "code",
   "execution_count": 8,
   "metadata": {},
   "outputs": [
    {
     "data": {
      "text/plain": [
       "2.0579625100027119"
      ]
     },
     "execution_count": 8,
     "metadata": {},
     "output_type": "execute_result"
    }
   ],
   "source": [
    "result_1.params[0]"
   ]
  },
  {
   "cell_type": "code",
   "execution_count": 9,
   "metadata": {},
   "outputs": [
    {
     "data": {
      "text/plain": [
       "7.830000000000001"
      ]
     },
     "execution_count": 9,
     "metadata": {},
     "output_type": "execute_result"
    }
   ],
   "source": [
    "np.exp(result_1.params[0])"
   ]
  },
  {
   "cell_type": "code",
   "execution_count": 10,
   "metadata": {
    "collapsed": true
   },
   "outputs": [],
   "source": [
    "np.random.seed(10)\n",
    "data[\"y_rand\"] = np.random.poisson(np.exp(result_1.params[0]),100)"
   ]
  },
  {
   "cell_type": "code",
   "execution_count": 11,
   "metadata": {},
   "outputs": [
    {
     "data": {
      "text/html": [
       "<div>\n",
       "<style>\n",
       "    .dataframe thead tr:only-child th {\n",
       "        text-align: right;\n",
       "    }\n",
       "\n",
       "    .dataframe thead th {\n",
       "        text-align: left;\n",
       "    }\n",
       "\n",
       "    .dataframe tbody tr th {\n",
       "        vertical-align: top;\n",
       "    }\n",
       "</style>\n",
       "<table border=\"1\" class=\"dataframe\">\n",
       "  <thead>\n",
       "    <tr style=\"text-align: right;\">\n",
       "      <th></th>\n",
       "      <th>y</th>\n",
       "      <th>x</th>\n",
       "      <th>f</th>\n",
       "      <th>y_rand</th>\n",
       "    </tr>\n",
       "  </thead>\n",
       "  <tbody>\n",
       "    <tr>\n",
       "      <th>0</th>\n",
       "      <td>6</td>\n",
       "      <td>8.31</td>\n",
       "      <td>C</td>\n",
       "      <td>6</td>\n",
       "    </tr>\n",
       "    <tr>\n",
       "      <th>1</th>\n",
       "      <td>6</td>\n",
       "      <td>9.44</td>\n",
       "      <td>C</td>\n",
       "      <td>5</td>\n",
       "    </tr>\n",
       "    <tr>\n",
       "      <th>2</th>\n",
       "      <td>6</td>\n",
       "      <td>9.50</td>\n",
       "      <td>C</td>\n",
       "      <td>11</td>\n",
       "    </tr>\n",
       "    <tr>\n",
       "      <th>3</th>\n",
       "      <td>12</td>\n",
       "      <td>9.07</td>\n",
       "      <td>C</td>\n",
       "      <td>10</td>\n",
       "    </tr>\n",
       "    <tr>\n",
       "      <th>4</th>\n",
       "      <td>10</td>\n",
       "      <td>10.16</td>\n",
       "      <td>C</td>\n",
       "      <td>6</td>\n",
       "    </tr>\n",
       "  </tbody>\n",
       "</table>\n",
       "</div>"
      ],
      "text/plain": [
       "    y      x  f  y_rand\n",
       "0   6   8.31  C       6\n",
       "1   6   9.44  C       5\n",
       "2   6   9.50  C      11\n",
       "3  12   9.07  C      10\n",
       "4  10  10.16  C       6"
      ]
     },
     "execution_count": 11,
     "metadata": {},
     "output_type": "execute_result"
    }
   ],
   "source": [
    "data.head()"
   ]
  },
  {
   "cell_type": "code",
   "execution_count": 12,
   "metadata": {},
   "outputs": [
    {
     "data": {
      "text/plain": [
       "7.4500000000000002"
      ]
     },
     "execution_count": 12,
     "metadata": {},
     "output_type": "execute_result"
    }
   ],
   "source": [
    "data.y_rand.mean()"
   ]
  },
  {
   "cell_type": "code",
   "execution_count": 13,
   "metadata": {},
   "outputs": [
    {
     "data": {
      "text/plain": [
       "2.7068337885090159"
      ]
     },
     "execution_count": 13,
     "metadata": {},
     "output_type": "execute_result"
    }
   ],
   "source": [
    "model_1_rand = smf.glm('y_rand~1',data=data,family=sm.families.Poisson())\n",
    "model_2_rand = smf.glm('y_rand~x',data=data,family=sm.families.Poisson())\n",
    "result_1_rand = model_1_rand.fit()\n",
    "result_2_rand = model_2_rand.fit()\n",
    "result_1_rand.deviance - result_2_rand.deviance"
   ]
  },
  {
   "cell_type": "markdown",
   "metadata": {},
   "source": [
    "* これにより、「一定モデルが真のモデルである世界」での逸脱度の差が1個得られた"
   ]
  },
  {
   "cell_type": "markdown",
   "metadata": {},
   "source": [
    "#### 1000回くりかえす"
   ]
  },
  {
   "cell_type": "code",
   "execution_count": 14,
   "metadata": {
    "collapsed": true
   },
   "outputs": [],
   "source": [
    "deviance_list = list()\n",
    "for i in range(1000):\n",
    "    data[\"y_rand\"] = np.random.poisson(np.exp(result_1.params[0]),100)\n",
    "    model_1_rand = smf.glm('y_rand~1',data=data,family=sm.families.Poisson())\n",
    "    model_2_rand = smf.glm('y_rand~x',data=data,family=sm.families.Poisson())\n",
    "    result_1_rand = model_1_rand.fit()\n",
    "    result_2_rand = model_2_rand.fit()\n",
    "    deviance_list.append(result_1_rand.deviance - result_2_rand.deviance)"
   ]
  },
  {
   "cell_type": "code",
   "execution_count": 15,
   "metadata": {
    "scrolled": true
   },
   "outputs": [
    {
     "data": {
      "text/plain": [
       "[<matplotlib.lines.Line2D at 0x10a96e668>]"
      ]
     },
     "execution_count": 15,
     "metadata": {},
     "output_type": "execute_result"
    },
    {
     "data": {
      "image/png": "[encoded data removed]",
      "text/plain": [
       "<matplotlib.figure.Figure at 0x10a96e160>"
      ]
     },
     "metadata": {},
     "output_type": "display_data"
    }
   ],
   "source": [
    "plt.hist(deviance_list,bins=100,range=(-1,10))\n",
    "\n",
    "plt.plot([4.5]*300,range(0,300),\"--\")"
   ]
  },
  {
   "cell_type": "markdown",
   "metadata": {},
   "source": [
    "* これにより、「一定モデルが真のモデルである世界」での逸脱度の差が1000個得られた。"
   ]
  },
  {
   "cell_type": "markdown",
   "metadata": {},
   "source": [
    "#### $P$値を調べる"
   ]
  },
  {
   "cell_type": "code",
   "execution_count": 16,
   "metadata": {
    "collapsed": true
   },
   "outputs": [],
   "source": [
    "array = np.array(deviance_list)"
   ]
  },
  {
   "cell_type": "code",
   "execution_count": 17,
   "metadata": {},
   "outputs": [
    {
     "data": {
      "text/plain": [
       "(37,)"
      ]
     },
     "execution_count": 17,
     "metadata": {},
     "output_type": "execute_result"
    }
   ],
   "source": [
    "array[array>=4.5].shape"
   ]
  },
  {
   "cell_type": "markdown",
   "metadata": {
    "collapsed": true
   },
   "source": [
    "* 1000個中、37個が4.5以上となった。\n",
    "* 「逸脱度の差が4.5より大きくなる確率」$P$  = 0.037"
   ]
  },
  {
   "cell_type": "markdown",
   "metadata": {},
   "source": [
    "#### $P=0.05$となる逸脱度の差$\\Delta D_{1,2}$を調べる"
   ]
  },
  {
   "cell_type": "code",
   "execution_count": 18,
   "metadata": {},
   "outputs": [
    {
     "data": {
      "text/plain": [
       "3.5852910885010738"
      ]
     },
     "execution_count": 18,
     "metadata": {},
     "output_type": "execute_result"
    }
   ],
   "source": [
    "np.percentile(deviance_list,95)"
   ]
  },
  {
   "cell_type": "markdown",
   "metadata": {},
   "source": [
    "* $\\Delta D_{1,2} \\leqq 3.58$ ぐらいまではよくある差とみなされる。"
   ]
  },
  {
   "cell_type": "markdown",
   "metadata": {},
   "source": [
    "#### 尤度比検定の結論"
   ]
  },
  {
   "cell_type": "markdown",
   "metadata": {},
   "source": [
    "* 逸脱度の差4.5の$P$値は0.037だったので、これは有意水準0.05よりも小さい。\n",
    "* よって有意差がある。\n",
    "* 帰無仮説（一定モデル）は棄却され、xモデルが残るのでこれを採択する。"
   ]
  },
  {
   "cell_type": "markdown",
   "metadata": {},
   "source": [
    "#### 言い換えれば"
   ]
  },
  {
   "cell_type": "markdown",
   "metadata": {},
   "source": [
    "* 逸脱度の差4.5の起きる確率は、帰無仮説を真のモデルとすると、3.7%。滅多に起きるようなことではない。\n",
    "* そのため帰無仮説を真のモデルとしたのが間違い。よって棄却。"
   ]
  },
  {
   "cell_type": "markdown",
   "metadata": {},
   "source": [
    "### 5.4.2. 方法(2) $\\chi^2$分布を使った近似計算法"
   ]
  },
  {
   "cell_type": "markdown",
   "metadata": {},
   "source": [
    "* 方法(1)では乱数シミュレーションを用いて検定統計量の分布を作成した。\n",
    "* 近似計算法を使うと、お手軽に尤度比検定できる場合がある。"
   ]
  },
  {
   "cell_type": "markdown",
   "metadata": {},
   "source": [
    "* [Pythonのstatsmodelsのanova関数はGLMに対応してない](http://imaimamu.com/archives/2027)とのこと。\n",
    "* AttributeError: 'GLM' object has no attribute 'ssr'\n",
    "* （よくわからないが）ただ、下記で計算できるみたい。"
   ]
  },
  {
   "cell_type": "code",
   "execution_count": 19,
   "metadata": {},
   "outputs": [
    {
     "name": "stdout",
     "output_type": "stream",
     "text": [
      "0.045\n",
      "4.052324571500668\n"
     ]
    }
   ],
   "source": [
    "chi = pd.Series(np.random.chisquare(1,1000))\n",
    "\n",
    "print(chi[chi>=4.5].shape[0] / 1000)\n",
    "print(chi.quantile(0.95))"
   ]
  },
  {
   "cell_type": "markdown",
   "metadata": {},
   "source": [
    "* $\\chi^2$分布近似はサンプルサイズが大きい場合に有効な近似計算。\n",
    "* 調査した個体数が多くない小標本の元では、パラメトリックブートストラップ法を使って、逸脱度の差の分布をシミュレーションで生成するのが良い。\n",
    "* (よくわからない)もしデータのばらつきがポアソン分布ではなく、等分散正規分布の場合には小標本の場合の検定統計量の確率分布を利用でき、そちらの方が$\\chi^2$分布近似よりも正確。\n",
    "* (よくわからない)平均の差を検定統計量とする場合にはt分布、分散比を検定統計量とする場合にはF分布がよく使われている。"
   ]
  },
  {
   "cell_type": "markdown",
   "metadata": {},
   "source": [
    "## 5.5. 「帰無仮説を棄却できない」は「差がない」ではない"
   ]
  },
  {
   "cell_type": "markdown",
   "metadata": {},
   "source": [
    "### 仮に$P \\geqq \\alpha$となった場合は、どのように結論づければ良いか。\n",
    "* その場合には「帰無仮説は棄却できない」と結論する。\n",
    "* 「帰無仮説が正しい」という意味ではない。\n",
    "* 帰無仮説・対立仮説のどちらも正しいとも正しくないとも言えない、判断を保留するということ。\n",
    "* 「帰無仮説が棄却できないときは帰無仮説が正しい」とする論法は検定の誤用になる。"
   ]
  },
  {
   "cell_type": "markdown",
   "metadata": {},
   "source": [
    "* Neyman-Pearsonの枠組みの検定には非対称性がある。\n",
    "* そのため、$P < \\alpha$ と　$P \\geqq \\alpha$とで「結論できること」が随分異なる。\n",
    "* Neyman-Pearsonの枠組みの中では、第２種の過誤の確率$P_2$ を使って何かを定量的に主張する手続きは用意されていない。\n",
    "* (よくわからない）第２種の過誤の確率$P_2$について検討するときには、$1-P_2$と定義される検定力がよく使われている。"
   ]
  },
  {
   "cell_type": "markdown",
   "metadata": {},
   "source": [
    "## 5.6. 検定とモデル選択、そして推定された統計モデルの解釈"
   ]
  },
  {
   "cell_type": "markdown",
   "metadata": {},
   "source": [
    "* 尤度比検定とAICによるモデル選択はどちらも逸脱度あるいは最大対数尤度に注目しているが目的が異なるため、混同してはいけない。\n",
    "* AICによるモデル選択は「良い予測をするモデル」を選ぶという目的。「予測の良さとは平均対数尤度」と明示した上で、平均対数尤度を最大対数尤度とパラメーター数から推定。\n",
    "* 尤度比検定などNeyman-Pearsonの枠組みのもとでの統計学的な検定の目的は、帰無仮説の安全な棄却。"
   ]
  },
  {
   "cell_type": "markdown",
   "metadata": {},
   "source": [
    "## 5.7. この章のまとめと参考文献"
   ]
  },
  {
   "cell_type": "markdown",
   "metadata": {},
   "source": [
    "* 統計モデルの検定とAICによるモデル選択を比較した。\n",
    "* 尤度比検定について扱った。\n",
    "* Neyman-Pearsonの統計学的検定の枠組みでは、パラメーター数の少ないモデルを帰無仮説と位置づけ、帰無仮説が棄却できるかどうかの確率評価に専念した。\n",
    "* 尤度比検定の検定統計量は、帰無仮説、対立仮説の逸脱度差。\n",
    "* 検定における過誤は2種類あるが、Neyman-Pearsonの検定の枠組みでは帰無仮説の誤棄却を重視する（検定の非対称性）\n",
    "* $\\alpha=0.05$に根拠はない\n",
    "* 帰無仮説が棄却できない場合の結論は何も言えない、つまり判断を保留するしかない。\n",
    "* (よくわからない）推定やモデル選択の結果だけに注目するだけではなく、推定された統計モデルが対象となる現象の挙動を、どのように予測しているのかも確認するべきだ。\n",
    "* 統計学的な検定が「とにかく$P < 0.05$さえ出せばいい、そうすれば何を主張しても良い」といった万能ツールではないことを確認するのがこの章の主題。\n"
   ]
  }
 ],
 "metadata": {
  "kernelspec": {
   "display_name": "Python 3",
   "language": "python",
   "name": "python3"
  },
  "language_info": {
   "codemirror_mode": {
    "name": "ipython",
    "version": 3
   },
   "file_extension": ".py",
   "mimetype": "text/x-python",
   "name": "python",
   "nbconvert_exporter": "python",
   "pygments_lexer": "ipython3",
   "version": "3.6.0"
  }
 },
 "nbformat": 4,
 "nbformat_minor": 2
}
