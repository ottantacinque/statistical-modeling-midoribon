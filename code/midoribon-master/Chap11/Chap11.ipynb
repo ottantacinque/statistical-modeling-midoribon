{
 "cells": [
  {
   "cell_type": "markdown",
   "metadata": {},
   "source": [
    "# 11. 空間構造のある階層ベイズモデル"
   ]
  },
  {
   "cell_type": "markdown",
   "metadata": {},
   "source": [
    "* これまでの章で場所差(植木鉢差）を組み込んだ統計モデルを作っていたが、場所差はそれぞれ独立に決まることを前提としており、「空間構造」はないもの、考えなくて良いものとしてきた。\n",
    "* しかし現実では、「データを取る場所の空間配置の影響」を無視できない場合もある。\n",
    "* この章では、場所差の空間相関も考慮する統計モデリングについて説明する。\n",
    "    * 空間相関とは距離の遠近に依存して、二つの場所の「類似性」みたいなものが弱くなったり、強くなったりする傾向。"
   ]
  },
  {
   "cell_type": "markdown",
   "metadata": {},
   "source": [
    "## 11.1. 例題：1次元空間上の個体数分布"
   ]
  },
  {
   "cell_type": "markdown",
   "metadata": {},
   "source": [
    "### 例題"
   ]
  },
  {
   "cell_type": "markdown",
   "metadata": {},
   "source": [
    "* 調査区画を50個設定。それが1本の直線の上に等間隔に配置されている。(一次元)\n",
    "* その区画での生物の個体数を記録。\n",
    "* 調査区画$j$で観察された個体数$y_j$は図11.2で記録。\n",
    "* 架空データ{$y_j$}は場所$j$ごとに平均の異なるポアソン乱数として発生させたものであり、その平均は図11.2の破線の曲線(局所密度)。\n",
    "* 局所密度は何らかの理由でなだらかに変化しており、近くにある$y_j$同士は近い値(空間相関)\n",
    "* 図11.2の白丸を与えられれば、局所密度が場所ごとに異なること、局所密度がなだらかに変化していること、は想像できるだろう。"
   ]
  },
  {
   "cell_type": "code",
   "execution_count": 1,
   "metadata": {
    "collapsed": true
   },
   "outputs": [],
   "source": [
    "import numpy as np\n",
    "import pandas as pd\n",
    "import matplotlib.pyplot as plt\n",
    "import pystan\n",
    "\n",
    "%matplotlib inline\n",
    "\n",
    "df = pd.read_csv(\"./input/Y.csv\",index_col=0)"
   ]
  },
  {
   "cell_type": "code",
   "execution_count": 2,
   "metadata": {},
   "outputs": [
    {
     "data": {
      "text/html": [
       "<div>\n",
       "<style>\n",
       "    .dataframe thead tr:only-child th {\n",
       "        text-align: right;\n",
       "    }\n",
       "\n",
       "    .dataframe thead th {\n",
       "        text-align: left;\n",
       "    }\n",
       "\n",
       "    .dataframe tbody tr th {\n",
       "        vertical-align: top;\n",
       "    }\n",
       "</style>\n",
       "<table border=\"1\" class=\"dataframe\">\n",
       "  <thead>\n",
       "    <tr style=\"text-align: right;\">\n",
       "      <th></th>\n",
       "      <th>x</th>\n",
       "    </tr>\n",
       "  </thead>\n",
       "  <tbody>\n",
       "    <tr>\n",
       "      <th>1</th>\n",
       "      <td>0</td>\n",
       "    </tr>\n",
       "    <tr>\n",
       "      <th>2</th>\n",
       "      <td>3</td>\n",
       "    </tr>\n",
       "    <tr>\n",
       "      <th>3</th>\n",
       "      <td>2</td>\n",
       "    </tr>\n",
       "    <tr>\n",
       "      <th>4</th>\n",
       "      <td>5</td>\n",
       "    </tr>\n",
       "    <tr>\n",
       "      <th>5</th>\n",
       "      <td>6</td>\n",
       "    </tr>\n",
       "  </tbody>\n",
       "</table>\n",
       "</div>"
      ],
      "text/plain": [
       "   x\n",
       "1  0\n",
       "2  3\n",
       "3  2\n",
       "4  5\n",
       "5  6"
      ]
     },
     "execution_count": 2,
     "metadata": {},
     "output_type": "execute_result"
    }
   ],
   "source": [
    "df.head()"
   ]
  },
  {
   "cell_type": "code",
   "execution_count": 3,
   "metadata": {},
   "outputs": [
    {
     "data": {
      "text/plain": [
       "<Container object of 50 artists>"
      ]
     },
     "execution_count": 3,
     "metadata": {},
     "output_type": "execute_result"
    },
    {
     "data": {
      "image/png": "[encoded data removed]",
      "text/plain": [
       "<matplotlib.figure.Figure at 0x10a8c2438>"
      ]
     },
     "metadata": {},
     "output_type": "display_data"
    }
   ],
   "source": [
    "plt.bar(df.index,df.x)"
   ]
  },
  {
   "cell_type": "code",
   "execution_count": 4,
   "metadata": {},
   "outputs": [
    {
     "data": {
      "text/plain": [
       "10.880000000000001"
      ]
     },
     "execution_count": 4,
     "metadata": {},
     "output_type": "execute_result"
    }
   ],
   "source": [
    "df.x.mean()"
   ]
  },
  {
   "cell_type": "code",
   "execution_count": 5,
   "metadata": {},
   "outputs": [
    {
     "data": {
      "text/plain": [
       "27.373061224489792"
      ]
     },
     "execution_count": 5,
     "metadata": {},
     "output_type": "execute_result"
    }
   ],
   "source": [
    "df.x.var()"
   ]
  },
  {
   "cell_type": "markdown",
   "metadata": {},
   "source": [
    "## 11.2. 階層ベイズモデルに空間構造を組み込む"
   ]
  },
  {
   "cell_type": "markdown",
   "metadata": {},
   "source": [
    "### この例題の目的"
   ]
  },
  {
   "cell_type": "markdown",
   "metadata": {},
   "source": [
    "* 観測データ{$y_j$}に基づいて、位置によって変化する局所密度を構成できるような統計モデルを作ること"
   ]
  },
  {
   "cell_type": "markdown",
   "metadata": {},
   "source": [
    "1. 各調査区画で観測された個体数がどんな確率分布で表現できるかを考える。\n",
    "    * 全ての調査区画で共通する平均値$\\lambda$のポアソン分布に従うとする。\n",
    "    $$\n",
    "    p(y_j | \\lambda) = \\frac {\\lambda^{y_j} exp(-\\lambda)} {y_j!}\n",
    "    $$\n",
    "2. 上記で仮定するなら平均値$\\lambda$は標本平均と等しいとして良い。また、ポアソン分布の分散は平均と等しい。\n",
    "3. すると、平均10.9に対し、分散27.4となり、標本平均の3倍ほど。このデータは過分散であるとわかる。また、図11.2では個体数$y_j$が位置によって変化しており、「$\\lambda$はどの$j$でも同じ」という仮定も成立していないよう。単純にポアソン分布では統計モデル化できない。\n",
    "4. 何らかの形で場所差を組み込む。区間$j$ごとに平均$\\lambda_j$が異なるとする。\n",
    "5. しかし区画ごとにパラメータを最尤推定するのは、単なる「データの読み上げ」と同じ。\n",
    "6. そこで全体に共通する大域的な密度と、局所的な差異を同時に組み込むために、平均個体数$\\lambda_j$を線形予測子と対数リンク関数を使って、以下のように表す。\n",
    "$$\n",
    "\\log \\lambda_j = \\beta + r_j\n",
    "$$\n",
    "    * 切片$\\beta$は大域的なパラメータ。全ての場所に同じ影響\n",
    "    * 場所差$r_j$は局所的。区間$j$のデータだけを説明する。\n",
    "7. $\\beta$のような大域的なパラメータの事前分布には無情報事前分布、{$r_j$}の事前分布には階層事前分布を指定する。"
   ]
  },
  {
   "cell_type": "markdown",
   "metadata": {},
   "source": [
    "### 11.2.1. 空間構造のない階層事前分布"
   ]
  },
  {
   "cell_type": "markdown",
   "metadata": {},
   "source": [
    "* 10章で使ったような階層事前分布(下記)では、どれも独立に同じ事前分布(平均ゼロ、標準偏差$s$の正規分布を仮定してることになり、空間相関がありそうな状況には適さない。\n",
    "$$\n",
    "p(r_j|s)= \\frac {1} {\\sqrt {2 \\pi s^2}} \\exp \\left(-\\frac {r_j^2}{2s^2}\\right)\n",
    "$$"
   ]
  },
  {
   "cell_type": "markdown",
   "metadata": {},
   "source": [
    "### 11.2.2. 空間構造のある階層事前分布"
   ]
  },
  {
   "cell_type": "markdown",
   "metadata": {},
   "source": [
    "#### 仮定を設け簡単にする"
   ]
  },
  {
   "cell_type": "markdown",
   "metadata": {},
   "source": [
    "* 区間の場所差は「近傍」区画の場所差にしか影響されない\n",
    "* 区画$j$の近傍の個数$n_j$は有限個であり、どの区画が近傍であるかはモデル設計者が指定\n",
    "    * すぐ隣の区画のみが近傍とする。($n_j$は2)\n",
    "    * 左右の両端では近傍区間は一つなので、$n_1$と$n_{50}$は1\n",
    "* 近傍の直接の影響はどれも等しく,$1/n_j$"
   ]
  },
  {
   "cell_type": "markdown",
   "metadata": {},
   "source": [
    "#### 上記の仮定に基いて事前分布の設定"
   ]
  },
  {
   "cell_type": "markdown",
   "metadata": {},
   "source": [
    "* 上記の仮定に基づき、$r_j$の条件付き事前分布を以下のような正規分布とする。\n",
    "    * 標準偏差は$\\frac {s}{\\sqrt{n_j}}$であると指定。\n",
    "        * (滝沢不明) $\\sqrt{n_j}$で割る理由。端のばらつきを減らす効果。\n",
    "    * ばらつきのパラメータ$s$はどの場所でも同じと仮定。\n",
    "$$\n",
    "p(r_j | \\mu_j,s) = \\sqrt{ \\frac {n_j}{2\\pi s^2}} \\exp \\left\\{ - \\frac {(r_j - \\mu_j)^2} {2s^2/n_j}\\right\\}\n",
    "$$\n",
    "* 正規分布の平均$\\mu_j$は近傍である$r_{j-1}$と$r_{j+1}$の平均値に等しいとする。\n",
    "    * 両端は$\\mu_1=r_2,\\mu_{50}=r_{49}$とする。\n",
    "$$\n",
    "\\mu_j = \\frac {r_{j-1} + r_{j+1}} {2}\n",
    "$$"
   ]
  },
  {
   "cell_type": "markdown",
   "metadata": {},
   "source": [
    "* このような事前分布は条件付き自己回帰モデルと呼ばれる。\n",
    "    * {$r_j$}の事前分布のように様々な制約をつけて簡単にしたものは、intrinsic Gaussian CARモデルと分類される。\n",
    "* この場所差{$r_j$}全体の事前分布である同時分布$p(\\{r_j\\}|s)$は以下のようにかける。\n",
    "$$\n",
    "p(\\{r_j\\} | s) \\propto \\exp \\left\\{ -\\frac {1}{2s^2} \\sum_{j \\sim j'} (r_j-r_{j'})^2 \\right\\}\n",
    "$$"
   ]
  },
  {
   "cell_type": "markdown",
   "metadata": {},
   "source": [
    "## 11.3. 空間統計モデルをデータに当てはめる"
   ]
  },
  {
   "cell_type": "markdown",
   "metadata": {},
   "source": [
    "#### 事後分布について考える"
   ]
  },
  {
   "cell_type": "markdown",
   "metadata": {
    "collapsed": true
   },
   "source": [
    "* 事後分布は以下のようにする\n",
    "$$\n",
    "p(\\beta,s,\\{r_j\\} | {\\bf Y} ) \\propto p(\\{r_j\\} | s) p(s) p(\\beta) \\prod_j p(y_j|\\lambda_j)\n",
    "$$\n",
    "* $p(y_j|\\lambda_j)$は平均$\\lambda_j = \\exp(\\beta + r_j)$のポアソン分布とした\n",
    "    * 切片$\\beta$は大域的なパラメータなので、事前分布は無情報事前分布\n",
    "    * 場所差$r_j$は局所的なパラメータなので、事前分布は空間相関を考慮した階層事前分布で、上の式では同時分布$p(\\{r_j\\}| s)$で表現している。\n",
    "        * 個々の条件付き事前分布$p(r_j | s)$は平均$\\mu_j$,標準偏差$s/\\sqrt{n_j}$の正規分布"
   ]
  },
  {
   "cell_type": "markdown",
   "metadata": {},
   "source": [
    "#### Stanで書いてみる\n",
    "* 作成中。(下記は書籍とは異なる)\n",
    "* intrinsic Gaussian CARモデルを用いた関数が必要？"
   ]
  },
  {
   "cell_type": "code",
   "execution_count": 7,
   "metadata": {
    "collapsed": true
   },
   "outputs": [],
   "source": [
    "# 下記参考サイトのコード。\n",
    "# 場所差のモデルも書籍と異なる。\n",
    "model11_3 = \"\"\"\n",
    "data {\n",
    "   int<lower=1> N_site;\n",
    "   int<lower=0> Y[N_site];\n",
    "}\n",
    "\n",
    "parameters {\n",
    "   real r[N_site];\n",
    "   real<lower=0> s_r;\n",
    "}\n",
    "\n",
    "model {\n",
    "   for (j in 2:N_site)\n",
    "      r[j] ~ normal(r[j-1], s_r);\n",
    "   for (j in 1:N_site)\n",
    "      Y[j] ~ poisson_log(r[j]);\n",
    "}\n",
    "\n",
    "generated quantities {\n",
    "   real<lower=0> Y_mean[N_site];\n",
    "   for (j in 1:N_site)\n",
    "      Y_mean[j] <- exp(r[j]);\n",
    "}\n",
    "\n",
    "\n",
    "\"\"\""
   ]
  },
  {
   "cell_type": "code",
   "execution_count": 8,
   "metadata": {
    "collapsed": true
   },
   "outputs": [],
   "source": [
    "# 上記のコードを改造\n",
    "model11_3 = \"\"\"\n",
    "data {\n",
    "   int<lower=1> N_site;\n",
    "   int<lower=0> Y[N_site];\n",
    "}\n",
    "\n",
    "parameters {\n",
    "   real beta;\n",
    "   real r[N_site];\n",
    "   real<lower=0> s_r;\n",
    "}\n",
    "\n",
    "model {\n",
    "   for (j in 2:N_site){\n",
    "      r[j] ~ normal(r[j-1], s_r);\n",
    "   }\n",
    "   for (j in 1:N_site){\n",
    "      Y[j] ~ poisson_log(beta + r[j]);\n",
    "    }\n",
    "}\n",
    "\n",
    "generated quantities {\n",
    "   real<lower=0> Y_mean[N_site];\n",
    "   for (j in 1:N_site){\n",
    "      Y_mean[j] <- exp(r[j]);\n",
    "      }\n",
    "}\n",
    "\n",
    "\n",
    "\"\"\""
   ]
  },
  {
   "cell_type": "code",
   "execution_count": 9,
   "metadata": {
    "scrolled": true
   },
   "outputs": [
    {
     "name": "stderr",
     "output_type": "stream",
     "text": [
      "INFO:pystan:COMPILING THE C++ CODE FOR MODEL anon_model_c14871f820b8c1b90d308d78ff2280cf NOW.\n"
     ]
    }
   ],
   "source": [
    "Y=df.x\n",
    "\n",
    "stan_data = {\"N_site\":50,\"Y\":Y}\n",
    "\n",
    "# MCMCサンプリングのステップ数\n",
    "iter_count= 1500\n",
    "\n",
    "# MCMCサンプリングの反復数の指定(WinBUGSではデフォルト3)\n",
    "chain_count = 3\n",
    "\n",
    "# MCMCサンプリングの最初の何ステップの結果を使わないとするか(burnin)\n",
    "warmup_count = 100\n",
    "\n",
    "# MCMCサンプリングのステップのうち、何個飛ばしでサンプリング結果を記録するか\n",
    "thin_count = 3\n",
    "\n",
    "fit = pystan.stan(model_code=model11_3,\n",
    "                  data=stan_data,\n",
    "                  iter=iter_count,\n",
    "                  chains=chain_count,\n",
    "                  thin=thin_count,\n",
    "                  warmup=warmup_count)"
   ]
  },
  {
   "cell_type": "code",
   "execution_count": 10,
   "metadata": {},
   "outputs": [
    {
     "data": {
      "text/plain": [
       "Inference for Stan model: anon_model_c14871f820b8c1b90d308d78ff2280cf.\n",
       "3 chains, each with iter=1500; warmup=100; thin=3; \n",
       "post-warmup draws per chain=467, total post-warmup draws=1401.\n",
       "\n",
       "             mean se_mean     sd   2.5%    25%    50%    75%  97.5%  n_eff   Rhat\n",
       "beta        12.59   19.39  33.58 -70.32  -5.63  16.56  41.49  53.05      3    2.0\n",
       "r[0]       -11.57   19.39  33.59 -52.05 -40.56 -15.89    6.5   71.4      3    2.0\n",
       "r[1]       -11.43   19.39  33.59 -51.93 -40.47 -15.67    6.8  71.67      3    2.0\n",
       "r[2]       -11.26   19.39  33.59 -51.74  -40.1 -15.43   6.98  71.78      3    2.0\n",
       "r[3]       -10.96   19.39  33.58 -51.55  -39.9 -15.15   7.23  71.97      3    2.0\n",
       "r[4]       -10.67   19.39  33.58 -51.23 -39.62 -14.76   7.59  72.26      3    2.0\n",
       "r[5]       -10.32   19.38  33.57 -50.73 -39.07  -14.4   7.89  72.52      3    2.0\n",
       "r[6]        -10.3   19.39  33.58 -50.74 -39.11 -14.41   7.85  72.66      3    2.0\n",
       "r[7]       -10.15   19.39  33.58 -50.55 -39.04 -14.28   7.98  72.89      3    2.0\n",
       "r[8]       -10.15   19.39  33.58 -50.67 -39.15 -14.16    8.1  72.77      3    2.0\n",
       "r[9]       -10.08   19.39  33.59 -50.64 -39.06 -14.24   8.13  72.84      3    2.0\n",
       "r[10]       -9.89   19.39  33.58 -50.41  -38.8 -13.97    8.3  73.03      3    2.0\n",
       "r[11]        -9.8   19.39  33.58 -50.21 -38.74 -13.78    8.4  73.19      3    2.0\n",
       "r[12]       -9.83   19.39  33.58 -50.28 -38.87 -13.94   8.31  73.08      3    2.0\n",
       "r[13]       -9.74   19.39  33.58 -50.12 -38.65 -13.91   8.49  73.17      3    2.0\n",
       "r[14]       -9.73   19.39  33.58 -50.16  -38.7 -13.69   8.43  73.26      3    2.0\n",
       "r[15]       -9.78   19.39  33.58 -50.15 -38.71 -13.81   8.43  73.17      3    2.0\n",
       "r[16]       -9.89   19.39  33.58 -50.35 -38.82 -13.88   8.22  73.13      3    2.0\n",
       "r[17]       -9.99   19.39  33.58 -50.46 -38.83 -13.98   8.16  73.01      3    2.0\n",
       "r[18]      -10.07   19.39  33.59 -50.54 -39.14 -14.06   8.16  72.87      3    2.0\n",
       "r[19]      -10.16   19.39  33.59 -50.69  -39.1 -14.14   8.09   72.9      3    2.0\n",
       "r[20]      -10.11   19.39  33.58 -50.59  -39.0 -14.35   8.06  72.89      3    2.0\n",
       "r[21]       -9.98   19.39  33.59 -50.46 -38.96 -14.16   8.22   73.0      3    2.0\n",
       "r[22]        -9.9   19.39  33.58 -50.35 -38.84 -13.94    8.4  72.97      3    2.0\n",
       "r[23]      -10.01   19.39  33.58 -50.53 -38.98 -14.03   8.18  73.01      3    2.0\n",
       "r[24]      -10.04   19.39  33.58 -50.54 -39.03 -13.93   8.12  72.91      3    2.0\n",
       "r[25]       -9.93   19.39  33.59 -50.35 -38.91 -13.83   8.29  73.12      3    2.0\n",
       "r[26]       -9.94   19.39  33.58 -50.46 -38.92 -13.87   8.21  73.03      3    2.0\n",
       "r[27]       -9.95   19.39  33.59 -50.42 -38.93 -13.99   8.29  73.01      3    2.0\n",
       "r[28]      -10.03   19.39  33.58 -50.46 -38.96 -14.09   8.17   72.9      3    2.0\n",
       "r[29]      -10.22   19.39  33.58  -50.8 -39.25  -14.2   7.96  72.79      3    2.0\n",
       "r[30]      -10.29   19.38  33.58 -50.73  -39.3  -14.3   7.84  72.86      3    2.0\n",
       "r[31]      -10.15   19.39  33.58 -50.61 -39.14 -14.14    8.0  72.84      3    2.0\n",
       "r[32]       -10.2   19.39  33.58 -50.67 -39.22 -14.27   7.99   72.8      3    2.0\n",
       "r[33]      -10.18   19.39  33.58 -50.68 -39.11 -14.13   7.92  72.76      3    2.0\n",
       "r[34]      -10.15   19.39  33.58 -50.67 -39.18 -14.15   8.05  72.79      3    2.0\n",
       "r[35]      -10.23   19.39  33.59 -50.76 -39.21 -14.26   7.95  72.73      3    2.0\n",
       "r[36]      -10.09   19.39  33.58 -50.56 -39.05  -14.0   8.04  72.78      3    2.0\n",
       "r[37]      -10.06   19.38  33.58 -50.56 -38.94 -14.09   8.09  72.84      3    2.0\n",
       "r[38]      -10.06   19.38  33.58 -50.53 -38.96 -14.14    8.1  72.88      3    2.0\n",
       "r[39]      -10.09   19.39  33.58 -50.53  -39.1 -14.15   8.07  72.85      3    2.0\n",
       "r[40]      -10.34   19.39  33.58 -50.72 -39.48 -14.49   7.77  72.66      3    2.0\n",
       "r[41]      -10.49   19.39  33.59 -50.89 -39.51 -14.64   7.77  72.52      3    2.0\n",
       "r[42]      -10.58   19.39  33.59 -50.99 -39.61 -14.71   7.63  72.36      3    2.0\n",
       "r[43]      -10.79   19.39  33.58 -51.25 -39.83  -15.0   7.46  72.27      3    2.0\n",
       "r[44]      -10.89    19.4  33.59 -51.39 -39.97 -15.12   7.35  72.19      3    2.0\n",
       "r[45]      -10.96   19.39  33.59 -51.45  -39.9 -15.09   7.22  72.08      3    2.0\n",
       "r[46]       -11.0   19.39  33.59 -51.56 -39.94 -15.04   7.26  71.82      3    2.0\n",
       "r[47]      -11.17   19.39  33.59 -51.76 -40.19 -15.16   7.05   71.8      3    2.0\n",
       "r[48]      -11.33    19.4   33.6 -51.84 -40.31 -15.46   6.95  71.68      3    2.0\n",
       "r[49]      -11.46    19.4   33.6 -51.94 -40.58 -15.52   6.78  71.54      3    2.0\n",
       "s_r          0.23  2.1e-3   0.05   0.15   0.19   0.23   0.27   0.35    630    1.0\n",
       "Y_mean[0]  1.1e32  1.1e32 1.7e332.5e-232.4e-18 1.3e-7 665.21 1.0e31    261   1.01\n",
       "Y_mean[1]  1.2e32  1.2e32 1.9e332.8e-232.7e-18 1.6e-7 895.01 1.3e31    255   1.01\n",
       "Y_mean[2]  1.3e32  1.3e32 2.0e333.4e-233.8e-18 2.0e-7 1079.4 1.5e31    248   1.01\n",
       "Y_mean[3]  1.7e32  1.7e32 2.6e334.1e-234.7e-18 2.6e-7 1379.1 1.8e31    244   1.01\n",
       "Y_mean[4]  1.8e32  1.8e32 2.8e335.7e-236.2e-18 3.9e-7 1978.7 2.4e31    228   1.01\n",
       "Y_mean[5]  2.4e32  2.3e32 3.5e339.3e-231.1e-17 5.6e-7 2669.9 3.1e31    223   1.01\n",
       "Y_mean[6]  2.6e32  2.6e32 3.8e339.2e-231.0e-17 5.5e-7 2566.1 3.6e31    215   1.01\n",
       "Y_mean[7]  2.9e32  2.9e32 4.2e331.1e-221.1e-17 6.3e-7 2917.0 4.5e31    216   1.01\n",
       "Y_mean[8]  3.1e32  3.1e32 4.6e339.9e-239.9e-18 7.1e-7 3290.9 4.0e31    224   1.01\n",
       "Y_mean[9]  3.5e32  3.4e32 5.1e331.0e-221.1e-17 6.5e-7 3388.5 4.3e31    223   1.01\n",
       "Y_mean[10] 4.1e32  4.1e32 6.1e331.3e-221.4e-17 8.6e-7 4023.9 5.2e31    220   1.01\n",
       "Y_mean[11] 4.4e32  4.3e32 6.5e331.6e-221.5e-17 1.0e-6 4456.5 6.1e31    227   1.01\n",
       "Y_mean[12] 4.3e32  4.3e32 6.4e331.5e-221.3e-17 8.8e-7 4071.1 5.5e31    224   1.01\n",
       "Y_mean[13] 4.8e32  4.8e32 7.1e331.7e-221.6e-17 9.1e-7 4883.1 6.0e31    219   1.01\n",
       "Y_mean[14] 5.2e32  5.2e32 8.0e331.6e-221.6e-17 1.1e-6 4564.5 6.5e31    236   1.01\n",
       "Y_mean[15] 4.7e32  4.7e32 7.3e331.7e-221.5e-17 1.0e-6 4563.0 6.0e31    243   1.01\n",
       "Y_mean[16] 4.2e32  4.2e32 6.4e331.4e-221.4e-17 9.4e-7 3722.8 5.8e31    239   1.01\n",
       "Y_mean[17] 3.7e32  3.6e32 5.5e331.2e-221.4e-17 8.4e-7 3498.8 5.1e31    227   1.01\n",
       "Y_mean[18] 3.6e32  3.6e32 5.3e331.1e-221.0e-17 7.8e-7 3495.2 4.5e31    223   1.01\n",
       "Y_mean[19] 3.2e32  3.2e32 4.9e339.7e-231.0e-17 7.2e-7 3258.1 4.6e31    230   1.01\n",
       "Y_mean[20] 3.5e32  3.5e32 5.4e331.1e-221.2e-17 5.9e-7 3149.6 4.5e31    233   1.01\n",
       "Y_mean[21] 4.2e32  4.2e32 6.6e331.2e-221.2e-17 7.1e-7 3705.7 5.1e31    250   1.01\n",
       "Y_mean[22] 4.2e32  4.2e32 6.3e331.4e-221.4e-17 8.8e-7 4447.0 4.9e31    224   1.01\n",
       "Y_mean[23] 3.8e32  3.8e32 5.5e331.1e-221.2e-17 8.1e-7 3586.0 5.1e31    215   1.01\n",
       "Y_mean[24] 3.5e32  3.5e32 5.2e331.1e-221.1e-17 8.9e-7 3352.8 4.6e31    222   1.01\n",
       "Y_mean[25] 3.9e32  3.9e32 5.8e331.4e-221.3e-17 9.9e-7 3970.8 5.7e31    219   1.01\n",
       "Y_mean[26] 3.8e32  3.7e32 5.8e331.2e-221.3e-17 9.4e-7 3661.4 5.2e31    238   1.01\n",
       "Y_mean[27] 3.9e32  3.9e32 6.1e331.3e-221.2e-17 8.4e-7 3966.0 5.1e31    246   1.01\n",
       "Y_mean[28] 3.3e32  3.3e32 5.1e331.2e-221.2e-17 7.6e-7 3548.8 4.6e31    234   1.01\n",
       "Y_mean[29] 3.1e32  3.1e32 4.9e338.7e-239.0e-18 6.8e-7 2850.1 4.1e31    244   1.01\n",
       "Y_mean[30] 2.9e32  2.9e32 4.5e339.3e-238.6e-18 6.2e-7 2541.1 4.4e31    244   1.01\n",
       "Y_mean[31] 3.1e32  3.1e32 4.6e331.0e-221.0e-17 7.2e-7 2983.9 4.3e31    228   1.01\n",
       "Y_mean[32] 3.0e32  3.0e32 4.6e339.9e-239.3e-18 6.3e-7 2951.4 4.1e31    235   1.01\n",
       "Y_mean[33] 3.2e32  3.1e32 4.8e339.8e-231.0e-17 7.3e-7 2758.2 4.0e31    237   1.01\n",
       "Y_mean[34] 3.2e32  3.2e32 5.0e339.8e-239.6e-18 7.2e-7 3141.8 4.1e31    246   1.01\n",
       "Y_mean[35] 3.1e32  3.1e32 4.8e339.0e-239.4e-18 6.4e-7 2827.2 3.9e31    237   1.01\n",
       "Y_mean[36] 3.4e32  3.4e32 5.0e331.1e-221.1e-17 8.3e-7 3114.3 4.0e31    220   1.01\n",
       "Y_mean[37] 3.3e32  3.3e32 4.9e331.1e-221.2e-17 7.6e-7 3278.7 4.3e31    221   1.01\n",
       "Y_mean[38] 3.5e32  3.4e32 5.1e331.1e-221.2e-17 7.2e-7 3295.1 4.5e31    219   1.01\n",
       "Y_mean[39] 3.2e32  3.2e32 4.7e331.1e-221.1e-17 7.2e-7 3204.2 4.3e31    216   1.01\n",
       "Y_mean[40] 2.3e32  2.3e32 3.4e339.4e-237.1e-18 5.1e-7 2358.4 3.6e31    216   1.01\n",
       "Y_mean[41] 2.0e32  2.0e32 3.1e337.9e-237.0e-18 4.4e-7 2358.1 3.1e31    236   1.01\n",
       "Y_mean[42] 2.0e32  2.0e32 3.1e337.2e-236.3e-18 4.1e-7 2064.9 2.7e31    254   1.01\n",
       "Y_mean[43] 1.7e32  1.7e32 2.6e335.5e-235.1e-18 3.1e-7 1743.0 2.4e31    236   1.01\n",
       "Y_mean[44] 1.7e32  1.7e32 2.6e334.8e-234.4e-18 2.7e-7 1560.2 2.2e31    236   1.01\n",
       "Y_mean[45] 1.5e32  1.5e32 2.3e334.5e-234.7e-18 2.8e-7 1367.0 2.0e31    235   1.01\n",
       "Y_mean[46] 1.4e32  1.4e32 2.0e334.1e-234.5e-18 2.9e-7 1421.8 1.6e31    212   1.01\n",
       "Y_mean[47] 1.1e32  1.1e32 1.6e333.3e-233.5e-18 2.6e-7 1148.1 1.5e31    221   1.01\n",
       "Y_mean[48] 9.6e31  9.5e31 1.4e333.1e-233.1e-18 1.9e-7 1040.9 1.3e31    228   1.01\n",
       "Y_mean[49] 9.0e31  8.9e31 1.4e332.8e-232.4e-18 1.8e-7  878.8 1.2e31    262   1.01\n",
       "lp__       852.16    0.36   8.96 834.03 846.24 852.09  858.5 868.71    622    1.0\n",
       "\n",
       "Samples were drawn using NUTS at Thu Jul 20 10:53:59 2017.\n",
       "For each parameter, n_eff is a crude measure of effective sample size,\n",
       "and Rhat is the potential scale reduction factor on split chains (at \n",
       "convergence, Rhat=1)."
      ]
     },
     "execution_count": 10,
     "metadata": {},
     "output_type": "execute_result"
    }
   ],
   "source": [
    "fit"
   ]
  },
  {
   "cell_type": "code",
   "execution_count": 11,
   "metadata": {},
   "outputs": [
    {
     "data": {
      "image/png": "[encoded data removed]",
      "text/plain": [
       "<matplotlib.figure.Figure at 0x10ae31ac8>"
      ]
     },
     "metadata": {},
     "output_type": "display_data"
    }
   ],
   "source": [
    "fit.plot()\n",
    "plt.tight_layout()"
   ]
  },
  {
   "cell_type": "markdown",
   "metadata": {
    "collapsed": true
   },
   "source": [
    "## 11.4. 空間統計モデルが作り出す確率場"
   ]
  },
  {
   "cell_type": "markdown",
   "metadata": {
    "collapsed": true
   },
   "source": [
    "* 一般に相互作用する確率変数たちで埋め尽くされた空間は確率場と呼ばれる。\n",
    "    * {$r_j$}も確率場の一種。\n",
    "        * (滝沢補足)$r_j$の条件付き事前分布が、平均$\\mu_j = \\frac {r_{j-1}+r_{j+1}} {2}$、標準偏差$s$の正規分布のため\n",
    "        \n",
    "* 標準偏差$s$の大きさによって、{$r_j$}の挙動をみてみる。\n",
    "    * $\\beta$を固定し、$s$を3パターン設定した上で、{$r_1,r_2,...,r_{50}$}の事後分布から3セットずつのサンプルを得て、$\\lambda_j = \\exp(\\beta + r_j)$をグラフにしたのが図11.5。\n",
    "    * $s$が大きいほど、隣とは無関係に値を選べるようになり、各$j$ごとに合わせようとするので、全体的にギザギザした、ばらつきの大きい確率場になる。\n",
    "* このように確率場を組み込んだ統計モデルを使うことは、予測をする時の利点にもなる。"
   ]
  },
  {
   "cell_type": "markdown",
   "metadata": {
    "collapsed": true
   },
   "source": [
    "## 11.5. 空間相関モデルと欠測のある観測データ"
   ]
  },
  {
   "cell_type": "markdown",
   "metadata": {},
   "source": [
    "* 空間相関を組み込んだ階層ベイズモデルの強みの一つとして「欠測のあるデータ」に対してより良い予測が得られることがあります。\n",
    "* 図11.6のように、欠測データが存在する場合を考える。\n",
    "* 空間相関を考慮したモデル、考慮しないモデルそれぞれによる推定を試みる。\n",
    "    * 考慮しないモデルで予測された局所密度は、各区画のデータ$y_j$に合わせようとギザギザする。\n",
    "    * 欠測の調査区画では平均$\\lambda_j$の80%区間が大きく広がっている。\n",
    "    * データがない区間では$r_j$を決めようがない。\n",
    "* 現実のデータ解析ではデータを見ているだけでは空間相関は読み取れない。\n",
    "    * ひとまず空間構造のあるベイズ統計モデルを当てはめて見て、その中の「隣との類似」を表すパラメーター($s$)を推定したらいいのでは。\n",
    "        * $s$が大きいほど類似せず、小さいほど類似する。"
   ]
  },
  {
   "cell_type": "markdown",
   "metadata": {},
   "source": [
    "## 11.6. この章のまとめ"
   ]
  },
  {
   "cell_type": "markdown",
   "metadata": {},
   "source": [
    "* 空間構造のあるデータを統計モデル化する場合、空間相関を考慮しなければならない\n",
    "* 空間相関のある場所差は確率場を使って表現できる。\n",
    "* 空間相関を考慮した階層ベイズモデルは観測データの欠測部分を予測するような用途にも使える。\n",
    "* 空間構造ではなく、時間構造のあるデータにも階層ベイズモデルをを用いることができる。"
   ]
  },
  {
   "cell_type": "markdown",
   "metadata": {},
   "source": [
    "# 参考させていただいたページ\n",
    "[久保緑本11章のマルコフ場モデル（空間構造のあるベイズモデル） - StatModeling Memorandum](http://statmodeling.hatenablog.com/entry/markov-field-model)"
   ]
  }
 ],
 "metadata": {
  "kernelspec": {
   "display_name": "Python 3",
   "language": "python",
   "name": "python3"
  },
  "language_info": {
   "codemirror_mode": {
    "name": "ipython",
    "version": 3
   },
   "file_extension": ".py",
   "mimetype": "text/x-python",
   "name": "python",
   "nbconvert_exporter": "python",
   "pygments_lexer": "ipython3",
   "version": "3.6.0"
  }
 },
 "nbformat": 4,
 "nbformat_minor": 2
}
