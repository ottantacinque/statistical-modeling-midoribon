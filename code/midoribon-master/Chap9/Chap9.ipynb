{
 "cells": [
  {
   "cell_type": "markdown",
   "metadata": {},
   "source": [
    "# 9. GLMのベイズモデル化と事後分布の推定\n",
    "* 複数のパラメーターをもつGLMのベイズモデル化、そしてそのパラメーターの事後分布の推定方法について扱う"
   ]
  },
  {
   "cell_type": "markdown",
   "metadata": {},
   "source": [
    "#### 滝沢補足\n",
    "* ベイズは統計学の考え方の1つ。統計モデルを推定する道具。([参考](http://logics-of-blue.com/%E3%83%99%E3%82%A4%E3%82%BA%E3%81%A8%E7%B5%B1%E8%A8%88%E3%83%A2%E3%83%87%E3%83%AB%E3%81%AE%E9%96%A2%E4%BF%82/))"
   ]
  },
  {
   "cell_type": "markdown",
   "metadata": {},
   "source": [
    "#### 実装の方針"
   ]
  },
  {
   "cell_type": "markdown",
   "metadata": {},
   "source": [
    "* この本ではWinBUGSというソフトウェアを使用している。しかし、Macだと微妙そう。\n",
    "    * 今はStanがコミュニティが大きいこと、またネット上にも情報が多いことから、Stanがお勧めとのこと。(TJOさんの[ツイート](https://twitter.com/TJO_datasci/status/883643447126757376))\n",
    "* 具体的なコードは飛ばし、流れだけ記載します。\n",
    "* Stanについては、[StanとRでベイズ統計モデリング](http://amzn.to/2uVu97t)　（通称アヒル本）が良さそうです。\n",
    "* Stanの特徴としては、推定計算のアルゴリズムに、MCMCの一種である、Hamiltonian Monte Carloの一実装である、NUTSが使われている点にあるそうです。(緑本内で紹介されている手法とは異なる)"
   ]
  },
  {
   "cell_type": "markdown",
   "metadata": {},
   "source": [
    "## 9.1. 例題：種子数のポアソン回帰（個体差なし）"
   ]
  },
  {
   "cell_type": "markdown",
   "metadata": {},
   "source": [
    "* 例題の目的\n",
    "    * 個体ごとの平均種子数が、体サイズ$x_i$にどう依存しているのか調べる\n",
    "* まずはこの例題のGLMをベイズ統計モデル化する方法について検討し、そのパラメータの事後分布の推定に取り組む。"
   ]
  },
  {
   "cell_type": "markdown",
   "metadata": {},
   "source": [
    "### Code1"
   ]
  },
  {
   "cell_type": "code",
   "execution_count": 1,
   "metadata": {
    "collapsed": true
   },
   "outputs": [],
   "source": [
    "import pystan\n",
    "import numpy as np\n",
    "import pandas as pd\n",
    "import matplotlib.pyplot as plt\n",
    "%matplotlib inline\n",
    "\n",
    "data_file = \"./input/chap9.csv\"\n",
    "df = pd.read_csv(data_file)"
   ]
  },
  {
   "cell_type": "code",
   "execution_count": 2,
   "metadata": {},
   "outputs": [
    {
     "data": {
      "text/html": [
       "<div>\n",
       "<style>\n",
       "    .dataframe thead tr:only-child th {\n",
       "        text-align: right;\n",
       "    }\n",
       "\n",
       "    .dataframe thead th {\n",
       "        text-align: left;\n",
       "    }\n",
       "\n",
       "    .dataframe tbody tr th {\n",
       "        vertical-align: top;\n",
       "    }\n",
       "</style>\n",
       "<table border=\"1\" class=\"dataframe\">\n",
       "  <thead>\n",
       "    <tr style=\"text-align: right;\">\n",
       "      <th></th>\n",
       "      <th>Unnamed: 0</th>\n",
       "      <th>x</th>\n",
       "      <th>y</th>\n",
       "    </tr>\n",
       "  </thead>\n",
       "  <tbody>\n",
       "    <tr>\n",
       "      <th>0</th>\n",
       "      <td>1</td>\n",
       "      <td>3.000000</td>\n",
       "      <td>5</td>\n",
       "    </tr>\n",
       "    <tr>\n",
       "      <th>1</th>\n",
       "      <td>2</td>\n",
       "      <td>3.210526</td>\n",
       "      <td>3</td>\n",
       "    </tr>\n",
       "    <tr>\n",
       "      <th>2</th>\n",
       "      <td>3</td>\n",
       "      <td>3.421053</td>\n",
       "      <td>6</td>\n",
       "    </tr>\n",
       "    <tr>\n",
       "      <th>3</th>\n",
       "      <td>4</td>\n",
       "      <td>3.631579</td>\n",
       "      <td>7</td>\n",
       "    </tr>\n",
       "    <tr>\n",
       "      <th>4</th>\n",
       "      <td>5</td>\n",
       "      <td>3.842105</td>\n",
       "      <td>7</td>\n",
       "    </tr>\n",
       "  </tbody>\n",
       "</table>\n",
       "</div>"
      ],
      "text/plain": [
       "   Unnamed: 0         x  y\n",
       "0           1  3.000000  5\n",
       "1           2  3.210526  3\n",
       "2           3  3.421053  6\n",
       "3           4  3.631579  7\n",
       "4           5  3.842105  7"
      ]
     },
     "execution_count": 2,
     "metadata": {},
     "output_type": "execute_result"
    }
   ],
   "source": [
    "df.head()"
   ]
  },
  {
   "cell_type": "code",
   "execution_count": 3,
   "metadata": {},
   "outputs": [
    {
     "data": {
      "text/plain": [
       "[<matplotlib.lines.Line2D at 0x10b393e10>]"
      ]
     },
     "execution_count": 3,
     "metadata": {},
     "output_type": "execute_result"
    },
    {
     "data": {
      "image/png": "[encoded data removed]",
      "text/plain": [
       "<matplotlib.figure.Figure at 0x10b393ef0>"
      ]
     },
     "metadata": {},
     "output_type": "display_data"
    }
   ],
   "source": [
    "plt.plot(df.x,df.y,\"bo\")\n",
    "xx = np.linspace(3,7,100)\n",
    "yy = np.exp(1.5+0.1*xx)\n",
    "plt.plot(xx,yy,\"--\")"
   ]
  },
  {
   "cell_type": "markdown",
   "metadata": {},
   "source": [
    "## 9.2. GLMのベイズモデル化"
   ]
  },
  {
   "cell_type": "markdown",
   "metadata": {},
   "source": [
    "* ベイズモデル化したGLMでも、モデルの中核部分はポアソン回帰のGLM。\n",
    "* 個体$i$の種子数$y_i$のばらつきを平均$\\lambda_i$のポアソン分布$p(y_i|\\lambda_i)$に従うとする。\n",
    "* 平均を下記と指定。\n",
    "$$\n",
    "\\lambda_i = \\exp(\\beta_1+\\beta_2 x_i)\n",
    "$$\n",
    "* モデルの尤度関数は下記。\n",
    "$$\n",
    "L(\\beta_1,\\beta_2)=\\prod_i p(y_i|\\lambda_i) = \\prod_i p(y_i|\\beta_1,\\beta_2,x_i)\n",
    "$$\n",
    "* この例題でも説明変数$x_i$を定数のように扱う。\n",
    "* 尤度関数は離散確率分布で定義されているので、（ポアソン分布の尤度だから、離散確率分布ということ？）\n",
    "$$\n",
    "p({\\bf Y}|\\beta_1,\\beta_2) = L(\\beta_1,\\beta_2)\n",
    "$$\n",
    "* ベイズモデルの事後分布は(尤度)$\\times$(事前分布)に比例するので、\n",
    "$$\n",
    "p(\\beta_1,\\beta_2|{\\bf Y}) \\propto p({\\bf Y}|\\beta_1,\\beta_2) p(\\beta_1) p(\\beta_2)\n",
    "$$\n",
    "    * (復習) p186 8.4.より。 ベイズ統計モデルとは、下記の構造を持つ統計モデル。\n",
    "        * 事後分布 = 尤度$\\times$事前分布 / データが得られる確率"
   ]
  },
  {
   "cell_type": "markdown",
   "metadata": {},
   "source": [
    "## 9.3. 無情報事前分布"
   ]
  },
  {
   "cell_type": "markdown",
   "metadata": {},
   "source": [
    "Q. ベイズ統計モデルにおける事前分布 $p(\\beta_*)$とは？"
   ]
  },
  {
   "cell_type": "markdown",
   "metadata": {},
   "source": [
    "A.\n",
    "* 観測データ${\\bf Y}$が得られていない時のパラメータ$\\beta_*$の確率分布\n",
    "* わかるはずもない\n",
    "\n",
    "---"
   ]
  },
  {
   "cell_type": "markdown",
   "metadata": {},
   "source": [
    "* そこで、線形予測子のパラメータ$\\beta_*$の値は[$-\\infty,\\infty$]の範囲で「好きな値をとって良い」といったことを表現する事前分布$p(\\beta_*)$を設定する。\n",
    "    * 無情報事前分布\n",
    "* しかし、区間全体で密度関数を積分しても1にならない\n",
    "* そこで、「無情報っぽい」事前分布として下記の2種類が用いられる。\n",
    "    1. 広い範囲をとる一様分布（$-10^9 < \\beta_* < 10^9$など)\n",
    "    2. 平べったい正規分布\n",
    "        * 平均ゼロで標準偏差がとても大きい(標準偏差100など）"
   ]
  },
  {
   "cell_type": "markdown",
   "metadata": {},
   "source": [
    "### Code2"
   ]
  },
  {
   "cell_type": "code",
   "execution_count": 4,
   "metadata": {},
   "outputs": [
    {
     "data": {
      "text/plain": [
       "<matplotlib.legend.Legend at 0x10b663c88>"
      ]
     },
     "execution_count": 4,
     "metadata": {},
     "output_type": "execute_result"
    },
    {
     "data": {
      "image/png": "[encoded data removed]",
      "text/plain": [
       "<matplotlib.figure.Figure at 0x10b51dcf8>"
      ]
     },
     "metadata": {},
     "output_type": "display_data"
    }
   ],
   "source": [
    "from scipy.stats import norm\n",
    "\n",
    "n = np.linspace(-10,10,10000)\n",
    "\n",
    "p_1=[]\n",
    "p_100=[]\n",
    "for i in range(len(n)):\n",
    "    p_1.append(norm.pdf(x=n[i],loc=0,scale=1))\n",
    "    p_100.append(norm.pdf(x=n[i],loc=0,scale=100))\n",
    "    \n",
    "plt.scatter(n,p_1,color=\"b\",label=\"N(0,1)\")\n",
    "plt.scatter(n,p_100,color=\"r\",label=\"N(0,100)\")\n",
    "plt.legend()"
   ]
  },
  {
   "cell_type": "markdown",
   "metadata": {
    "collapsed": true
   },
   "source": [
    "## 9.4. ベイズ統計モデルの事後分布の推定"
   ]
  },
  {
   "cell_type": "markdown",
   "metadata": {},
   "source": [
    "* 9.3で、パラメータの事前分布$p(\\beta_*)$を無情報事前分布と決めることができた\n",
    "* 次に、このベイズ統計モデルと例題データに基づいて、切片$\\beta_1$と傾き$\\beta_2$の事後分布 ー つまり複数の連続値パラメータの事後分布$p(\\beta_1,\\beta_2|{\\bf Y})$をMCMCサンプリングを使って推定する。"
   ]
  },
  {
   "cell_type": "markdown",
   "metadata": {
    "collapsed": true
   },
   "source": [
    "### 9.4.1. ベイズ統計モデルのコーディング"
   ]
  },
  {
   "cell_type": "markdown",
   "metadata": {},
   "source": [
    "* まずはベイズモデル化したGLMをBUGSコードで表現\n",
    "* ここではPyStanで記載。"
   ]
  },
  {
   "cell_type": "markdown",
   "metadata": {},
   "source": [
    "### Code3"
   ]
  },
  {
   "cell_type": "markdown",
   "metadata": {},
   "source": [
    "#### Stanのコード"
   ]
  },
  {
   "cell_type": "code",
   "execution_count": 5,
   "metadata": {
    "collapsed": true
   },
   "outputs": [],
   "source": [
    "model = \"\"\"\n",
    "data {\n",
    "    int<lower=1> N;\n",
    "    real X[N];\n",
    "    int<lower=0> y[N];\n",
    "    real xmean;\n",
    "}\n",
    "\n",
    "parameters {\n",
    "    real beta1;\n",
    "    real beta2;\n",
    "}\n",
    "\n",
    "model {\n",
    "    # beta1,beta2に無情報事前分布を指定（平均と標準偏差）\n",
    "    beta1 ~ normal(0, 100);\n",
    "    beta2 ~ normal(0, 100);\n",
    "    \n",
    "    # y_1,y_2...にpoisson分布\n",
    "    # lambda_iの指定には、対数リンク関数を使用\n",
    "    for (i in 1:N){\n",
    "        y[i] ~ poisson_log(beta1 + beta2 * (X[i] - xmean));\n",
    "    }\n",
    "}\n",
    "\"\"\""
   ]
  },
  {
   "cell_type": "markdown",
   "metadata": {},
   "source": [
    "* (復習)対数リンク関数を式にすると、\n",
    "$$\n",
    "\\log \\lambda_i = \\beta_1 + \\beta_2 x_i\n",
    "$$"
   ]
  },
  {
   "cell_type": "markdown",
   "metadata": {},
   "source": [
    "### 9.4.2. 事後分布推定の準備"
   ]
  },
  {
   "cell_type": "markdown",
   "metadata": {},
   "source": [
    "* データやパラメータの初期値、サンプリング回数の指示。\n",
    "* 最初の何ステップの結果を使わないとするか、など。"
   ]
  },
  {
   "cell_type": "markdown",
   "metadata": {},
   "source": [
    "### Code4"
   ]
  },
  {
   "cell_type": "markdown",
   "metadata": {},
   "source": [
    "#### データの設定"
   ]
  },
  {
   "cell_type": "code",
   "execution_count": 6,
   "metadata": {
    "collapsed": true
   },
   "outputs": [],
   "source": [
    "X = df.x\n",
    "y = df.y\n",
    "N = X.shape[0]\n",
    "xmean = X.mean()\n",
    "\n",
    "# stanに辞書型でデータを引き渡す\n",
    "stan_data = {\"N\": N, \"X\": X, \"y\": y,\"xmean\":xmean}"
   ]
  },
  {
   "cell_type": "markdown",
   "metadata": {},
   "source": [
    "#### サンプリングの設定"
   ]
  },
  {
   "cell_type": "code",
   "execution_count": 7,
   "metadata": {},
   "outputs": [
    {
     "name": "stderr",
     "output_type": "stream",
     "text": [
      "INFO:pystan:COMPILING THE C++ CODE FOR MODEL anon_model_7a822b8ef4fe7305bb018d2388fdda01 NOW.\n"
     ]
    }
   ],
   "source": [
    "# MCMCサンプリングのステップ数\n",
    "iter_count= 1600\n",
    "\n",
    "# MCMCサンプリングの反復数の指定(WinBUGSではデフォルト3)\n",
    "chain_count = 3\n",
    "\n",
    "# MCMCサンプリングの最初の何ステップの結果を使わないとするか(burnin)\n",
    "warmup_count = 100\n",
    "\n",
    "# MCMCサンプリングのステップのうち、何個飛ばしでサンプリング結果を記録するか\n",
    "thin_count = 3\n",
    "\n",
    "fit = pystan.stan(model_code=model,\n",
    "                  data=stan_data,\n",
    "                  iter=iter_count,\n",
    "                  chains=chain_count,\n",
    "                  thin=thin_count,\n",
    "                  warmup=warmup_count)"
   ]
  },
  {
   "cell_type": "markdown",
   "metadata": {},
   "source": [
    "* 数分かかると思います"
   ]
  },
  {
   "cell_type": "markdown",
   "metadata": {},
   "source": [
    "### 9.4.3. どれだけ長くMCMCサンプリングすればいいのか"
   ]
  },
  {
   "cell_type": "markdown",
   "metadata": {},
   "source": [
    "* MCMCサンプリングの結果から定常分布（この例題の場合は事後分布）を推定する。\n",
    "* サンプリングする長さや値を記録する間隔に注意が必要\n",
    "    1. サンプリング量が少ないと、事後分布を正確に推定できないので、量を多くすること。\n",
    "    2. 複数のサンプリングの比較をすること。\n",
    "        * 初期値の影響を受けてる範囲が掴める(これらは事後分布推定用の値としては望ましくない。）\n",
    "       \n",
    "        * データ・統計モデル・MCMCサンプリングのどこかに問題があれば、サンプル列ごとに異なる挙動を示す。\n",
    "            * サンプル列間の乖離の大小を調べることを収束診断と呼ぶ\n",
    "            \n",
    "* 収束診断は$\\hat R$指数で表すのが手軽。\n",
    "    * $\\hat R$が$1.0$に近ければ収束しているとみなす\n",
    "    * $\\hat R>1.1$となるような時には、サンプル列間のばらつきが大きいので、定常分布・事後分布は推定できないと判断する。\n",
    "        * 収束しない時には、統計モデルや、サンプリング法に何か問題がある。"
   ]
  },
  {
   "cell_type": "markdown",
   "metadata": {},
   "source": [
    "## 9.5. MCMCサンプルから事後分布を推定"
   ]
  },
  {
   "cell_type": "markdown",
   "metadata": {},
   "source": [
    "* 500個$\\times $3ステップのサンプル列をえた。これらを図示する。\n",
    "* 個々のパラメーターの事後分布の様子を把握する(図9.5)\n",
    "* 図9.5(B)(D)は$\\beta_1,\\beta_2$それぞれの周辺事後分布\n",
    "* 図9.6(A)は事後分布からのサンプルの組み合わせごとに平均$\\lambda$を計算し、一本ずつ直線を引いている。\n",
    "* 図9.6(B)は$\\beta_1,\\beta_2$の散布図。"
   ]
  },
  {
   "cell_type": "markdown",
   "metadata": {},
   "source": [
    "### Code5"
   ]
  },
  {
   "cell_type": "code",
   "execution_count": 8,
   "metadata": {
    "scrolled": true
   },
   "outputs": [
    {
     "data": {
      "image/png": "[encoded data removed]",
      "text/plain": [
       "<matplotlib.figure.Figure at 0x10b35e8d0>"
      ]
     },
     "metadata": {},
     "output_type": "display_data"
    }
   ],
   "source": [
    "fit.plot()\n",
    "plt.tight_layout()"
   ]
  },
  {
   "cell_type": "markdown",
   "metadata": {},
   "source": [
    "* 各Chainから500ずつサンプルを得ており、それを3つのChainまとめて1500のサンプルにしている。"
   ]
  },
  {
   "cell_type": "markdown",
   "metadata": {},
   "source": [
    "### Code6"
   ]
  },
  {
   "cell_type": "code",
   "execution_count": 9,
   "metadata": {
    "collapsed": true
   },
   "outputs": [],
   "source": [
    "df_sample = pd.DataFrame()\n",
    "df_sample[\"beta1\"] = fit.extract()[\"beta1\"]\n",
    "df_sample[\"beta2\"] = fit.extract()[\"beta2\"]"
   ]
  },
  {
   "cell_type": "code",
   "execution_count": 10,
   "metadata": {},
   "outputs": [
    {
     "data": {
      "text/plain": [
       "OrderedDict([('beta1',\n",
       "              array([ 2.0498271 ,  2.05171136,  2.07841622, ...,  1.90734921,\n",
       "                      1.92146166,  1.97869278])),\n",
       "             ('beta2',\n",
       "              array([ 0.08880871,  0.11475287,  0.003501  , ...,  0.10750436,\n",
       "                      0.03794356,  0.0702879 ])),\n",
       "             ('lp__',\n",
       "              array([ 144.62832022,  144.46460461,  143.67372546, ...,  144.54229314,\n",
       "                      144.44851727,  144.95390928]))])"
      ]
     },
     "execution_count": 10,
     "metadata": {},
     "output_type": "execute_result"
    }
   ],
   "source": [
    "fit.extract()"
   ]
  },
  {
   "cell_type": "code",
   "execution_count": 11,
   "metadata": {},
   "outputs": [
    {
     "data": {
      "text/html": [
       "<div>\n",
       "<style>\n",
       "    .dataframe thead tr:only-child th {\n",
       "        text-align: right;\n",
       "    }\n",
       "\n",
       "    .dataframe thead th {\n",
       "        text-align: left;\n",
       "    }\n",
       "\n",
       "    .dataframe tbody tr th {\n",
       "        vertical-align: top;\n",
       "    }\n",
       "</style>\n",
       "<table border=\"1\" class=\"dataframe\">\n",
       "  <thead>\n",
       "    <tr style=\"text-align: right;\">\n",
       "      <th></th>\n",
       "      <th>beta1</th>\n",
       "      <th>beta2</th>\n",
       "    </tr>\n",
       "  </thead>\n",
       "  <tbody>\n",
       "    <tr>\n",
       "      <th>0</th>\n",
       "      <td>2.049827</td>\n",
       "      <td>0.088809</td>\n",
       "    </tr>\n",
       "    <tr>\n",
       "      <th>1</th>\n",
       "      <td>2.051711</td>\n",
       "      <td>0.114753</td>\n",
       "    </tr>\n",
       "    <tr>\n",
       "      <th>2</th>\n",
       "      <td>2.078416</td>\n",
       "      <td>0.003501</td>\n",
       "    </tr>\n",
       "    <tr>\n",
       "      <th>3</th>\n",
       "      <td>1.978448</td>\n",
       "      <td>0.133783</td>\n",
       "    </tr>\n",
       "    <tr>\n",
       "      <th>4</th>\n",
       "      <td>1.993521</td>\n",
       "      <td>-0.062687</td>\n",
       "    </tr>\n",
       "  </tbody>\n",
       "</table>\n",
       "</div>"
      ],
      "text/plain": [
       "      beta1     beta2\n",
       "0  2.049827  0.088809\n",
       "1  2.051711  0.114753\n",
       "2  2.078416  0.003501\n",
       "3  1.978448  0.133783\n",
       "4  1.993521 -0.062687"
      ]
     },
     "execution_count": 11,
     "metadata": {},
     "output_type": "execute_result"
    }
   ],
   "source": [
    "df_sample.head()"
   ]
  },
  {
   "cell_type": "code",
   "execution_count": 12,
   "metadata": {},
   "outputs": [
    {
     "data": {
      "text/plain": [
       "(3, 12)"
      ]
     },
     "execution_count": 12,
     "metadata": {},
     "output_type": "execute_result"
    },
    {
     "data": {
      "image/png": "[encoded data removed]",
      "text/plain": [
       "<matplotlib.figure.Figure at 0x10b510d30>"
      ]
     },
     "metadata": {},
     "output_type": "display_data"
    }
   ],
   "source": [
    "xx = np.linspace(3,7,100)\n",
    "\n",
    "for i in range(df_sample.shape[0]):\n",
    "    beta1 = df_sample.beta1[i]\n",
    "    beta2 = df_sample.beta2[i]\n",
    "\n",
    "    yy = np.exp(beta1+beta2*(xx - xmean))\n",
    "    \n",
    "    plt.plot(xx,yy,color=\"b\",alpha=0.01)\n",
    "\n",
    "plt.plot(df.x,df.y,\"ro\")\n",
    "plt.ylim(3,12)"
   ]
  },
  {
   "cell_type": "markdown",
   "metadata": {},
   "source": [
    "* xxからはx平均を引いたものにbeta2をかけている。\n",
    "* 図9.6にはその説明がなく、「$\\lambda =\\exp(\\beta_1 + \\beta_2 x)$」としているが、正しくは、$\\lambda =\\exp(\\beta_1 + \\beta_2 (x-x_{mean}))$では？"
   ]
  },
  {
   "cell_type": "code",
   "execution_count": 13,
   "metadata": {},
   "outputs": [
    {
     "data": {
      "text/plain": [
       "<matplotlib.collections.PathCollection at 0x10f360b00>"
      ]
     },
     "execution_count": 13,
     "metadata": {},
     "output_type": "execute_result"
    },
    {
     "data": {
      "image/png": "[encoded data removed]",
      "text/plain": [
       "<matplotlib.figure.Figure at 0x10cd3a908>"
      ]
     },
     "metadata": {},
     "output_type": "display_data"
    }
   ],
   "source": [
    "plt.scatter(df_sample.beta1,df_sample.beta2,alpha=0.1)"
   ]
  },
  {
   "cell_type": "markdown",
   "metadata": {},
   "source": [
    "### 9.5.1. 事後分布の統計量"
   ]
  },
  {
   "cell_type": "markdown",
   "metadata": {},
   "source": [
    "* $\\beta_,\\beta_2$の平均、中央値、95％信用区間など。"
   ]
  },
  {
   "cell_type": "markdown",
   "metadata": {},
   "source": [
    "#### Code7"
   ]
  },
  {
   "cell_type": "code",
   "execution_count": 14,
   "metadata": {},
   "outputs": [
    {
     "name": "stdout",
     "output_type": "stream",
     "text": [
      "Inference for Stan model: anon_model_7a822b8ef4fe7305bb018d2388fdda01.\n",
      "3 chains, each with iter=1600; warmup=100; thin=3; \n",
      "post-warmup draws per chain=500, total post-warmup draws=1500.\n",
      "\n",
      "        mean se_mean     sd   2.5%    25%    50%    75%  97.5%  n_eff   Rhat\n",
      "beta1   1.97  2.3e-3   0.08    1.8   1.92   1.98   2.03   2.13   1226    1.0\n",
      "beta2   0.08  1.7e-3   0.07  -0.05   0.04   0.08   0.13   0.21   1500    1.0\n",
      "lp__  144.01    0.03   0.95 141.45 143.63  144.3  144.7 144.95   1328    1.0\n",
      "\n",
      "Samples were drawn using NUTS at Tue Jul 11 16:46:23 2017.\n",
      "For each parameter, n_eff is a crude measure of effective sample size,\n",
      "and Rhat is the potential scale reduction factor on split chains (at \n",
      "convergence, Rhat=1).\n"
     ]
    }
   ],
   "source": [
    "print(fit)"
   ]
  },
  {
   "cell_type": "markdown",
   "metadata": {},
   "source": [
    "* \"lp__\"は対数確率密度\n",
    "* $\\hat R$は$\\beta_1,\\beta_2$共に1.0で問題なさそう。"
   ]
  },
  {
   "cell_type": "markdown",
   "metadata": {},
   "source": [
    "## 9.6. 複数パラメーターのMCMCサンプリング"
   ]
  },
  {
   "cell_type": "markdown",
   "metadata": {},
   "source": [
    "* MCMCアルゴリズムについて説明\n",
    "* 複数パラメーターの事後分布からMCMCサンプリングする方法を考えてみる。\n",
    "* MCMCサンプリングとは、値を少しずつ変更していく方式。\n",
    "    * しかし、複数のパラメーターを同時に変更するのは難しい。\n",
    "        * そこで、$\\beta_1,\\beta_2$の値を交互に更新する方法をとってみる。"
   ]
  },
  {
   "cell_type": "markdown",
   "metadata": {},
   "source": [
    "### 9.6.1. ギブスサンプリング：この章の例題の場合"
   ]
  },
  {
   "cell_type": "markdown",
   "metadata": {},
   "source": [
    "* 様々なアルゴリズムを使ってMCMCサンプリングする。\n",
    "    * その中でもギブスサンプリングが特に重要。\n",
    "* ギブスサンプリングとメトロポリス法の相違点\n",
    "    * メトロポリス法：新しい値の候補をあげ、それに変化するかどうかを決める\n",
    "    * ギブスサンプリング：「新しい値の確率分布」を作り、その確率分布のランダムサンプルを新しい値とする。\n",
    "        * 「新しい値の確率分布」とは、多変量確率分布から一つの変量を除いて、他の変量全てを定数とする一変量確率分布。(全条件付き分布(FCD))\n",
    "        * メトロポリス法と比較した利点\n",
    "            * 各MCMCステップにおいて、元の値と更新された値の相関がより小さい(参考：8.3.2.マルコフ連鎖の定常分布)\n",
    "            * MCMCサンプリングの詳細を指定しなくても良い\n",
    "* ギブスサンプリングのアルゴリズム\n",
    "    1. パラメータ($\\beta_1,\\beta_2$)の初期値を何か決める。\n",
    "    2. 他のパラメーター($\\beta_2$)を定数として、あるパラメーター($\\beta_1$)のFCDを求める。\n",
    "    3. このFCDに従う乱数を1つ発生させ、 パラメーター($\\beta_1$)を更新する。\n",
    "    4. 他のパラメーター($\\beta_2$)について、同様に乱数を発生させ、更新する。\n",
    "    5. ここまでで第1MCMCステップが終了。引き続き、交互にサンプリングする。"
   ]
  },
  {
   "cell_type": "markdown",
   "metadata": {},
   "source": [
    "### 9.6.2. WinBUGSの挙動はどうなっている？"
   ]
  },
  {
   "cell_type": "markdown",
   "metadata": {},
   "source": [
    "* 教科書参照"
   ]
  },
  {
   "cell_type": "markdown",
   "metadata": {},
   "source": [
    "## 9.7. この章のまとめと参考文献"
   ]
  },
  {
   "cell_type": "markdown",
   "metadata": {},
   "source": [
    "* この章の主題\n",
    "    * GLMのベイズモデル化\n",
    "    * 複数のパラメーターの事後分布からのMCMCサンプリング\n",
    "    \n",
    "* 全個体に共通するパラメーターの事前分布として、「どのような値でも構わない」ことを表現する無情報事前分布を指定する\n",
    "* ベイズ統計モデル化したGLMを記述する\n",
    "* MCMCサンプリングを行い、事後分布の統計量の分布を把握。MCMCサンプル列の収束診断を行う\n",
    "* ギブスサンプリングについて\n",
    "* ベイズ統計モデルでもモデル選択ができれば良いが、手法が定まっていない\n",
    "    * 交差検証法\n",
    "    * DIC"
   ]
  },
  {
   "cell_type": "markdown",
   "metadata": {},
   "source": [
    "### 参考サイト、書籍"
   ]
  },
  {
   "cell_type": "markdown",
   "metadata": {},
   "source": [
    "下記のサイトを参考にさせていただきました。\n",
    "* [データ解析のためのモデリング入門第9章をPyStanで - 人間だったら考えて ](http://szdr.hatenablog.com/entry/2016/06/26/004838)\n",
    "* [データ解析のための統計モデリング入門9章後半](https://www.slideshare.net/moa108/9-38868144)\n",
    "* [StanとRでベイズ統計モデリング](http://amzn.to/2uVu97t)　"
   ]
  }
 ],
 "metadata": {
  "kernelspec": {
   "display_name": "Python 3",
   "language": "python",
   "name": "python3"
  },
  "language_info": {
   "codemirror_mode": {
    "name": "ipython",
    "version": 3
   },
   "file_extension": ".py",
   "mimetype": "text/x-python",
   "name": "python",
   "nbconvert_exporter": "python",
   "pygments_lexer": "ipython3",
   "version": "3.6.0"
  }
 },
 "nbformat": 4,
 "nbformat_minor": 2
}
