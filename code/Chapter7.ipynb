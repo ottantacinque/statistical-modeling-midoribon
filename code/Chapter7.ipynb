{
 "cells": [
  {
   "cell_type": "code",
   "execution_count": 1,
   "id": "61faf2da",
   "metadata": {},
   "outputs": [],
   "source": [
    "import pandas as pd\n",
    "import matplotlib.pyplot as plt\n",
    "import numpy as np\n",
    "\n",
    "import scipy.stats as scs\n",
    "import scipy.stats as sct\n",
    "from scipy.stats import binom\n",
    "\n",
    "import statsmodels.api as sm\n",
    "import statsmodels.formula.api as smf\n",
    "\n",
    "import japanize_matplotlib\n",
    "\n",
    "%matplotlib inline"
   ]
  },
  {
   "cell_type": "markdown",
   "id": "a036db0d",
   "metadata": {},
   "source": [
    "# 7.1 例題；GLMでは説明出来ないカウントデータ"
   ]
  },
  {
   "cell_type": "code",
   "execution_count": 12,
   "id": "12f57c2b",
   "metadata": {},
   "outputs": [
    {
     "name": "stdout",
     "output_type": "stream",
     "text": [
      "           N           y           x          id\n",
      "count  100.0  100.000000  100.000000  100.000000\n",
      "mean     8.0    3.810000    4.000000   50.500000\n",
      "std      0.0    3.070534    1.421338   29.011492\n",
      "min      8.0    0.000000    2.000000    1.000000\n",
      "25%      8.0    1.000000    3.000000   25.750000\n",
      "50%      8.0    3.000000    4.000000   50.500000\n",
      "75%      8.0    7.000000    5.000000   75.250000\n",
      "max      8.0    8.000000    6.000000  100.000000\n"
     ]
    },
    {
     "data": {
      "image/png": "[encoded data removed]",
      "text/plain": [
       "<Figure size 432x288 with 1 Axes>"
      ]
     },
     "metadata": {
      "needs_background": "light"
     },
     "output_type": "display_data"
    },
    {
     "data": {
      "text/plain": [
       "'R\\n# plot(jitter(d$x,0.5), d$y)\\n'"
      ]
     },
     "execution_count": 12,
     "metadata": {},
     "output_type": "execute_result"
    }
   ],
   "source": [
    "#データの読み込み、情報取得\n",
    "df = pd.read_csv(\"data7.csv\")\n",
    "print(df.describe())\n",
    "\"\"\"R\n",
    "d <- read.csv(\"data7.csv\")\n",
    "summary(d)\n",
    "\"\"\"\n",
    "\n",
    "# プロットの作成（プロットが重なるのを防ぐために正規分布のズレを加えている）\n",
    "jitter = np.random.normal(loc=0,scale=0.1,size=100)\n",
    "\n",
    "plt.scatter(df['x'] + jitter, df['y'],alpha=0.6)\n",
    "plt.xlabel('葉数$x_i$',fontsize=15)\n",
    "plt.ylabel('種子生存数$y_i$',fontsize=15)\n",
    "plt.show()\n",
    "\n",
    "\"\"\"R\n",
    "# plot(jitter(d$x,0.5), d$y)\n",
    "\"\"\""
   ]
  },
  {
   "cell_type": "code",
   "execution_count": 13,
   "id": "272cf3ac",
   "metadata": {},
   "outputs": [
    {
     "name": "stdout",
     "output_type": "stream",
     "text": [
      "                 Generalized Linear Model Regression Results                  \n",
      "==============================================================================\n",
      "Dep. Variable:      ['y', 'I(N - y)']   No. Observations:                  100\n",
      "Model:                            GLM   Df Residuals:                       98\n",
      "Model Family:                Binomial   Df Model:                            1\n",
      "Link Function:                  Logit   Scale:                          1.0000\n",
      "Method:                          IRLS   Log-Likelihood:                -322.80\n",
      "Date:                Sun, 27 Feb 2022   Deviance:                       513.84\n",
      "Time:                        12:04:57   Pearson chi2:                     428.\n",
      "No. Iterations:                     4   Pseudo R-squ. (CS):             0.6078\n",
      "Covariance Type:            nonrobust                                         \n",
      "==============================================================================\n",
      "                 coef    std err          z      P>|z|      [0.025      0.975]\n",
      "------------------------------------------------------------------------------\n",
      "Intercept     -2.1487      0.237     -9.057      0.000      -2.614      -1.684\n",
      "x              0.5104      0.056      9.179      0.000       0.401       0.619\n",
      "==============================================================================\n"
     ]
    },
    {
     "data": {
      "text/plain": [
       "'R\\nfit <- glm(cbind(y, N - y) ~ x, data = d, family = binomial)\\nsummary(fit)\\n'"
      ]
     },
     "execution_count": 13,
     "metadata": {},
     "output_type": "execute_result"
    }
   ],
   "source": [
    "# GLMを当てはめてみる。\n",
    "model = smf.glm('y + I(N-y)~ x',data=df,family=sm.families.Binomial())\n",
    "result = model.fit()\n",
    "print(result.summary())\n",
    "\n",
    "\"\"\"R\n",
    "fit <- glm(cbind(y, N - y) ~ x, data = d, family = binomial)\n",
    "summary(fit)\n",
    "\"\"\""
   ]
  },
  {
   "cell_type": "code",
   "execution_count": 67,
   "id": "267b172b",
   "metadata": {},
   "outputs": [
    {
     "data": {
      "image/png": "[encoded data removed]",
      "text/plain": [
       "<Figure size 432x288 with 1 Axes>"
      ]
     },
     "metadata": {
      "needs_background": "light"
     },
     "output_type": "display_data"
    },
    {
     "data": {
      "text/plain": [
       "'R\\nlogistic <- function(x) 1 / (1 + exp(- (-2.1487 + 0.5104 * x)))\\nx <- seq(2 ,6, 0.1)\\nplot(jitter(d$x,0.5), d$y)\\npoints(x,logistic(x)*8, type = \"l\")\\n'"
      ]
     },
     "execution_count": 67,
     "metadata": {},
     "output_type": "execute_result"
    }
   ],
   "source": [
    "# 結果をプロットしてみる\n",
    "df_predict = pd.DataFrame()\n",
    "df_predict[\"x\"] = [i/10 for i in range(20, 61)]\n",
    "df_predict[\"y_pred\"] = result.predict(df_predict)*8\n",
    "\n",
    "plt.scatter(df['x']+jitter,df['y'],alpha=0.6)\n",
    "plt.plot(df_predict['x'],df_predict[\"y_pred\"],color='red')\n",
    "plt.xlabel('葉数$x_i$',fontsize=15)\n",
    "plt.ylabel('種子生存数$y_i$',fontsize=15)\n",
    "plt.show()\n",
    "\n",
    "\"\"\"R\n",
    "logistic <- function(x) 1 / (1 + exp(- (-2.1487 + 0.5104 * x)))\n",
    "x <- seq(2 ,6, 0.1)\n",
    "plot(jitter(d$x,0.5), d$y)\n",
    "points(x,logistic(x)*8, type = \"l\")\n",
    "\"\"\""
   ]
  },
  {
   "cell_type": "markdown",
   "id": "31898315",
   "metadata": {},
   "source": [
    "# 7.2 過分散と個体差"
   ]
  },
  {
   "cell_type": "code",
   "execution_count": 106,
   "id": "b36dfbe6",
   "metadata": {},
   "outputs": [
    {
     "name": "stdout",
     "output_type": "stream",
     "text": [
      "0    3\n",
      "1    1\n",
      "2    4\n",
      "3    2\n",
      "4    1\n",
      "5    1\n",
      "6    2\n",
      "7    3\n",
      "8    3\n",
      "Name: y, dtype: int64\n",
      "#####\n",
      "平均: 4.05\n",
      "分散: 8.365789473684211\n",
      "#####\n"
     ]
    },
    {
     "data": {
      "image/png": "[encoded data removed]",
      "text/plain": [
       "<Figure size 432x288 with 1 Axes>"
      ]
     },
     "metadata": {
      "needs_background": "light"
     },
     "output_type": "display_data"
    },
    {
     "data": {
      "text/plain": [
       "'R\\nd4 <- d[d$x==4,]\\n\\nc(mean(d4$x), var(d4$y))\\n\\nhist(d_4$y)\\n'"
      ]
     },
     "execution_count": 106,
     "metadata": {},
     "output_type": "execute_result"
    }
   ],
   "source": [
    "# X_i=4の個体のうち、生存数がy_iであった個体を数える。\n",
    "df_4 = df.loc[df['x']==4] \n",
    "count_data = df_4['y'].value_counts()\n",
    "print(count_data.sort_index())\n",
    "print('#####')\n",
    "\n",
    "# X_i=4のデータの平均と分散を調べる\n",
    "print('平均:', df_4['y'].mean())\n",
    "print('分散:', df_4['y'].var())\n",
    "print('#####')\n",
    "\n",
    "# x=4での種子の生存数をプロットしてみる\n",
    "plt.scatter(count_data.index, count_data.values,alpha=0.8,label='観測データ($x_i=4$)')\n",
    "\n",
    "# GLMから見積もられたX_i=4 の時の二項分布を作成する。\n",
    "q = df_predict.loc[df_predict['x']==4.0,'y_pred'].values[0] / 8\n",
    "yi_list = np.arange(0, 9)\n",
    "plt.plot(yi_list, binom.pmf(yi_list, 8, q) * len(df_4),marker='o',color='black',alpha=0.5,label='理想値（二項分布）')\n",
    "\n",
    "plt.ylim(0,6)\n",
    "plt.xlabel('生存種子数 $y_i$',fontsize=15)\n",
    "plt.ylabel('観測された個体数',fontsize=15)\n",
    "plt.legend()\n",
    "plt.show()\n",
    "\n",
    "\"\"\"R\n",
    "d4 <- d[d$x==4,]\n",
    "\n",
    "c(mean(d4$x), var(d4$y))\n",
    "\n",
    "hist(d_4$y)\n",
    "\"\"\""
   ]
  },
  {
   "cell_type": "markdown",
   "id": "2a264e82",
   "metadata": {},
   "source": [
    "## 7.4 一般化線形混合モデルの最尤推定\n"
   ]
  },
  {
   "cell_type": "code",
   "execution_count": 108,
   "id": "057849fc",
   "metadata": {},
   "outputs": [
    {
     "data": {
      "text/plain": [
       "'R\\nlibrary(glmmML)\\nfit = glmmML(cbind(y, N-y)~x, data=d, family=binomial, cluster=id)\\nsummary(fit)\\n\\n# 結果をプロットしてみる\\nlogistic_glmm <- function(x) 1 / (1 + exp(- (-4.190 + 1.005 * x)))\\nx <- seq(2 ,6, 0.1)\\nplot(jitter(d$x,0.5), d$y)\\npoints(x,logistic_glmm(x)*8, type = \"l\")\\n'"
      ]
     },
     "execution_count": 108,
     "metadata": {},
     "output_type": "execute_result"
    }
   ],
   "source": [
    "# GLMMのパラメーターを推定する。\n",
    "# pythonにはGLMMを実行するパッケージがないらしい\n",
    "\"\"\"R\n",
    "library(glmmML)\n",
    "fit = glmmML(cbind(y, N-y)~x, data=d, family=binomial, cluster=id)\n",
    "summary(fit)\n",
    "\n",
    "# 結果をプロットしてみる\n",
    "logistic_glmm <- function(x) 1 / (1 + exp(- (-4.190 + 1.005 * x)))\n",
    "x <- seq(2 ,6, 0.1)\n",
    "plot(jitter(d$x,0.5), d$y)\n",
    "points(x,logistic_glmm(x)*8, type = \"l\")\n",
    "\"\"\""
   ]
  },
  {
   "cell_type": "markdown",
   "id": "29cc20b4",
   "metadata": {},
   "source": [
    "## 参考\n",
    "- https://github.com/takitsuba/midoribon/blob/master/Chap7/Chap7.ipynb\n",
    "- https://qiita.com/kenmatsu4/items/da59a6fccde0cee4ef49"
   ]
  },
  {
   "cell_type": "code",
   "execution_count": null,
   "id": "d7dd96e9",
   "metadata": {},
   "outputs": [],
   "source": []
  }
 ],
 "metadata": {
  "kernelspec": {
   "display_name": "Python 3 (ipykernel)",
   "language": "python",
   "name": "python3"
  },
  "language_info": {
   "codemirror_mode": {
    "name": "ipython",
    "version": 3
   },
   "file_extension": ".py",
   "mimetype": "text/x-python",
   "name": "python",
   "nbconvert_exporter": "python",
   "pygments_lexer": "ipython3",
   "version": "3.9.10"
  }
 },
 "nbformat": 4,
 "nbformat_minor": 5
}
