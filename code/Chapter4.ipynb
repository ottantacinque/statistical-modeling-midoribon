{
 "cells": [
  {
   "cell_type": "code",
   "execution_count": 1,
   "id": "b5dbee9f",
   "metadata": {},
   "outputs": [],
   "source": [
    "import pandas as pd\n",
    "import matplotlib.pyplot as plt\n",
    "import numpy as np\n",
    "\n",
    "import scipy.stats as scs\n",
    "import statsmodels.api as sm\n",
    "import statsmodels.formula.api as smf\n",
    "\n",
    "%matplotlib inline"
   ]
  },
  {
   "cell_type": "code",
   "execution_count": 2,
   "id": "10b7041d",
   "metadata": {},
   "outputs": [
    {
     "data": {
      "text/plain": [
       "'R\\nd <- read.csv(\"data3a.csv\")\\nd$f <- as.factor(d$f)\\n'"
      ]
     },
     "execution_count": 2,
     "metadata": {},
     "output_type": "execute_result"
    }
   ],
   "source": [
    "# データの読み込みなど\n",
    "data = pd.read_csv(\"data3a.csv\")\n",
    "\n",
    "\"\"\"R\n",
    "d <- read.csv(\"data3a.csv\")\n",
    "d$f <- as.factor(d$f)\n",
    "\"\"\""
   ]
  },
  {
   "cell_type": "markdown",
   "id": "42d4ab86",
   "metadata": {},
   "source": [
    "## 4.2 統計モデルの当てはまりの悪さ：逸脱度"
   ]
  },
  {
   "cell_type": "code",
   "execution_count": 3,
   "id": "a83a9691",
   "metadata": {},
   "outputs": [
    {
     "name": "stdout",
     "output_type": "stream",
     "text": [
      "                 Generalized Linear Model Regression Results                  \n",
      "==============================================================================\n",
      "Dep. Variable:                      y   No. Observations:                  100\n",
      "Model:                            GLM   Df Residuals:                       98\n",
      "Model Family:                 Poisson   Df Model:                            1\n",
      "Link Function:                    log   Scale:                          1.0000\n",
      "Method:                          IRLS   Log-Likelihood:                -235.39\n",
      "Date:                Fri, 11 Feb 2022   Deviance:                       84.993\n",
      "Time:                        22:37:28   Pearson chi2:                     83.8\n",
      "No. Iterations:                     4                                         \n",
      "Covariance Type:            nonrobust                                         \n",
      "==============================================================================\n",
      "                 coef    std err          z      P>|z|      [0.025      0.975]\n",
      "------------------------------------------------------------------------------\n",
      "Intercept      1.2917      0.364      3.552      0.000       0.579       2.005\n",
      "x              0.0757      0.036      2.125      0.034       0.006       0.145\n",
      "==============================================================================\n"
     ]
    },
    {
     "data": {
      "text/plain": [
       "'R\\nfit <- glm(y ~ x, data=d, family=poisson)\\nsummary(fit)\\n'"
      ]
     },
     "execution_count": 3,
     "metadata": {},
     "output_type": "execute_result"
    }
   ],
   "source": [
    "# xモデルのglmの結果表示\n",
    "model = smf.glm('y ~ x',data=data,family=sm.families.Poisson())\n",
    "result = model.fit()\n",
    "print(result.summary())\n",
    "\n",
    "\"\"\"R\n",
    "fit <- glm(y ~ x, data=d, family=poisson)\n",
    "summary(fit)\n",
    "\"\"\""
   ]
  },
  {
   "cell_type": "code",
   "execution_count": null,
   "id": "1e74e2d2",
   "metadata": {},
   "outputs": [],
   "source": [
    "# 対数尤度 logL(lambda)とlambdaの関係を調べる\n",
    "logL = lambda lambda_: sum(poisson.logpmf(data,mu=lambda_))\n",
    "lambda_list = np.arange(2, 5, 0.1)\n",
    "logL_list = [logL(lambda_) for lambda_ in lambda_list]\n",
    "plt.plot(x, logL_list)\n"
   ]
  },
  {
   "cell_type": "code",
   "execution_count": 14,
   "id": "76f7e03c",
   "metadata": {},
   "outputs": [
    {
     "name": "stdout",
     "output_type": "stream",
     "text": [
      "-192.8897525244958\n"
     ]
    },
    {
     "data": {
      "text/plain": [
       "'R\\nsum(log(dpois(d$y, lambda=d$y)))\\n'"
      ]
     },
     "execution_count": 14,
     "metadata": {},
     "output_type": "execute_result"
    }
   ],
   "source": [
    "# フルモデルの最大対数尤度\n",
    "dpois = lambda lambda_:scs.poisson.logpmf(lambda_, mu=lambda_)\n",
    "max_logl = sum(dpois(data[\"y\"]))\n",
    "print(max_logl)\n",
    "\n",
    "\"\"\"R\n",
    "sum(log(dpois(d$y, lambda=d$y)))\n",
    "\"\"\""
   ]
  },
  {
   "cell_type": "code",
   "execution_count": 16,
   "id": "63999919",
   "metadata": {},
   "outputs": [
    {
     "name": "stdout",
     "output_type": "stream",
     "text": [
      "                 Generalized Linear Model Regression Results                  \n",
      "==============================================================================\n",
      "Dep. Variable:                      y   No. Observations:                  100\n",
      "Model:                            GLM   Df Residuals:                       99\n",
      "Model Family:                 Poisson   Df Model:                            0\n",
      "Link Function:                    log   Scale:                          1.0000\n",
      "Method:                          IRLS   Log-Likelihood:                -237.64\n",
      "Date:                Fri, 11 Feb 2022   Deviance:                       89.507\n",
      "Time:                        22:45:07   Pearson chi2:                     87.1\n",
      "No. Iterations:                     4                                         \n",
      "Covariance Type:            nonrobust                                         \n",
      "==============================================================================\n",
      "                 coef    std err          z      P>|z|      [0.025      0.975]\n",
      "------------------------------------------------------------------------------\n",
      "Intercept      2.0580      0.036     57.586      0.000       1.988       2.128\n",
      "==============================================================================\n"
     ]
    },
    {
     "data": {
      "text/plain": [
       "'R\\nfit.null <- glm(formula=y~1, family=poisson, data=d)\\nsummary(fit.null)\\n'"
      ]
     },
     "execution_count": 16,
     "metadata": {},
     "output_type": "execute_result"
    }
   ],
   "source": [
    "# 一定モデルを使った推定\n",
    "model = smf.glm('y ~ 1', data=data, family=sm.families.Poisson())\n",
    "result = model.fit()\n",
    "print(result.summary())\n",
    "\n",
    "\"\"\"R\n",
    "fit.null <- glm(formula=y~1, family=poisson, data=d)\n",
    "summary(fit.null)\n",
    "\"\"\""
   ]
  },
  {
   "cell_type": "code",
   "execution_count": 17,
   "id": "29cdcb34",
   "metadata": {},
   "outputs": [
    {
     "name": "stdout",
     "output_type": "stream",
     "text": [
      "-237.6432213092867\n",
      "df= 0\n"
     ]
    },
    {
     "data": {
      "text/plain": [
       "'R\\nlogLik(fit.null)\\n'"
      ]
     },
     "execution_count": 17,
     "metadata": {},
     "output_type": "execute_result"
    }
   ],
   "source": [
    "# 一定モデルの最大対数尤度\n",
    "print(result.llf)\n",
    "print('df=',result.df_model)\n",
    "\n",
    "\"\"\"R\n",
    "logLik(fit.null)\n",
    "\"\"\""
   ]
  },
  {
   "cell_type": "markdown",
   "id": "ee100d6d",
   "metadata": {},
   "source": [
    "## 参考\n",
    "- https://github.com/takitsuba/midoribon/blob/master/Chap4"
   ]
  }
 ],
 "metadata": {
  "kernelspec": {
   "display_name": "Python 3 (ipykernel)",
   "language": "python",
   "name": "python3"
  },
  "language_info": {
   "codemirror_mode": {
    "name": "ipython",
    "version": 3
   },
   "file_extension": ".py",
   "mimetype": "text/x-python",
   "name": "python",
   "nbconvert_exporter": "python",
   "pygments_lexer": "ipython3",
   "version": "3.8.11"
  }
 },
 "nbformat": 4,
 "nbformat_minor": 5
}
